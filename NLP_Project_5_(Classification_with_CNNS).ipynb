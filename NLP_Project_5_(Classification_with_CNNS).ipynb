{
  "nbformat": 4,
  "nbformat_minor": 0,
  "metadata": {
    "colab": {
      "provenance": []
    },
    "kernelspec": {
      "name": "python3",
      "display_name": "Python 3"
    },
    "language_info": {
      "name": "python"
    },
    "accelerator": "GPU",
    "gpuClass": "standard",
    "widgets": {
      "application/vnd.jupyter.widget-state+json": {
        "3aca537fe1144057bc0775b2a514c2fb": {
          "model_module": "@jupyter-widgets/controls",
          "model_name": "HBoxModel",
          "model_module_version": "1.5.0",
          "state": {
            "_dom_classes": [],
            "_model_module": "@jupyter-widgets/controls",
            "_model_module_version": "1.5.0",
            "_model_name": "HBoxModel",
            "_view_count": null,
            "_view_module": "@jupyter-widgets/controls",
            "_view_module_version": "1.5.0",
            "_view_name": "HBoxView",
            "box_style": "",
            "children": [
              "IPY_MODEL_98815998339e443d95853757df6216a4",
              "IPY_MODEL_39fc285574ab41c4af10056a965f572b",
              "IPY_MODEL_73eb6595231d4cd58e3f19734f12b21b"
            ],
            "layout": "IPY_MODEL_251fa27b03da4b548edc6ef933677ebb"
          }
        },
        "98815998339e443d95853757df6216a4": {
          "model_module": "@jupyter-widgets/controls",
          "model_name": "HTMLModel",
          "model_module_version": "1.5.0",
          "state": {
            "_dom_classes": [],
            "_model_module": "@jupyter-widgets/controls",
            "_model_module_version": "1.5.0",
            "_model_name": "HTMLModel",
            "_view_count": null,
            "_view_module": "@jupyter-widgets/controls",
            "_view_module_version": "1.5.0",
            "_view_name": "HTMLView",
            "description": "",
            "description_tooltip": null,
            "layout": "IPY_MODEL_3751c5170c8042a398fa45d9acda3ff3",
            "placeholder": "​",
            "style": "IPY_MODEL_e0391d9bbdcd498f84a62202d31b7701",
            "value": "Downloading builder script: 100%"
          }
        },
        "39fc285574ab41c4af10056a965f572b": {
          "model_module": "@jupyter-widgets/controls",
          "model_name": "FloatProgressModel",
          "model_module_version": "1.5.0",
          "state": {
            "_dom_classes": [],
            "_model_module": "@jupyter-widgets/controls",
            "_model_module_version": "1.5.0",
            "_model_name": "FloatProgressModel",
            "_view_count": null,
            "_view_module": "@jupyter-widgets/controls",
            "_view_module_version": "1.5.0",
            "_view_name": "ProgressView",
            "bar_style": "success",
            "description": "",
            "description_tooltip": null,
            "layout": "IPY_MODEL_3ec257d3c3b449f7ada6942a2a6e7ddb",
            "max": 4063,
            "min": 0,
            "orientation": "horizontal",
            "style": "IPY_MODEL_9833af993c8545a3a1c9acfb0579facf",
            "value": 4063
          }
        },
        "73eb6595231d4cd58e3f19734f12b21b": {
          "model_module": "@jupyter-widgets/controls",
          "model_name": "HTMLModel",
          "model_module_version": "1.5.0",
          "state": {
            "_dom_classes": [],
            "_model_module": "@jupyter-widgets/controls",
            "_model_module_version": "1.5.0",
            "_model_name": "HTMLModel",
            "_view_count": null,
            "_view_module": "@jupyter-widgets/controls",
            "_view_module_version": "1.5.0",
            "_view_name": "HTMLView",
            "description": "",
            "description_tooltip": null,
            "layout": "IPY_MODEL_3a914edba1d5451fbf1bb0f0ce10927d",
            "placeholder": "​",
            "style": "IPY_MODEL_1b29831c87ed40c99c322d6a433eba93",
            "value": " 4.06k/4.06k [00:00&lt;00:00, 230kB/s]"
          }
        },
        "251fa27b03da4b548edc6ef933677ebb": {
          "model_module": "@jupyter-widgets/base",
          "model_name": "LayoutModel",
          "model_module_version": "1.2.0",
          "state": {
            "_model_module": "@jupyter-widgets/base",
            "_model_module_version": "1.2.0",
            "_model_name": "LayoutModel",
            "_view_count": null,
            "_view_module": "@jupyter-widgets/base",
            "_view_module_version": "1.2.0",
            "_view_name": "LayoutView",
            "align_content": null,
            "align_items": null,
            "align_self": null,
            "border": null,
            "bottom": null,
            "display": null,
            "flex": null,
            "flex_flow": null,
            "grid_area": null,
            "grid_auto_columns": null,
            "grid_auto_flow": null,
            "grid_auto_rows": null,
            "grid_column": null,
            "grid_gap": null,
            "grid_row": null,
            "grid_template_areas": null,
            "grid_template_columns": null,
            "grid_template_rows": null,
            "height": null,
            "justify_content": null,
            "justify_items": null,
            "left": null,
            "margin": null,
            "max_height": null,
            "max_width": null,
            "min_height": null,
            "min_width": null,
            "object_fit": null,
            "object_position": null,
            "order": null,
            "overflow": null,
            "overflow_x": null,
            "overflow_y": null,
            "padding": null,
            "right": null,
            "top": null,
            "visibility": null,
            "width": null
          }
        },
        "3751c5170c8042a398fa45d9acda3ff3": {
          "model_module": "@jupyter-widgets/base",
          "model_name": "LayoutModel",
          "model_module_version": "1.2.0",
          "state": {
            "_model_module": "@jupyter-widgets/base",
            "_model_module_version": "1.2.0",
            "_model_name": "LayoutModel",
            "_view_count": null,
            "_view_module": "@jupyter-widgets/base",
            "_view_module_version": "1.2.0",
            "_view_name": "LayoutView",
            "align_content": null,
            "align_items": null,
            "align_self": null,
            "border": null,
            "bottom": null,
            "display": null,
            "flex": null,
            "flex_flow": null,
            "grid_area": null,
            "grid_auto_columns": null,
            "grid_auto_flow": null,
            "grid_auto_rows": null,
            "grid_column": null,
            "grid_gap": null,
            "grid_row": null,
            "grid_template_areas": null,
            "grid_template_columns": null,
            "grid_template_rows": null,
            "height": null,
            "justify_content": null,
            "justify_items": null,
            "left": null,
            "margin": null,
            "max_height": null,
            "max_width": null,
            "min_height": null,
            "min_width": null,
            "object_fit": null,
            "object_position": null,
            "order": null,
            "overflow": null,
            "overflow_x": null,
            "overflow_y": null,
            "padding": null,
            "right": null,
            "top": null,
            "visibility": null,
            "width": null
          }
        },
        "e0391d9bbdcd498f84a62202d31b7701": {
          "model_module": "@jupyter-widgets/controls",
          "model_name": "DescriptionStyleModel",
          "model_module_version": "1.5.0",
          "state": {
            "_model_module": "@jupyter-widgets/controls",
            "_model_module_version": "1.5.0",
            "_model_name": "DescriptionStyleModel",
            "_view_count": null,
            "_view_module": "@jupyter-widgets/base",
            "_view_module_version": "1.2.0",
            "_view_name": "StyleView",
            "description_width": ""
          }
        },
        "3ec257d3c3b449f7ada6942a2a6e7ddb": {
          "model_module": "@jupyter-widgets/base",
          "model_name": "LayoutModel",
          "model_module_version": "1.2.0",
          "state": {
            "_model_module": "@jupyter-widgets/base",
            "_model_module_version": "1.2.0",
            "_model_name": "LayoutModel",
            "_view_count": null,
            "_view_module": "@jupyter-widgets/base",
            "_view_module_version": "1.2.0",
            "_view_name": "LayoutView",
            "align_content": null,
            "align_items": null,
            "align_self": null,
            "border": null,
            "bottom": null,
            "display": null,
            "flex": null,
            "flex_flow": null,
            "grid_area": null,
            "grid_auto_columns": null,
            "grid_auto_flow": null,
            "grid_auto_rows": null,
            "grid_column": null,
            "grid_gap": null,
            "grid_row": null,
            "grid_template_areas": null,
            "grid_template_columns": null,
            "grid_template_rows": null,
            "height": null,
            "justify_content": null,
            "justify_items": null,
            "left": null,
            "margin": null,
            "max_height": null,
            "max_width": null,
            "min_height": null,
            "min_width": null,
            "object_fit": null,
            "object_position": null,
            "order": null,
            "overflow": null,
            "overflow_x": null,
            "overflow_y": null,
            "padding": null,
            "right": null,
            "top": null,
            "visibility": null,
            "width": null
          }
        },
        "9833af993c8545a3a1c9acfb0579facf": {
          "model_module": "@jupyter-widgets/controls",
          "model_name": "ProgressStyleModel",
          "model_module_version": "1.5.0",
          "state": {
            "_model_module": "@jupyter-widgets/controls",
            "_model_module_version": "1.5.0",
            "_model_name": "ProgressStyleModel",
            "_view_count": null,
            "_view_module": "@jupyter-widgets/base",
            "_view_module_version": "1.2.0",
            "_view_name": "StyleView",
            "bar_color": null,
            "description_width": ""
          }
        },
        "3a914edba1d5451fbf1bb0f0ce10927d": {
          "model_module": "@jupyter-widgets/base",
          "model_name": "LayoutModel",
          "model_module_version": "1.2.0",
          "state": {
            "_model_module": "@jupyter-widgets/base",
            "_model_module_version": "1.2.0",
            "_model_name": "LayoutModel",
            "_view_count": null,
            "_view_module": "@jupyter-widgets/base",
            "_view_module_version": "1.2.0",
            "_view_name": "LayoutView",
            "align_content": null,
            "align_items": null,
            "align_self": null,
            "border": null,
            "bottom": null,
            "display": null,
            "flex": null,
            "flex_flow": null,
            "grid_area": null,
            "grid_auto_columns": null,
            "grid_auto_flow": null,
            "grid_auto_rows": null,
            "grid_column": null,
            "grid_gap": null,
            "grid_row": null,
            "grid_template_areas": null,
            "grid_template_columns": null,
            "grid_template_rows": null,
            "height": null,
            "justify_content": null,
            "justify_items": null,
            "left": null,
            "margin": null,
            "max_height": null,
            "max_width": null,
            "min_height": null,
            "min_width": null,
            "object_fit": null,
            "object_position": null,
            "order": null,
            "overflow": null,
            "overflow_x": null,
            "overflow_y": null,
            "padding": null,
            "right": null,
            "top": null,
            "visibility": null,
            "width": null
          }
        },
        "1b29831c87ed40c99c322d6a433eba93": {
          "model_module": "@jupyter-widgets/controls",
          "model_name": "DescriptionStyleModel",
          "model_module_version": "1.5.0",
          "state": {
            "_model_module": "@jupyter-widgets/controls",
            "_model_module_version": "1.5.0",
            "_model_name": "DescriptionStyleModel",
            "_view_count": null,
            "_view_module": "@jupyter-widgets/base",
            "_view_module_version": "1.2.0",
            "_view_name": "StyleView",
            "description_width": ""
          }
        },
        "4fcb4f8e196f488fa1efd1c6f55c6358": {
          "model_module": "@jupyter-widgets/controls",
          "model_name": "HBoxModel",
          "model_module_version": "1.5.0",
          "state": {
            "_dom_classes": [],
            "_model_module": "@jupyter-widgets/controls",
            "_model_module_version": "1.5.0",
            "_model_name": "HBoxModel",
            "_view_count": null,
            "_view_module": "@jupyter-widgets/controls",
            "_view_module_version": "1.5.0",
            "_view_name": "HBoxView",
            "box_style": "",
            "children": [
              "IPY_MODEL_13e0df3300b340b9846388dc7125f73e",
              "IPY_MODEL_6c076fc3b2944fceb9213c7da9629766",
              "IPY_MODEL_869bf6322a34482486f282690cd1f406"
            ],
            "layout": "IPY_MODEL_4417689bc1bd4e0f8f9395842d233210"
          }
        },
        "13e0df3300b340b9846388dc7125f73e": {
          "model_module": "@jupyter-widgets/controls",
          "model_name": "HTMLModel",
          "model_module_version": "1.5.0",
          "state": {
            "_dom_classes": [],
            "_model_module": "@jupyter-widgets/controls",
            "_model_module_version": "1.5.0",
            "_model_name": "HTMLModel",
            "_view_count": null,
            "_view_module": "@jupyter-widgets/controls",
            "_view_module_version": "1.5.0",
            "_view_name": "HTMLView",
            "description": "",
            "description_tooltip": null,
            "layout": "IPY_MODEL_6afe5df7e7224e30a261e931e81465ec",
            "placeholder": "​",
            "style": "IPY_MODEL_9ee893d563c441cc8884f49d07eacbb1",
            "value": "Downloading metadata: 100%"
          }
        },
        "6c076fc3b2944fceb9213c7da9629766": {
          "model_module": "@jupyter-widgets/controls",
          "model_name": "FloatProgressModel",
          "model_module_version": "1.5.0",
          "state": {
            "_dom_classes": [],
            "_model_module": "@jupyter-widgets/controls",
            "_model_module_version": "1.5.0",
            "_model_name": "FloatProgressModel",
            "_view_count": null,
            "_view_module": "@jupyter-widgets/controls",
            "_view_module_version": "1.5.0",
            "_view_name": "ProgressView",
            "bar_style": "success",
            "description": "",
            "description_tooltip": null,
            "layout": "IPY_MODEL_6ec7b03c3ff546f499807d078566a57f",
            "max": 2653,
            "min": 0,
            "orientation": "horizontal",
            "style": "IPY_MODEL_8fd2819f9ba34c47b4b7df5f36b1755b",
            "value": 2653
          }
        },
        "869bf6322a34482486f282690cd1f406": {
          "model_module": "@jupyter-widgets/controls",
          "model_name": "HTMLModel",
          "model_module_version": "1.5.0",
          "state": {
            "_dom_classes": [],
            "_model_module": "@jupyter-widgets/controls",
            "_model_module_version": "1.5.0",
            "_model_name": "HTMLModel",
            "_view_count": null,
            "_view_module": "@jupyter-widgets/controls",
            "_view_module_version": "1.5.0",
            "_view_name": "HTMLView",
            "description": "",
            "description_tooltip": null,
            "layout": "IPY_MODEL_8f8fb8a5c9254ec182afcf02adf11fd9",
            "placeholder": "​",
            "style": "IPY_MODEL_910e95d8117040a59e9eece83370d53a",
            "value": " 2.65k/2.65k [00:00&lt;00:00, 164kB/s]"
          }
        },
        "4417689bc1bd4e0f8f9395842d233210": {
          "model_module": "@jupyter-widgets/base",
          "model_name": "LayoutModel",
          "model_module_version": "1.2.0",
          "state": {
            "_model_module": "@jupyter-widgets/base",
            "_model_module_version": "1.2.0",
            "_model_name": "LayoutModel",
            "_view_count": null,
            "_view_module": "@jupyter-widgets/base",
            "_view_module_version": "1.2.0",
            "_view_name": "LayoutView",
            "align_content": null,
            "align_items": null,
            "align_self": null,
            "border": null,
            "bottom": null,
            "display": null,
            "flex": null,
            "flex_flow": null,
            "grid_area": null,
            "grid_auto_columns": null,
            "grid_auto_flow": null,
            "grid_auto_rows": null,
            "grid_column": null,
            "grid_gap": null,
            "grid_row": null,
            "grid_template_areas": null,
            "grid_template_columns": null,
            "grid_template_rows": null,
            "height": null,
            "justify_content": null,
            "justify_items": null,
            "left": null,
            "margin": null,
            "max_height": null,
            "max_width": null,
            "min_height": null,
            "min_width": null,
            "object_fit": null,
            "object_position": null,
            "order": null,
            "overflow": null,
            "overflow_x": null,
            "overflow_y": null,
            "padding": null,
            "right": null,
            "top": null,
            "visibility": null,
            "width": null
          }
        },
        "6afe5df7e7224e30a261e931e81465ec": {
          "model_module": "@jupyter-widgets/base",
          "model_name": "LayoutModel",
          "model_module_version": "1.2.0",
          "state": {
            "_model_module": "@jupyter-widgets/base",
            "_model_module_version": "1.2.0",
            "_model_name": "LayoutModel",
            "_view_count": null,
            "_view_module": "@jupyter-widgets/base",
            "_view_module_version": "1.2.0",
            "_view_name": "LayoutView",
            "align_content": null,
            "align_items": null,
            "align_self": null,
            "border": null,
            "bottom": null,
            "display": null,
            "flex": null,
            "flex_flow": null,
            "grid_area": null,
            "grid_auto_columns": null,
            "grid_auto_flow": null,
            "grid_auto_rows": null,
            "grid_column": null,
            "grid_gap": null,
            "grid_row": null,
            "grid_template_areas": null,
            "grid_template_columns": null,
            "grid_template_rows": null,
            "height": null,
            "justify_content": null,
            "justify_items": null,
            "left": null,
            "margin": null,
            "max_height": null,
            "max_width": null,
            "min_height": null,
            "min_width": null,
            "object_fit": null,
            "object_position": null,
            "order": null,
            "overflow": null,
            "overflow_x": null,
            "overflow_y": null,
            "padding": null,
            "right": null,
            "top": null,
            "visibility": null,
            "width": null
          }
        },
        "9ee893d563c441cc8884f49d07eacbb1": {
          "model_module": "@jupyter-widgets/controls",
          "model_name": "DescriptionStyleModel",
          "model_module_version": "1.5.0",
          "state": {
            "_model_module": "@jupyter-widgets/controls",
            "_model_module_version": "1.5.0",
            "_model_name": "DescriptionStyleModel",
            "_view_count": null,
            "_view_module": "@jupyter-widgets/base",
            "_view_module_version": "1.2.0",
            "_view_name": "StyleView",
            "description_width": ""
          }
        },
        "6ec7b03c3ff546f499807d078566a57f": {
          "model_module": "@jupyter-widgets/base",
          "model_name": "LayoutModel",
          "model_module_version": "1.2.0",
          "state": {
            "_model_module": "@jupyter-widgets/base",
            "_model_module_version": "1.2.0",
            "_model_name": "LayoutModel",
            "_view_count": null,
            "_view_module": "@jupyter-widgets/base",
            "_view_module_version": "1.2.0",
            "_view_name": "LayoutView",
            "align_content": null,
            "align_items": null,
            "align_self": null,
            "border": null,
            "bottom": null,
            "display": null,
            "flex": null,
            "flex_flow": null,
            "grid_area": null,
            "grid_auto_columns": null,
            "grid_auto_flow": null,
            "grid_auto_rows": null,
            "grid_column": null,
            "grid_gap": null,
            "grid_row": null,
            "grid_template_areas": null,
            "grid_template_columns": null,
            "grid_template_rows": null,
            "height": null,
            "justify_content": null,
            "justify_items": null,
            "left": null,
            "margin": null,
            "max_height": null,
            "max_width": null,
            "min_height": null,
            "min_width": null,
            "object_fit": null,
            "object_position": null,
            "order": null,
            "overflow": null,
            "overflow_x": null,
            "overflow_y": null,
            "padding": null,
            "right": null,
            "top": null,
            "visibility": null,
            "width": null
          }
        },
        "8fd2819f9ba34c47b4b7df5f36b1755b": {
          "model_module": "@jupyter-widgets/controls",
          "model_name": "ProgressStyleModel",
          "model_module_version": "1.5.0",
          "state": {
            "_model_module": "@jupyter-widgets/controls",
            "_model_module_version": "1.5.0",
            "_model_name": "ProgressStyleModel",
            "_view_count": null,
            "_view_module": "@jupyter-widgets/base",
            "_view_module_version": "1.2.0",
            "_view_name": "StyleView",
            "bar_color": null,
            "description_width": ""
          }
        },
        "8f8fb8a5c9254ec182afcf02adf11fd9": {
          "model_module": "@jupyter-widgets/base",
          "model_name": "LayoutModel",
          "model_module_version": "1.2.0",
          "state": {
            "_model_module": "@jupyter-widgets/base",
            "_model_module_version": "1.2.0",
            "_model_name": "LayoutModel",
            "_view_count": null,
            "_view_module": "@jupyter-widgets/base",
            "_view_module_version": "1.2.0",
            "_view_name": "LayoutView",
            "align_content": null,
            "align_items": null,
            "align_self": null,
            "border": null,
            "bottom": null,
            "display": null,
            "flex": null,
            "flex_flow": null,
            "grid_area": null,
            "grid_auto_columns": null,
            "grid_auto_flow": null,
            "grid_auto_rows": null,
            "grid_column": null,
            "grid_gap": null,
            "grid_row": null,
            "grid_template_areas": null,
            "grid_template_columns": null,
            "grid_template_rows": null,
            "height": null,
            "justify_content": null,
            "justify_items": null,
            "left": null,
            "margin": null,
            "max_height": null,
            "max_width": null,
            "min_height": null,
            "min_width": null,
            "object_fit": null,
            "object_position": null,
            "order": null,
            "overflow": null,
            "overflow_x": null,
            "overflow_y": null,
            "padding": null,
            "right": null,
            "top": null,
            "visibility": null,
            "width": null
          }
        },
        "910e95d8117040a59e9eece83370d53a": {
          "model_module": "@jupyter-widgets/controls",
          "model_name": "DescriptionStyleModel",
          "model_module_version": "1.5.0",
          "state": {
            "_model_module": "@jupyter-widgets/controls",
            "_model_module_version": "1.5.0",
            "_model_name": "DescriptionStyleModel",
            "_view_count": null,
            "_view_module": "@jupyter-widgets/base",
            "_view_module_version": "1.2.0",
            "_view_name": "StyleView",
            "description_width": ""
          }
        },
        "c0f0fceee43b4cd2b6e0fe2c037685cd": {
          "model_module": "@jupyter-widgets/controls",
          "model_name": "HBoxModel",
          "model_module_version": "1.5.0",
          "state": {
            "_dom_classes": [],
            "_model_module": "@jupyter-widgets/controls",
            "_model_module_version": "1.5.0",
            "_model_name": "HBoxModel",
            "_view_count": null,
            "_view_module": "@jupyter-widgets/controls",
            "_view_module_version": "1.5.0",
            "_view_name": "HBoxView",
            "box_style": "",
            "children": [
              "IPY_MODEL_2d82ae0c47e74193ba1850f294ac1aac",
              "IPY_MODEL_30a9d87eec95498ca457a6ad245a6a16",
              "IPY_MODEL_8eb0ce5478934ada9fed67b5b2295336"
            ],
            "layout": "IPY_MODEL_9a2fc6a9b0c54e7092400f1494788925"
          }
        },
        "2d82ae0c47e74193ba1850f294ac1aac": {
          "model_module": "@jupyter-widgets/controls",
          "model_name": "HTMLModel",
          "model_module_version": "1.5.0",
          "state": {
            "_dom_classes": [],
            "_model_module": "@jupyter-widgets/controls",
            "_model_module_version": "1.5.0",
            "_model_name": "HTMLModel",
            "_view_count": null,
            "_view_module": "@jupyter-widgets/controls",
            "_view_module_version": "1.5.0",
            "_view_name": "HTMLView",
            "description": "",
            "description_tooltip": null,
            "layout": "IPY_MODEL_88704cd9711d4fd594c10fa4347dcfd9",
            "placeholder": "​",
            "style": "IPY_MODEL_d7a51c02900046cc9c2db4a456c07ea0",
            "value": "Downloading readme: 100%"
          }
        },
        "30a9d87eec95498ca457a6ad245a6a16": {
          "model_module": "@jupyter-widgets/controls",
          "model_name": "FloatProgressModel",
          "model_module_version": "1.5.0",
          "state": {
            "_dom_classes": [],
            "_model_module": "@jupyter-widgets/controls",
            "_model_module_version": "1.5.0",
            "_model_name": "FloatProgressModel",
            "_view_count": null,
            "_view_module": "@jupyter-widgets/controls",
            "_view_module_version": "1.5.0",
            "_view_name": "ProgressView",
            "bar_style": "success",
            "description": "",
            "description_tooltip": null,
            "layout": "IPY_MODEL_2e5adfb7b15048d98e8c38cb7bd2e38a",
            "max": 7938,
            "min": 0,
            "orientation": "horizontal",
            "style": "IPY_MODEL_a0eb9e2dcfe24e5f9533a1d3c241ce99",
            "value": 7938
          }
        },
        "8eb0ce5478934ada9fed67b5b2295336": {
          "model_module": "@jupyter-widgets/controls",
          "model_name": "HTMLModel",
          "model_module_version": "1.5.0",
          "state": {
            "_dom_classes": [],
            "_model_module": "@jupyter-widgets/controls",
            "_model_module_version": "1.5.0",
            "_model_name": "HTMLModel",
            "_view_count": null,
            "_view_module": "@jupyter-widgets/controls",
            "_view_module_version": "1.5.0",
            "_view_name": "HTMLView",
            "description": "",
            "description_tooltip": null,
            "layout": "IPY_MODEL_9d7b9c2c21c34753a4e804248ab62d7c",
            "placeholder": "​",
            "style": "IPY_MODEL_75071c4951a540f1935e2a516ff8f6d4",
            "value": " 7.94k/7.94k [00:00&lt;00:00, 491kB/s]"
          }
        },
        "9a2fc6a9b0c54e7092400f1494788925": {
          "model_module": "@jupyter-widgets/base",
          "model_name": "LayoutModel",
          "model_module_version": "1.2.0",
          "state": {
            "_model_module": "@jupyter-widgets/base",
            "_model_module_version": "1.2.0",
            "_model_name": "LayoutModel",
            "_view_count": null,
            "_view_module": "@jupyter-widgets/base",
            "_view_module_version": "1.2.0",
            "_view_name": "LayoutView",
            "align_content": null,
            "align_items": null,
            "align_self": null,
            "border": null,
            "bottom": null,
            "display": null,
            "flex": null,
            "flex_flow": null,
            "grid_area": null,
            "grid_auto_columns": null,
            "grid_auto_flow": null,
            "grid_auto_rows": null,
            "grid_column": null,
            "grid_gap": null,
            "grid_row": null,
            "grid_template_areas": null,
            "grid_template_columns": null,
            "grid_template_rows": null,
            "height": null,
            "justify_content": null,
            "justify_items": null,
            "left": null,
            "margin": null,
            "max_height": null,
            "max_width": null,
            "min_height": null,
            "min_width": null,
            "object_fit": null,
            "object_position": null,
            "order": null,
            "overflow": null,
            "overflow_x": null,
            "overflow_y": null,
            "padding": null,
            "right": null,
            "top": null,
            "visibility": null,
            "width": null
          }
        },
        "88704cd9711d4fd594c10fa4347dcfd9": {
          "model_module": "@jupyter-widgets/base",
          "model_name": "LayoutModel",
          "model_module_version": "1.2.0",
          "state": {
            "_model_module": "@jupyter-widgets/base",
            "_model_module_version": "1.2.0",
            "_model_name": "LayoutModel",
            "_view_count": null,
            "_view_module": "@jupyter-widgets/base",
            "_view_module_version": "1.2.0",
            "_view_name": "LayoutView",
            "align_content": null,
            "align_items": null,
            "align_self": null,
            "border": null,
            "bottom": null,
            "display": null,
            "flex": null,
            "flex_flow": null,
            "grid_area": null,
            "grid_auto_columns": null,
            "grid_auto_flow": null,
            "grid_auto_rows": null,
            "grid_column": null,
            "grid_gap": null,
            "grid_row": null,
            "grid_template_areas": null,
            "grid_template_columns": null,
            "grid_template_rows": null,
            "height": null,
            "justify_content": null,
            "justify_items": null,
            "left": null,
            "margin": null,
            "max_height": null,
            "max_width": null,
            "min_height": null,
            "min_width": null,
            "object_fit": null,
            "object_position": null,
            "order": null,
            "overflow": null,
            "overflow_x": null,
            "overflow_y": null,
            "padding": null,
            "right": null,
            "top": null,
            "visibility": null,
            "width": null
          }
        },
        "d7a51c02900046cc9c2db4a456c07ea0": {
          "model_module": "@jupyter-widgets/controls",
          "model_name": "DescriptionStyleModel",
          "model_module_version": "1.5.0",
          "state": {
            "_model_module": "@jupyter-widgets/controls",
            "_model_module_version": "1.5.0",
            "_model_name": "DescriptionStyleModel",
            "_view_count": null,
            "_view_module": "@jupyter-widgets/base",
            "_view_module_version": "1.2.0",
            "_view_name": "StyleView",
            "description_width": ""
          }
        },
        "2e5adfb7b15048d98e8c38cb7bd2e38a": {
          "model_module": "@jupyter-widgets/base",
          "model_name": "LayoutModel",
          "model_module_version": "1.2.0",
          "state": {
            "_model_module": "@jupyter-widgets/base",
            "_model_module_version": "1.2.0",
            "_model_name": "LayoutModel",
            "_view_count": null,
            "_view_module": "@jupyter-widgets/base",
            "_view_module_version": "1.2.0",
            "_view_name": "LayoutView",
            "align_content": null,
            "align_items": null,
            "align_self": null,
            "border": null,
            "bottom": null,
            "display": null,
            "flex": null,
            "flex_flow": null,
            "grid_area": null,
            "grid_auto_columns": null,
            "grid_auto_flow": null,
            "grid_auto_rows": null,
            "grid_column": null,
            "grid_gap": null,
            "grid_row": null,
            "grid_template_areas": null,
            "grid_template_columns": null,
            "grid_template_rows": null,
            "height": null,
            "justify_content": null,
            "justify_items": null,
            "left": null,
            "margin": null,
            "max_height": null,
            "max_width": null,
            "min_height": null,
            "min_width": null,
            "object_fit": null,
            "object_position": null,
            "order": null,
            "overflow": null,
            "overflow_x": null,
            "overflow_y": null,
            "padding": null,
            "right": null,
            "top": null,
            "visibility": null,
            "width": null
          }
        },
        "a0eb9e2dcfe24e5f9533a1d3c241ce99": {
          "model_module": "@jupyter-widgets/controls",
          "model_name": "ProgressStyleModel",
          "model_module_version": "1.5.0",
          "state": {
            "_model_module": "@jupyter-widgets/controls",
            "_model_module_version": "1.5.0",
            "_model_name": "ProgressStyleModel",
            "_view_count": null,
            "_view_module": "@jupyter-widgets/base",
            "_view_module_version": "1.2.0",
            "_view_name": "StyleView",
            "bar_color": null,
            "description_width": ""
          }
        },
        "9d7b9c2c21c34753a4e804248ab62d7c": {
          "model_module": "@jupyter-widgets/base",
          "model_name": "LayoutModel",
          "model_module_version": "1.2.0",
          "state": {
            "_model_module": "@jupyter-widgets/base",
            "_model_module_version": "1.2.0",
            "_model_name": "LayoutModel",
            "_view_count": null,
            "_view_module": "@jupyter-widgets/base",
            "_view_module_version": "1.2.0",
            "_view_name": "LayoutView",
            "align_content": null,
            "align_items": null,
            "align_self": null,
            "border": null,
            "bottom": null,
            "display": null,
            "flex": null,
            "flex_flow": null,
            "grid_area": null,
            "grid_auto_columns": null,
            "grid_auto_flow": null,
            "grid_auto_rows": null,
            "grid_column": null,
            "grid_gap": null,
            "grid_row": null,
            "grid_template_areas": null,
            "grid_template_columns": null,
            "grid_template_rows": null,
            "height": null,
            "justify_content": null,
            "justify_items": null,
            "left": null,
            "margin": null,
            "max_height": null,
            "max_width": null,
            "min_height": null,
            "min_width": null,
            "object_fit": null,
            "object_position": null,
            "order": null,
            "overflow": null,
            "overflow_x": null,
            "overflow_y": null,
            "padding": null,
            "right": null,
            "top": null,
            "visibility": null,
            "width": null
          }
        },
        "75071c4951a540f1935e2a516ff8f6d4": {
          "model_module": "@jupyter-widgets/controls",
          "model_name": "DescriptionStyleModel",
          "model_module_version": "1.5.0",
          "state": {
            "_model_module": "@jupyter-widgets/controls",
            "_model_module_version": "1.5.0",
            "_model_name": "DescriptionStyleModel",
            "_view_count": null,
            "_view_module": "@jupyter-widgets/base",
            "_view_module_version": "1.2.0",
            "_view_name": "StyleView",
            "description_width": ""
          }
        },
        "21f96510346b4b0aa1e770c08edc1663": {
          "model_module": "@jupyter-widgets/controls",
          "model_name": "HBoxModel",
          "model_module_version": "1.5.0",
          "state": {
            "_dom_classes": [],
            "_model_module": "@jupyter-widgets/controls",
            "_model_module_version": "1.5.0",
            "_model_name": "HBoxModel",
            "_view_count": null,
            "_view_module": "@jupyter-widgets/controls",
            "_view_module_version": "1.5.0",
            "_view_name": "HBoxView",
            "box_style": "",
            "children": [
              "IPY_MODEL_d88cf8da3d60487c885af1ea4f1c2b61",
              "IPY_MODEL_9e0e99173e63460f96342cdf282f492f",
              "IPY_MODEL_11421d2f6df04b57bf4f21bd65e59be7"
            ],
            "layout": "IPY_MODEL_46b8a3d8b37a40cbab3d9f3a3dcec129"
          }
        },
        "d88cf8da3d60487c885af1ea4f1c2b61": {
          "model_module": "@jupyter-widgets/controls",
          "model_name": "HTMLModel",
          "model_module_version": "1.5.0",
          "state": {
            "_dom_classes": [],
            "_model_module": "@jupyter-widgets/controls",
            "_model_module_version": "1.5.0",
            "_model_name": "HTMLModel",
            "_view_count": null,
            "_view_module": "@jupyter-widgets/controls",
            "_view_module_version": "1.5.0",
            "_view_name": "HTMLView",
            "description": "",
            "description_tooltip": null,
            "layout": "IPY_MODEL_3212023f54ae458eb992a7fc932b73ae",
            "placeholder": "​",
            "style": "IPY_MODEL_995f8dff58ee4b9faced7a5f24944878",
            "value": "Downloading data: "
          }
        },
        "9e0e99173e63460f96342cdf282f492f": {
          "model_module": "@jupyter-widgets/controls",
          "model_name": "FloatProgressModel",
          "model_module_version": "1.5.0",
          "state": {
            "_dom_classes": [],
            "_model_module": "@jupyter-widgets/controls",
            "_model_module_version": "1.5.0",
            "_model_name": "FloatProgressModel",
            "_view_count": null,
            "_view_module": "@jupyter-widgets/controls",
            "_view_module_version": "1.5.0",
            "_view_name": "ProgressView",
            "bar_style": "success",
            "description": "",
            "description_tooltip": null,
            "layout": "IPY_MODEL_0df93f1acce14aeea0fed8a1040013d7",
            "max": 11045148,
            "min": 0,
            "orientation": "horizontal",
            "style": "IPY_MODEL_74e518186c43439280856df5308719cf",
            "value": 11045148
          }
        },
        "11421d2f6df04b57bf4f21bd65e59be7": {
          "model_module": "@jupyter-widgets/controls",
          "model_name": "HTMLModel",
          "model_module_version": "1.5.0",
          "state": {
            "_dom_classes": [],
            "_model_module": "@jupyter-widgets/controls",
            "_model_module_version": "1.5.0",
            "_model_name": "HTMLModel",
            "_view_count": null,
            "_view_module": "@jupyter-widgets/controls",
            "_view_module_version": "1.5.0",
            "_view_name": "HTMLView",
            "description": "",
            "description_tooltip": null,
            "layout": "IPY_MODEL_264aec7af48c4471b1e2b879dc7f7dbd",
            "placeholder": "​",
            "style": "IPY_MODEL_28cd0dfc8ffc44149bc425b99bf7c241",
            "value": " 29.5M/? [00:00&lt;00:00, 65.6MB/s]"
          }
        },
        "46b8a3d8b37a40cbab3d9f3a3dcec129": {
          "model_module": "@jupyter-widgets/base",
          "model_name": "LayoutModel",
          "model_module_version": "1.2.0",
          "state": {
            "_model_module": "@jupyter-widgets/base",
            "_model_module_version": "1.2.0",
            "_model_name": "LayoutModel",
            "_view_count": null,
            "_view_module": "@jupyter-widgets/base",
            "_view_module_version": "1.2.0",
            "_view_name": "LayoutView",
            "align_content": null,
            "align_items": null,
            "align_self": null,
            "border": null,
            "bottom": null,
            "display": null,
            "flex": null,
            "flex_flow": null,
            "grid_area": null,
            "grid_auto_columns": null,
            "grid_auto_flow": null,
            "grid_auto_rows": null,
            "grid_column": null,
            "grid_gap": null,
            "grid_row": null,
            "grid_template_areas": null,
            "grid_template_columns": null,
            "grid_template_rows": null,
            "height": null,
            "justify_content": null,
            "justify_items": null,
            "left": null,
            "margin": null,
            "max_height": null,
            "max_width": null,
            "min_height": null,
            "min_width": null,
            "object_fit": null,
            "object_position": null,
            "order": null,
            "overflow": null,
            "overflow_x": null,
            "overflow_y": null,
            "padding": null,
            "right": null,
            "top": null,
            "visibility": null,
            "width": null
          }
        },
        "3212023f54ae458eb992a7fc932b73ae": {
          "model_module": "@jupyter-widgets/base",
          "model_name": "LayoutModel",
          "model_module_version": "1.2.0",
          "state": {
            "_model_module": "@jupyter-widgets/base",
            "_model_module_version": "1.2.0",
            "_model_name": "LayoutModel",
            "_view_count": null,
            "_view_module": "@jupyter-widgets/base",
            "_view_module_version": "1.2.0",
            "_view_name": "LayoutView",
            "align_content": null,
            "align_items": null,
            "align_self": null,
            "border": null,
            "bottom": null,
            "display": null,
            "flex": null,
            "flex_flow": null,
            "grid_area": null,
            "grid_auto_columns": null,
            "grid_auto_flow": null,
            "grid_auto_rows": null,
            "grid_column": null,
            "grid_gap": null,
            "grid_row": null,
            "grid_template_areas": null,
            "grid_template_columns": null,
            "grid_template_rows": null,
            "height": null,
            "justify_content": null,
            "justify_items": null,
            "left": null,
            "margin": null,
            "max_height": null,
            "max_width": null,
            "min_height": null,
            "min_width": null,
            "object_fit": null,
            "object_position": null,
            "order": null,
            "overflow": null,
            "overflow_x": null,
            "overflow_y": null,
            "padding": null,
            "right": null,
            "top": null,
            "visibility": null,
            "width": null
          }
        },
        "995f8dff58ee4b9faced7a5f24944878": {
          "model_module": "@jupyter-widgets/controls",
          "model_name": "DescriptionStyleModel",
          "model_module_version": "1.5.0",
          "state": {
            "_model_module": "@jupyter-widgets/controls",
            "_model_module_version": "1.5.0",
            "_model_name": "DescriptionStyleModel",
            "_view_count": null,
            "_view_module": "@jupyter-widgets/base",
            "_view_module_version": "1.2.0",
            "_view_name": "StyleView",
            "description_width": ""
          }
        },
        "0df93f1acce14aeea0fed8a1040013d7": {
          "model_module": "@jupyter-widgets/base",
          "model_name": "LayoutModel",
          "model_module_version": "1.2.0",
          "state": {
            "_model_module": "@jupyter-widgets/base",
            "_model_module_version": "1.2.0",
            "_model_name": "LayoutModel",
            "_view_count": null,
            "_view_module": "@jupyter-widgets/base",
            "_view_module_version": "1.2.0",
            "_view_name": "LayoutView",
            "align_content": null,
            "align_items": null,
            "align_self": null,
            "border": null,
            "bottom": null,
            "display": null,
            "flex": null,
            "flex_flow": null,
            "grid_area": null,
            "grid_auto_columns": null,
            "grid_auto_flow": null,
            "grid_auto_rows": null,
            "grid_column": null,
            "grid_gap": null,
            "grid_row": null,
            "grid_template_areas": null,
            "grid_template_columns": null,
            "grid_template_rows": null,
            "height": null,
            "justify_content": null,
            "justify_items": null,
            "left": null,
            "margin": null,
            "max_height": null,
            "max_width": null,
            "min_height": null,
            "min_width": null,
            "object_fit": null,
            "object_position": null,
            "order": null,
            "overflow": null,
            "overflow_x": null,
            "overflow_y": null,
            "padding": null,
            "right": null,
            "top": null,
            "visibility": null,
            "width": null
          }
        },
        "74e518186c43439280856df5308719cf": {
          "model_module": "@jupyter-widgets/controls",
          "model_name": "ProgressStyleModel",
          "model_module_version": "1.5.0",
          "state": {
            "_model_module": "@jupyter-widgets/controls",
            "_model_module_version": "1.5.0",
            "_model_name": "ProgressStyleModel",
            "_view_count": null,
            "_view_module": "@jupyter-widgets/base",
            "_view_module_version": "1.2.0",
            "_view_name": "StyleView",
            "bar_color": null,
            "description_width": ""
          }
        },
        "264aec7af48c4471b1e2b879dc7f7dbd": {
          "model_module": "@jupyter-widgets/base",
          "model_name": "LayoutModel",
          "model_module_version": "1.2.0",
          "state": {
            "_model_module": "@jupyter-widgets/base",
            "_model_module_version": "1.2.0",
            "_model_name": "LayoutModel",
            "_view_count": null,
            "_view_module": "@jupyter-widgets/base",
            "_view_module_version": "1.2.0",
            "_view_name": "LayoutView",
            "align_content": null,
            "align_items": null,
            "align_self": null,
            "border": null,
            "bottom": null,
            "display": null,
            "flex": null,
            "flex_flow": null,
            "grid_area": null,
            "grid_auto_columns": null,
            "grid_auto_flow": null,
            "grid_auto_rows": null,
            "grid_column": null,
            "grid_gap": null,
            "grid_row": null,
            "grid_template_areas": null,
            "grid_template_columns": null,
            "grid_template_rows": null,
            "height": null,
            "justify_content": null,
            "justify_items": null,
            "left": null,
            "margin": null,
            "max_height": null,
            "max_width": null,
            "min_height": null,
            "min_width": null,
            "object_fit": null,
            "object_position": null,
            "order": null,
            "overflow": null,
            "overflow_x": null,
            "overflow_y": null,
            "padding": null,
            "right": null,
            "top": null,
            "visibility": null,
            "width": null
          }
        },
        "28cd0dfc8ffc44149bc425b99bf7c241": {
          "model_module": "@jupyter-widgets/controls",
          "model_name": "DescriptionStyleModel",
          "model_module_version": "1.5.0",
          "state": {
            "_model_module": "@jupyter-widgets/controls",
            "_model_module_version": "1.5.0",
            "_model_name": "DescriptionStyleModel",
            "_view_count": null,
            "_view_module": "@jupyter-widgets/base",
            "_view_module_version": "1.2.0",
            "_view_name": "StyleView",
            "description_width": ""
          }
        },
        "4921099e3bf14caa832cb0caa4d3b887": {
          "model_module": "@jupyter-widgets/controls",
          "model_name": "HBoxModel",
          "model_module_version": "1.5.0",
          "state": {
            "_dom_classes": [],
            "_model_module": "@jupyter-widgets/controls",
            "_model_module_version": "1.5.0",
            "_model_name": "HBoxModel",
            "_view_count": null,
            "_view_module": "@jupyter-widgets/controls",
            "_view_module_version": "1.5.0",
            "_view_name": "HBoxView",
            "box_style": "",
            "children": [
              "IPY_MODEL_c54931bdde964b57bc26d60c494d6f3d",
              "IPY_MODEL_3f863c92356d4161b0e199c665bdcfab",
              "IPY_MODEL_3b61a0e74548473282a31a6acc3185bd"
            ],
            "layout": "IPY_MODEL_e841491de2244a4cb8327b53a4781918"
          }
        },
        "c54931bdde964b57bc26d60c494d6f3d": {
          "model_module": "@jupyter-widgets/controls",
          "model_name": "HTMLModel",
          "model_module_version": "1.5.0",
          "state": {
            "_dom_classes": [],
            "_model_module": "@jupyter-widgets/controls",
            "_model_module_version": "1.5.0",
            "_model_name": "HTMLModel",
            "_view_count": null,
            "_view_module": "@jupyter-widgets/controls",
            "_view_module_version": "1.5.0",
            "_view_name": "HTMLView",
            "description": "",
            "description_tooltip": null,
            "layout": "IPY_MODEL_f213a8d8035b49489bca03024e938c1b",
            "placeholder": "​",
            "style": "IPY_MODEL_85baf4cefaaf4662a40d2386788c62ac",
            "value": "Downloading data: "
          }
        },
        "3f863c92356d4161b0e199c665bdcfab": {
          "model_module": "@jupyter-widgets/controls",
          "model_name": "FloatProgressModel",
          "model_module_version": "1.5.0",
          "state": {
            "_dom_classes": [],
            "_model_module": "@jupyter-widgets/controls",
            "_model_module_version": "1.5.0",
            "_model_name": "FloatProgressModel",
            "_view_count": null,
            "_view_module": "@jupyter-widgets/controls",
            "_view_module_version": "1.5.0",
            "_view_name": "ProgressView",
            "bar_style": "success",
            "description": "",
            "description_tooltip": null,
            "layout": "IPY_MODEL_eda429c16fc54dd78e6f2a45236e2e35",
            "max": 751209,
            "min": 0,
            "orientation": "horizontal",
            "style": "IPY_MODEL_75bce18479f04e2ebdaf863514c2f63c",
            "value": 751209
          }
        },
        "3b61a0e74548473282a31a6acc3185bd": {
          "model_module": "@jupyter-widgets/controls",
          "model_name": "HTMLModel",
          "model_module_version": "1.5.0",
          "state": {
            "_dom_classes": [],
            "_model_module": "@jupyter-widgets/controls",
            "_model_module_version": "1.5.0",
            "_model_name": "HTMLModel",
            "_view_count": null,
            "_view_module": "@jupyter-widgets/controls",
            "_view_module_version": "1.5.0",
            "_view_name": "HTMLView",
            "description": "",
            "description_tooltip": null,
            "layout": "IPY_MODEL_1681dce9c0604a8cb7726e6345984030",
            "placeholder": "​",
            "style": "IPY_MODEL_d850201e4084417c81c2c5ccfde11512",
            "value": " 1.86M/? [00:00&lt;00:00, 29.4MB/s]"
          }
        },
        "e841491de2244a4cb8327b53a4781918": {
          "model_module": "@jupyter-widgets/base",
          "model_name": "LayoutModel",
          "model_module_version": "1.2.0",
          "state": {
            "_model_module": "@jupyter-widgets/base",
            "_model_module_version": "1.2.0",
            "_model_name": "LayoutModel",
            "_view_count": null,
            "_view_module": "@jupyter-widgets/base",
            "_view_module_version": "1.2.0",
            "_view_name": "LayoutView",
            "align_content": null,
            "align_items": null,
            "align_self": null,
            "border": null,
            "bottom": null,
            "display": null,
            "flex": null,
            "flex_flow": null,
            "grid_area": null,
            "grid_auto_columns": null,
            "grid_auto_flow": null,
            "grid_auto_rows": null,
            "grid_column": null,
            "grid_gap": null,
            "grid_row": null,
            "grid_template_areas": null,
            "grid_template_columns": null,
            "grid_template_rows": null,
            "height": null,
            "justify_content": null,
            "justify_items": null,
            "left": null,
            "margin": null,
            "max_height": null,
            "max_width": null,
            "min_height": null,
            "min_width": null,
            "object_fit": null,
            "object_position": null,
            "order": null,
            "overflow": null,
            "overflow_x": null,
            "overflow_y": null,
            "padding": null,
            "right": null,
            "top": null,
            "visibility": null,
            "width": null
          }
        },
        "f213a8d8035b49489bca03024e938c1b": {
          "model_module": "@jupyter-widgets/base",
          "model_name": "LayoutModel",
          "model_module_version": "1.2.0",
          "state": {
            "_model_module": "@jupyter-widgets/base",
            "_model_module_version": "1.2.0",
            "_model_name": "LayoutModel",
            "_view_count": null,
            "_view_module": "@jupyter-widgets/base",
            "_view_module_version": "1.2.0",
            "_view_name": "LayoutView",
            "align_content": null,
            "align_items": null,
            "align_self": null,
            "border": null,
            "bottom": null,
            "display": null,
            "flex": null,
            "flex_flow": null,
            "grid_area": null,
            "grid_auto_columns": null,
            "grid_auto_flow": null,
            "grid_auto_rows": null,
            "grid_column": null,
            "grid_gap": null,
            "grid_row": null,
            "grid_template_areas": null,
            "grid_template_columns": null,
            "grid_template_rows": null,
            "height": null,
            "justify_content": null,
            "justify_items": null,
            "left": null,
            "margin": null,
            "max_height": null,
            "max_width": null,
            "min_height": null,
            "min_width": null,
            "object_fit": null,
            "object_position": null,
            "order": null,
            "overflow": null,
            "overflow_x": null,
            "overflow_y": null,
            "padding": null,
            "right": null,
            "top": null,
            "visibility": null,
            "width": null
          }
        },
        "85baf4cefaaf4662a40d2386788c62ac": {
          "model_module": "@jupyter-widgets/controls",
          "model_name": "DescriptionStyleModel",
          "model_module_version": "1.5.0",
          "state": {
            "_model_module": "@jupyter-widgets/controls",
            "_model_module_version": "1.5.0",
            "_model_name": "DescriptionStyleModel",
            "_view_count": null,
            "_view_module": "@jupyter-widgets/base",
            "_view_module_version": "1.2.0",
            "_view_name": "StyleView",
            "description_width": ""
          }
        },
        "eda429c16fc54dd78e6f2a45236e2e35": {
          "model_module": "@jupyter-widgets/base",
          "model_name": "LayoutModel",
          "model_module_version": "1.2.0",
          "state": {
            "_model_module": "@jupyter-widgets/base",
            "_model_module_version": "1.2.0",
            "_model_name": "LayoutModel",
            "_view_count": null,
            "_view_module": "@jupyter-widgets/base",
            "_view_module_version": "1.2.0",
            "_view_name": "LayoutView",
            "align_content": null,
            "align_items": null,
            "align_self": null,
            "border": null,
            "bottom": null,
            "display": null,
            "flex": null,
            "flex_flow": null,
            "grid_area": null,
            "grid_auto_columns": null,
            "grid_auto_flow": null,
            "grid_auto_rows": null,
            "grid_column": null,
            "grid_gap": null,
            "grid_row": null,
            "grid_template_areas": null,
            "grid_template_columns": null,
            "grid_template_rows": null,
            "height": null,
            "justify_content": null,
            "justify_items": null,
            "left": null,
            "margin": null,
            "max_height": null,
            "max_width": null,
            "min_height": null,
            "min_width": null,
            "object_fit": null,
            "object_position": null,
            "order": null,
            "overflow": null,
            "overflow_x": null,
            "overflow_y": null,
            "padding": null,
            "right": null,
            "top": null,
            "visibility": null,
            "width": null
          }
        },
        "75bce18479f04e2ebdaf863514c2f63c": {
          "model_module": "@jupyter-widgets/controls",
          "model_name": "ProgressStyleModel",
          "model_module_version": "1.5.0",
          "state": {
            "_model_module": "@jupyter-widgets/controls",
            "_model_module_version": "1.5.0",
            "_model_name": "ProgressStyleModel",
            "_view_count": null,
            "_view_module": "@jupyter-widgets/base",
            "_view_module_version": "1.2.0",
            "_view_name": "StyleView",
            "bar_color": null,
            "description_width": ""
          }
        },
        "1681dce9c0604a8cb7726e6345984030": {
          "model_module": "@jupyter-widgets/base",
          "model_name": "LayoutModel",
          "model_module_version": "1.2.0",
          "state": {
            "_model_module": "@jupyter-widgets/base",
            "_model_module_version": "1.2.0",
            "_model_name": "LayoutModel",
            "_view_count": null,
            "_view_module": "@jupyter-widgets/base",
            "_view_module_version": "1.2.0",
            "_view_name": "LayoutView",
            "align_content": null,
            "align_items": null,
            "align_self": null,
            "border": null,
            "bottom": null,
            "display": null,
            "flex": null,
            "flex_flow": null,
            "grid_area": null,
            "grid_auto_columns": null,
            "grid_auto_flow": null,
            "grid_auto_rows": null,
            "grid_column": null,
            "grid_gap": null,
            "grid_row": null,
            "grid_template_areas": null,
            "grid_template_columns": null,
            "grid_template_rows": null,
            "height": null,
            "justify_content": null,
            "justify_items": null,
            "left": null,
            "margin": null,
            "max_height": null,
            "max_width": null,
            "min_height": null,
            "min_width": null,
            "object_fit": null,
            "object_position": null,
            "order": null,
            "overflow": null,
            "overflow_x": null,
            "overflow_y": null,
            "padding": null,
            "right": null,
            "top": null,
            "visibility": null,
            "width": null
          }
        },
        "d850201e4084417c81c2c5ccfde11512": {
          "model_module": "@jupyter-widgets/controls",
          "model_name": "DescriptionStyleModel",
          "model_module_version": "1.5.0",
          "state": {
            "_model_module": "@jupyter-widgets/controls",
            "_model_module_version": "1.5.0",
            "_model_name": "DescriptionStyleModel",
            "_view_count": null,
            "_view_module": "@jupyter-widgets/base",
            "_view_module_version": "1.2.0",
            "_view_name": "StyleView",
            "description_width": ""
          }
        },
        "f4b2b14375404ad8a6f74cb0fdff03bb": {
          "model_module": "@jupyter-widgets/controls",
          "model_name": "HBoxModel",
          "model_module_version": "1.5.0",
          "state": {
            "_dom_classes": [],
            "_model_module": "@jupyter-widgets/controls",
            "_model_module_version": "1.5.0",
            "_model_name": "HBoxModel",
            "_view_count": null,
            "_view_module": "@jupyter-widgets/controls",
            "_view_module_version": "1.5.0",
            "_view_name": "HBoxView",
            "box_style": "",
            "children": [
              "IPY_MODEL_9c9d511beb6547f8bb016f5a37f7e204",
              "IPY_MODEL_f9a25b5be7cc46e29c5884db0178192f",
              "IPY_MODEL_8c2005ad0c1847d89d65a919e4f23bed"
            ],
            "layout": "IPY_MODEL_dddb4054501544d392a18e08477d9cfd"
          }
        },
        "9c9d511beb6547f8bb016f5a37f7e204": {
          "model_module": "@jupyter-widgets/controls",
          "model_name": "HTMLModel",
          "model_module_version": "1.5.0",
          "state": {
            "_dom_classes": [],
            "_model_module": "@jupyter-widgets/controls",
            "_model_module_version": "1.5.0",
            "_model_name": "HTMLModel",
            "_view_count": null,
            "_view_module": "@jupyter-widgets/controls",
            "_view_module_version": "1.5.0",
            "_view_name": "HTMLView",
            "description": "",
            "description_tooltip": null,
            "layout": "IPY_MODEL_941670e43b27430b85a8cad3c6655e23",
            "placeholder": "​",
            "style": "IPY_MODEL_998ebc61ea2a4cd58a5573aa2e2cbf39",
            "value": "Generating train split:  98%"
          }
        },
        "f9a25b5be7cc46e29c5884db0178192f": {
          "model_module": "@jupyter-widgets/controls",
          "model_name": "FloatProgressModel",
          "model_module_version": "1.5.0",
          "state": {
            "_dom_classes": [],
            "_model_module": "@jupyter-widgets/controls",
            "_model_module_version": "1.5.0",
            "_model_name": "FloatProgressModel",
            "_view_count": null,
            "_view_module": "@jupyter-widgets/controls",
            "_view_module_version": "1.5.0",
            "_view_name": "ProgressView",
            "bar_style": "",
            "description": "",
            "description_tooltip": null,
            "layout": "IPY_MODEL_a73cab645e394c6db1ccd580e662167a",
            "max": 120000,
            "min": 0,
            "orientation": "horizontal",
            "style": "IPY_MODEL_f3e14101eaf347d7833bb20e9250af73",
            "value": 120000
          }
        },
        "8c2005ad0c1847d89d65a919e4f23bed": {
          "model_module": "@jupyter-widgets/controls",
          "model_name": "HTMLModel",
          "model_module_version": "1.5.0",
          "state": {
            "_dom_classes": [],
            "_model_module": "@jupyter-widgets/controls",
            "_model_module_version": "1.5.0",
            "_model_name": "HTMLModel",
            "_view_count": null,
            "_view_module": "@jupyter-widgets/controls",
            "_view_module_version": "1.5.0",
            "_view_name": "HTMLView",
            "description": "",
            "description_tooltip": null,
            "layout": "IPY_MODEL_4f89b4dfea184bff9fad7013b8d1a3e9",
            "placeholder": "​",
            "style": "IPY_MODEL_3c2a8efe004e4b07866ebaffbec480a0",
            "value": " 117569/120000 [00:03&lt;00:00, 33016.19 examples/s]"
          }
        },
        "dddb4054501544d392a18e08477d9cfd": {
          "model_module": "@jupyter-widgets/base",
          "model_name": "LayoutModel",
          "model_module_version": "1.2.0",
          "state": {
            "_model_module": "@jupyter-widgets/base",
            "_model_module_version": "1.2.0",
            "_model_name": "LayoutModel",
            "_view_count": null,
            "_view_module": "@jupyter-widgets/base",
            "_view_module_version": "1.2.0",
            "_view_name": "LayoutView",
            "align_content": null,
            "align_items": null,
            "align_self": null,
            "border": null,
            "bottom": null,
            "display": null,
            "flex": null,
            "flex_flow": null,
            "grid_area": null,
            "grid_auto_columns": null,
            "grid_auto_flow": null,
            "grid_auto_rows": null,
            "grid_column": null,
            "grid_gap": null,
            "grid_row": null,
            "grid_template_areas": null,
            "grid_template_columns": null,
            "grid_template_rows": null,
            "height": null,
            "justify_content": null,
            "justify_items": null,
            "left": null,
            "margin": null,
            "max_height": null,
            "max_width": null,
            "min_height": null,
            "min_width": null,
            "object_fit": null,
            "object_position": null,
            "order": null,
            "overflow": null,
            "overflow_x": null,
            "overflow_y": null,
            "padding": null,
            "right": null,
            "top": null,
            "visibility": "hidden",
            "width": null
          }
        },
        "941670e43b27430b85a8cad3c6655e23": {
          "model_module": "@jupyter-widgets/base",
          "model_name": "LayoutModel",
          "model_module_version": "1.2.0",
          "state": {
            "_model_module": "@jupyter-widgets/base",
            "_model_module_version": "1.2.0",
            "_model_name": "LayoutModel",
            "_view_count": null,
            "_view_module": "@jupyter-widgets/base",
            "_view_module_version": "1.2.0",
            "_view_name": "LayoutView",
            "align_content": null,
            "align_items": null,
            "align_self": null,
            "border": null,
            "bottom": null,
            "display": null,
            "flex": null,
            "flex_flow": null,
            "grid_area": null,
            "grid_auto_columns": null,
            "grid_auto_flow": null,
            "grid_auto_rows": null,
            "grid_column": null,
            "grid_gap": null,
            "grid_row": null,
            "grid_template_areas": null,
            "grid_template_columns": null,
            "grid_template_rows": null,
            "height": null,
            "justify_content": null,
            "justify_items": null,
            "left": null,
            "margin": null,
            "max_height": null,
            "max_width": null,
            "min_height": null,
            "min_width": null,
            "object_fit": null,
            "object_position": null,
            "order": null,
            "overflow": null,
            "overflow_x": null,
            "overflow_y": null,
            "padding": null,
            "right": null,
            "top": null,
            "visibility": null,
            "width": null
          }
        },
        "998ebc61ea2a4cd58a5573aa2e2cbf39": {
          "model_module": "@jupyter-widgets/controls",
          "model_name": "DescriptionStyleModel",
          "model_module_version": "1.5.0",
          "state": {
            "_model_module": "@jupyter-widgets/controls",
            "_model_module_version": "1.5.0",
            "_model_name": "DescriptionStyleModel",
            "_view_count": null,
            "_view_module": "@jupyter-widgets/base",
            "_view_module_version": "1.2.0",
            "_view_name": "StyleView",
            "description_width": ""
          }
        },
        "a73cab645e394c6db1ccd580e662167a": {
          "model_module": "@jupyter-widgets/base",
          "model_name": "LayoutModel",
          "model_module_version": "1.2.0",
          "state": {
            "_model_module": "@jupyter-widgets/base",
            "_model_module_version": "1.2.0",
            "_model_name": "LayoutModel",
            "_view_count": null,
            "_view_module": "@jupyter-widgets/base",
            "_view_module_version": "1.2.0",
            "_view_name": "LayoutView",
            "align_content": null,
            "align_items": null,
            "align_self": null,
            "border": null,
            "bottom": null,
            "display": null,
            "flex": null,
            "flex_flow": null,
            "grid_area": null,
            "grid_auto_columns": null,
            "grid_auto_flow": null,
            "grid_auto_rows": null,
            "grid_column": null,
            "grid_gap": null,
            "grid_row": null,
            "grid_template_areas": null,
            "grid_template_columns": null,
            "grid_template_rows": null,
            "height": null,
            "justify_content": null,
            "justify_items": null,
            "left": null,
            "margin": null,
            "max_height": null,
            "max_width": null,
            "min_height": null,
            "min_width": null,
            "object_fit": null,
            "object_position": null,
            "order": null,
            "overflow": null,
            "overflow_x": null,
            "overflow_y": null,
            "padding": null,
            "right": null,
            "top": null,
            "visibility": null,
            "width": null
          }
        },
        "f3e14101eaf347d7833bb20e9250af73": {
          "model_module": "@jupyter-widgets/controls",
          "model_name": "ProgressStyleModel",
          "model_module_version": "1.5.0",
          "state": {
            "_model_module": "@jupyter-widgets/controls",
            "_model_module_version": "1.5.0",
            "_model_name": "ProgressStyleModel",
            "_view_count": null,
            "_view_module": "@jupyter-widgets/base",
            "_view_module_version": "1.2.0",
            "_view_name": "StyleView",
            "bar_color": null,
            "description_width": ""
          }
        },
        "4f89b4dfea184bff9fad7013b8d1a3e9": {
          "model_module": "@jupyter-widgets/base",
          "model_name": "LayoutModel",
          "model_module_version": "1.2.0",
          "state": {
            "_model_module": "@jupyter-widgets/base",
            "_model_module_version": "1.2.0",
            "_model_name": "LayoutModel",
            "_view_count": null,
            "_view_module": "@jupyter-widgets/base",
            "_view_module_version": "1.2.0",
            "_view_name": "LayoutView",
            "align_content": null,
            "align_items": null,
            "align_self": null,
            "border": null,
            "bottom": null,
            "display": null,
            "flex": null,
            "flex_flow": null,
            "grid_area": null,
            "grid_auto_columns": null,
            "grid_auto_flow": null,
            "grid_auto_rows": null,
            "grid_column": null,
            "grid_gap": null,
            "grid_row": null,
            "grid_template_areas": null,
            "grid_template_columns": null,
            "grid_template_rows": null,
            "height": null,
            "justify_content": null,
            "justify_items": null,
            "left": null,
            "margin": null,
            "max_height": null,
            "max_width": null,
            "min_height": null,
            "min_width": null,
            "object_fit": null,
            "object_position": null,
            "order": null,
            "overflow": null,
            "overflow_x": null,
            "overflow_y": null,
            "padding": null,
            "right": null,
            "top": null,
            "visibility": null,
            "width": null
          }
        },
        "3c2a8efe004e4b07866ebaffbec480a0": {
          "model_module": "@jupyter-widgets/controls",
          "model_name": "DescriptionStyleModel",
          "model_module_version": "1.5.0",
          "state": {
            "_model_module": "@jupyter-widgets/controls",
            "_model_module_version": "1.5.0",
            "_model_name": "DescriptionStyleModel",
            "_view_count": null,
            "_view_module": "@jupyter-widgets/base",
            "_view_module_version": "1.2.0",
            "_view_name": "StyleView",
            "description_width": ""
          }
        },
        "9cd2ec18b1054515b789eab1aa5a9304": {
          "model_module": "@jupyter-widgets/controls",
          "model_name": "HBoxModel",
          "model_module_version": "1.5.0",
          "state": {
            "_dom_classes": [],
            "_model_module": "@jupyter-widgets/controls",
            "_model_module_version": "1.5.0",
            "_model_name": "HBoxModel",
            "_view_count": null,
            "_view_module": "@jupyter-widgets/controls",
            "_view_module_version": "1.5.0",
            "_view_name": "HBoxView",
            "box_style": "",
            "children": [
              "IPY_MODEL_6e509017eb8f4c4a956f678d03f29832",
              "IPY_MODEL_70e1587d668d475792a217448ad3c175",
              "IPY_MODEL_9fdd27f44c204e759e221308a0eeab46"
            ],
            "layout": "IPY_MODEL_6d694ab93fe244349dab8b11ba60ae14"
          }
        },
        "6e509017eb8f4c4a956f678d03f29832": {
          "model_module": "@jupyter-widgets/controls",
          "model_name": "HTMLModel",
          "model_module_version": "1.5.0",
          "state": {
            "_dom_classes": [],
            "_model_module": "@jupyter-widgets/controls",
            "_model_module_version": "1.5.0",
            "_model_name": "HTMLModel",
            "_view_count": null,
            "_view_module": "@jupyter-widgets/controls",
            "_view_module_version": "1.5.0",
            "_view_name": "HTMLView",
            "description": "",
            "description_tooltip": null,
            "layout": "IPY_MODEL_6fbb2dc4a7914c1db8081307379d9830",
            "placeholder": "​",
            "style": "IPY_MODEL_b29187a6bbd040e0b533f6e43bfd9780",
            "value": "Generating test split:  80%"
          }
        },
        "70e1587d668d475792a217448ad3c175": {
          "model_module": "@jupyter-widgets/controls",
          "model_name": "FloatProgressModel",
          "model_module_version": "1.5.0",
          "state": {
            "_dom_classes": [],
            "_model_module": "@jupyter-widgets/controls",
            "_model_module_version": "1.5.0",
            "_model_name": "FloatProgressModel",
            "_view_count": null,
            "_view_module": "@jupyter-widgets/controls",
            "_view_module_version": "1.5.0",
            "_view_name": "ProgressView",
            "bar_style": "",
            "description": "",
            "description_tooltip": null,
            "layout": "IPY_MODEL_d357457de623423897ee1d04653ccb37",
            "max": 7600,
            "min": 0,
            "orientation": "horizontal",
            "style": "IPY_MODEL_8dd11cd5d8f0435aae2220fd17e252f7",
            "value": 7600
          }
        },
        "9fdd27f44c204e759e221308a0eeab46": {
          "model_module": "@jupyter-widgets/controls",
          "model_name": "HTMLModel",
          "model_module_version": "1.5.0",
          "state": {
            "_dom_classes": [],
            "_model_module": "@jupyter-widgets/controls",
            "_model_module_version": "1.5.0",
            "_model_name": "HTMLModel",
            "_view_count": null,
            "_view_module": "@jupyter-widgets/controls",
            "_view_module_version": "1.5.0",
            "_view_name": "HTMLView",
            "description": "",
            "description_tooltip": null,
            "layout": "IPY_MODEL_81b28c51b84e40b8ae5a662413a2249e",
            "placeholder": "​",
            "style": "IPY_MODEL_115c1a56f5944430ae9b342715c4a675",
            "value": " 6086/7600 [00:00&lt;00:00, 28940.69 examples/s]"
          }
        },
        "6d694ab93fe244349dab8b11ba60ae14": {
          "model_module": "@jupyter-widgets/base",
          "model_name": "LayoutModel",
          "model_module_version": "1.2.0",
          "state": {
            "_model_module": "@jupyter-widgets/base",
            "_model_module_version": "1.2.0",
            "_model_name": "LayoutModel",
            "_view_count": null,
            "_view_module": "@jupyter-widgets/base",
            "_view_module_version": "1.2.0",
            "_view_name": "LayoutView",
            "align_content": null,
            "align_items": null,
            "align_self": null,
            "border": null,
            "bottom": null,
            "display": null,
            "flex": null,
            "flex_flow": null,
            "grid_area": null,
            "grid_auto_columns": null,
            "grid_auto_flow": null,
            "grid_auto_rows": null,
            "grid_column": null,
            "grid_gap": null,
            "grid_row": null,
            "grid_template_areas": null,
            "grid_template_columns": null,
            "grid_template_rows": null,
            "height": null,
            "justify_content": null,
            "justify_items": null,
            "left": null,
            "margin": null,
            "max_height": null,
            "max_width": null,
            "min_height": null,
            "min_width": null,
            "object_fit": null,
            "object_position": null,
            "order": null,
            "overflow": null,
            "overflow_x": null,
            "overflow_y": null,
            "padding": null,
            "right": null,
            "top": null,
            "visibility": "hidden",
            "width": null
          }
        },
        "6fbb2dc4a7914c1db8081307379d9830": {
          "model_module": "@jupyter-widgets/base",
          "model_name": "LayoutModel",
          "model_module_version": "1.2.0",
          "state": {
            "_model_module": "@jupyter-widgets/base",
            "_model_module_version": "1.2.0",
            "_model_name": "LayoutModel",
            "_view_count": null,
            "_view_module": "@jupyter-widgets/base",
            "_view_module_version": "1.2.0",
            "_view_name": "LayoutView",
            "align_content": null,
            "align_items": null,
            "align_self": null,
            "border": null,
            "bottom": null,
            "display": null,
            "flex": null,
            "flex_flow": null,
            "grid_area": null,
            "grid_auto_columns": null,
            "grid_auto_flow": null,
            "grid_auto_rows": null,
            "grid_column": null,
            "grid_gap": null,
            "grid_row": null,
            "grid_template_areas": null,
            "grid_template_columns": null,
            "grid_template_rows": null,
            "height": null,
            "justify_content": null,
            "justify_items": null,
            "left": null,
            "margin": null,
            "max_height": null,
            "max_width": null,
            "min_height": null,
            "min_width": null,
            "object_fit": null,
            "object_position": null,
            "order": null,
            "overflow": null,
            "overflow_x": null,
            "overflow_y": null,
            "padding": null,
            "right": null,
            "top": null,
            "visibility": null,
            "width": null
          }
        },
        "b29187a6bbd040e0b533f6e43bfd9780": {
          "model_module": "@jupyter-widgets/controls",
          "model_name": "DescriptionStyleModel",
          "model_module_version": "1.5.0",
          "state": {
            "_model_module": "@jupyter-widgets/controls",
            "_model_module_version": "1.5.0",
            "_model_name": "DescriptionStyleModel",
            "_view_count": null,
            "_view_module": "@jupyter-widgets/base",
            "_view_module_version": "1.2.0",
            "_view_name": "StyleView",
            "description_width": ""
          }
        },
        "d357457de623423897ee1d04653ccb37": {
          "model_module": "@jupyter-widgets/base",
          "model_name": "LayoutModel",
          "model_module_version": "1.2.0",
          "state": {
            "_model_module": "@jupyter-widgets/base",
            "_model_module_version": "1.2.0",
            "_model_name": "LayoutModel",
            "_view_count": null,
            "_view_module": "@jupyter-widgets/base",
            "_view_module_version": "1.2.0",
            "_view_name": "LayoutView",
            "align_content": null,
            "align_items": null,
            "align_self": null,
            "border": null,
            "bottom": null,
            "display": null,
            "flex": null,
            "flex_flow": null,
            "grid_area": null,
            "grid_auto_columns": null,
            "grid_auto_flow": null,
            "grid_auto_rows": null,
            "grid_column": null,
            "grid_gap": null,
            "grid_row": null,
            "grid_template_areas": null,
            "grid_template_columns": null,
            "grid_template_rows": null,
            "height": null,
            "justify_content": null,
            "justify_items": null,
            "left": null,
            "margin": null,
            "max_height": null,
            "max_width": null,
            "min_height": null,
            "min_width": null,
            "object_fit": null,
            "object_position": null,
            "order": null,
            "overflow": null,
            "overflow_x": null,
            "overflow_y": null,
            "padding": null,
            "right": null,
            "top": null,
            "visibility": null,
            "width": null
          }
        },
        "8dd11cd5d8f0435aae2220fd17e252f7": {
          "model_module": "@jupyter-widgets/controls",
          "model_name": "ProgressStyleModel",
          "model_module_version": "1.5.0",
          "state": {
            "_model_module": "@jupyter-widgets/controls",
            "_model_module_version": "1.5.0",
            "_model_name": "ProgressStyleModel",
            "_view_count": null,
            "_view_module": "@jupyter-widgets/base",
            "_view_module_version": "1.2.0",
            "_view_name": "StyleView",
            "bar_color": null,
            "description_width": ""
          }
        },
        "81b28c51b84e40b8ae5a662413a2249e": {
          "model_module": "@jupyter-widgets/base",
          "model_name": "LayoutModel",
          "model_module_version": "1.2.0",
          "state": {
            "_model_module": "@jupyter-widgets/base",
            "_model_module_version": "1.2.0",
            "_model_name": "LayoutModel",
            "_view_count": null,
            "_view_module": "@jupyter-widgets/base",
            "_view_module_version": "1.2.0",
            "_view_name": "LayoutView",
            "align_content": null,
            "align_items": null,
            "align_self": null,
            "border": null,
            "bottom": null,
            "display": null,
            "flex": null,
            "flex_flow": null,
            "grid_area": null,
            "grid_auto_columns": null,
            "grid_auto_flow": null,
            "grid_auto_rows": null,
            "grid_column": null,
            "grid_gap": null,
            "grid_row": null,
            "grid_template_areas": null,
            "grid_template_columns": null,
            "grid_template_rows": null,
            "height": null,
            "justify_content": null,
            "justify_items": null,
            "left": null,
            "margin": null,
            "max_height": null,
            "max_width": null,
            "min_height": null,
            "min_width": null,
            "object_fit": null,
            "object_position": null,
            "order": null,
            "overflow": null,
            "overflow_x": null,
            "overflow_y": null,
            "padding": null,
            "right": null,
            "top": null,
            "visibility": null,
            "width": null
          }
        },
        "115c1a56f5944430ae9b342715c4a675": {
          "model_module": "@jupyter-widgets/controls",
          "model_name": "DescriptionStyleModel",
          "model_module_version": "1.5.0",
          "state": {
            "_model_module": "@jupyter-widgets/controls",
            "_model_module_version": "1.5.0",
            "_model_name": "DescriptionStyleModel",
            "_view_count": null,
            "_view_module": "@jupyter-widgets/base",
            "_view_module_version": "1.2.0",
            "_view_name": "StyleView",
            "description_width": ""
          }
        },
        "80a92633806845878814b26a285a575d": {
          "model_module": "@jupyter-widgets/controls",
          "model_name": "HBoxModel",
          "model_module_version": "1.5.0",
          "state": {
            "_dom_classes": [],
            "_model_module": "@jupyter-widgets/controls",
            "_model_module_version": "1.5.0",
            "_model_name": "HBoxModel",
            "_view_count": null,
            "_view_module": "@jupyter-widgets/controls",
            "_view_module_version": "1.5.0",
            "_view_name": "HBoxView",
            "box_style": "",
            "children": [
              "IPY_MODEL_f5c17e9370dc43b8adc06dfd065bee64",
              "IPY_MODEL_24271d08fb8a450dab68661a2e3cde5d",
              "IPY_MODEL_fd5b09b4cebc4825ba6b4c9875a10be0"
            ],
            "layout": "IPY_MODEL_d98238d8be224e6087eaa1d126e4af09"
          }
        },
        "f5c17e9370dc43b8adc06dfd065bee64": {
          "model_module": "@jupyter-widgets/controls",
          "model_name": "HTMLModel",
          "model_module_version": "1.5.0",
          "state": {
            "_dom_classes": [],
            "_model_module": "@jupyter-widgets/controls",
            "_model_module_version": "1.5.0",
            "_model_name": "HTMLModel",
            "_view_count": null,
            "_view_module": "@jupyter-widgets/controls",
            "_view_module_version": "1.5.0",
            "_view_name": "HTMLView",
            "description": "",
            "description_tooltip": null,
            "layout": "IPY_MODEL_91e83890800e4f2799740170708ffdad",
            "placeholder": "​",
            "style": "IPY_MODEL_36ac4e2b324c4ef284b703e8bc1aebcc",
            "value": "100%"
          }
        },
        "24271d08fb8a450dab68661a2e3cde5d": {
          "model_module": "@jupyter-widgets/controls",
          "model_name": "FloatProgressModel",
          "model_module_version": "1.5.0",
          "state": {
            "_dom_classes": [],
            "_model_module": "@jupyter-widgets/controls",
            "_model_module_version": "1.5.0",
            "_model_name": "FloatProgressModel",
            "_view_count": null,
            "_view_module": "@jupyter-widgets/controls",
            "_view_module_version": "1.5.0",
            "_view_name": "ProgressView",
            "bar_style": "success",
            "description": "",
            "description_tooltip": null,
            "layout": "IPY_MODEL_085d21333e214a29a7781de59d4fd7d8",
            "max": 2,
            "min": 0,
            "orientation": "horizontal",
            "style": "IPY_MODEL_1e8c5f832d624494b0a2e8541c3a880a",
            "value": 2
          }
        },
        "fd5b09b4cebc4825ba6b4c9875a10be0": {
          "model_module": "@jupyter-widgets/controls",
          "model_name": "HTMLModel",
          "model_module_version": "1.5.0",
          "state": {
            "_dom_classes": [],
            "_model_module": "@jupyter-widgets/controls",
            "_model_module_version": "1.5.0",
            "_model_name": "HTMLModel",
            "_view_count": null,
            "_view_module": "@jupyter-widgets/controls",
            "_view_module_version": "1.5.0",
            "_view_name": "HTMLView",
            "description": "",
            "description_tooltip": null,
            "layout": "IPY_MODEL_55ba6f93ad2b4c349302196d5f9f1935",
            "placeholder": "​",
            "style": "IPY_MODEL_05e09c82498c4063bfbd66a2e4e5289a",
            "value": " 2/2 [00:00&lt;00:00, 65.35it/s]"
          }
        },
        "d98238d8be224e6087eaa1d126e4af09": {
          "model_module": "@jupyter-widgets/base",
          "model_name": "LayoutModel",
          "model_module_version": "1.2.0",
          "state": {
            "_model_module": "@jupyter-widgets/base",
            "_model_module_version": "1.2.0",
            "_model_name": "LayoutModel",
            "_view_count": null,
            "_view_module": "@jupyter-widgets/base",
            "_view_module_version": "1.2.0",
            "_view_name": "LayoutView",
            "align_content": null,
            "align_items": null,
            "align_self": null,
            "border": null,
            "bottom": null,
            "display": null,
            "flex": null,
            "flex_flow": null,
            "grid_area": null,
            "grid_auto_columns": null,
            "grid_auto_flow": null,
            "grid_auto_rows": null,
            "grid_column": null,
            "grid_gap": null,
            "grid_row": null,
            "grid_template_areas": null,
            "grid_template_columns": null,
            "grid_template_rows": null,
            "height": null,
            "justify_content": null,
            "justify_items": null,
            "left": null,
            "margin": null,
            "max_height": null,
            "max_width": null,
            "min_height": null,
            "min_width": null,
            "object_fit": null,
            "object_position": null,
            "order": null,
            "overflow": null,
            "overflow_x": null,
            "overflow_y": null,
            "padding": null,
            "right": null,
            "top": null,
            "visibility": null,
            "width": null
          }
        },
        "91e83890800e4f2799740170708ffdad": {
          "model_module": "@jupyter-widgets/base",
          "model_name": "LayoutModel",
          "model_module_version": "1.2.0",
          "state": {
            "_model_module": "@jupyter-widgets/base",
            "_model_module_version": "1.2.0",
            "_model_name": "LayoutModel",
            "_view_count": null,
            "_view_module": "@jupyter-widgets/base",
            "_view_module_version": "1.2.0",
            "_view_name": "LayoutView",
            "align_content": null,
            "align_items": null,
            "align_self": null,
            "border": null,
            "bottom": null,
            "display": null,
            "flex": null,
            "flex_flow": null,
            "grid_area": null,
            "grid_auto_columns": null,
            "grid_auto_flow": null,
            "grid_auto_rows": null,
            "grid_column": null,
            "grid_gap": null,
            "grid_row": null,
            "grid_template_areas": null,
            "grid_template_columns": null,
            "grid_template_rows": null,
            "height": null,
            "justify_content": null,
            "justify_items": null,
            "left": null,
            "margin": null,
            "max_height": null,
            "max_width": null,
            "min_height": null,
            "min_width": null,
            "object_fit": null,
            "object_position": null,
            "order": null,
            "overflow": null,
            "overflow_x": null,
            "overflow_y": null,
            "padding": null,
            "right": null,
            "top": null,
            "visibility": null,
            "width": null
          }
        },
        "36ac4e2b324c4ef284b703e8bc1aebcc": {
          "model_module": "@jupyter-widgets/controls",
          "model_name": "DescriptionStyleModel",
          "model_module_version": "1.5.0",
          "state": {
            "_model_module": "@jupyter-widgets/controls",
            "_model_module_version": "1.5.0",
            "_model_name": "DescriptionStyleModel",
            "_view_count": null,
            "_view_module": "@jupyter-widgets/base",
            "_view_module_version": "1.2.0",
            "_view_name": "StyleView",
            "description_width": ""
          }
        },
        "085d21333e214a29a7781de59d4fd7d8": {
          "model_module": "@jupyter-widgets/base",
          "model_name": "LayoutModel",
          "model_module_version": "1.2.0",
          "state": {
            "_model_module": "@jupyter-widgets/base",
            "_model_module_version": "1.2.0",
            "_model_name": "LayoutModel",
            "_view_count": null,
            "_view_module": "@jupyter-widgets/base",
            "_view_module_version": "1.2.0",
            "_view_name": "LayoutView",
            "align_content": null,
            "align_items": null,
            "align_self": null,
            "border": null,
            "bottom": null,
            "display": null,
            "flex": null,
            "flex_flow": null,
            "grid_area": null,
            "grid_auto_columns": null,
            "grid_auto_flow": null,
            "grid_auto_rows": null,
            "grid_column": null,
            "grid_gap": null,
            "grid_row": null,
            "grid_template_areas": null,
            "grid_template_columns": null,
            "grid_template_rows": null,
            "height": null,
            "justify_content": null,
            "justify_items": null,
            "left": null,
            "margin": null,
            "max_height": null,
            "max_width": null,
            "min_height": null,
            "min_width": null,
            "object_fit": null,
            "object_position": null,
            "order": null,
            "overflow": null,
            "overflow_x": null,
            "overflow_y": null,
            "padding": null,
            "right": null,
            "top": null,
            "visibility": null,
            "width": null
          }
        },
        "1e8c5f832d624494b0a2e8541c3a880a": {
          "model_module": "@jupyter-widgets/controls",
          "model_name": "ProgressStyleModel",
          "model_module_version": "1.5.0",
          "state": {
            "_model_module": "@jupyter-widgets/controls",
            "_model_module_version": "1.5.0",
            "_model_name": "ProgressStyleModel",
            "_view_count": null,
            "_view_module": "@jupyter-widgets/base",
            "_view_module_version": "1.2.0",
            "_view_name": "StyleView",
            "bar_color": null,
            "description_width": ""
          }
        },
        "55ba6f93ad2b4c349302196d5f9f1935": {
          "model_module": "@jupyter-widgets/base",
          "model_name": "LayoutModel",
          "model_module_version": "1.2.0",
          "state": {
            "_model_module": "@jupyter-widgets/base",
            "_model_module_version": "1.2.0",
            "_model_name": "LayoutModel",
            "_view_count": null,
            "_view_module": "@jupyter-widgets/base",
            "_view_module_version": "1.2.0",
            "_view_name": "LayoutView",
            "align_content": null,
            "align_items": null,
            "align_self": null,
            "border": null,
            "bottom": null,
            "display": null,
            "flex": null,
            "flex_flow": null,
            "grid_area": null,
            "grid_auto_columns": null,
            "grid_auto_flow": null,
            "grid_auto_rows": null,
            "grid_column": null,
            "grid_gap": null,
            "grid_row": null,
            "grid_template_areas": null,
            "grid_template_columns": null,
            "grid_template_rows": null,
            "height": null,
            "justify_content": null,
            "justify_items": null,
            "left": null,
            "margin": null,
            "max_height": null,
            "max_width": null,
            "min_height": null,
            "min_width": null,
            "object_fit": null,
            "object_position": null,
            "order": null,
            "overflow": null,
            "overflow_x": null,
            "overflow_y": null,
            "padding": null,
            "right": null,
            "top": null,
            "visibility": null,
            "width": null
          }
        },
        "05e09c82498c4063bfbd66a2e4e5289a": {
          "model_module": "@jupyter-widgets/controls",
          "model_name": "DescriptionStyleModel",
          "model_module_version": "1.5.0",
          "state": {
            "_model_module": "@jupyter-widgets/controls",
            "_model_module_version": "1.5.0",
            "_model_name": "DescriptionStyleModel",
            "_view_count": null,
            "_view_module": "@jupyter-widgets/base",
            "_view_module_version": "1.2.0",
            "_view_name": "StyleView",
            "description_width": ""
          }
        }
      }
    }
  },
  "cells": [
    {
      "cell_type": "code",
      "source": [
        "!pip install datasets"
      ],
      "metadata": {
        "colab": {
          "base_uri": "https://localhost:8080/"
        },
        "id": "RiAx8QzKwkqD",
        "outputId": "e2c4fa7a-8bb9-4516-be72-e0a6f489417c"
      },
      "execution_count": null,
      "outputs": [
        {
          "output_type": "stream",
          "name": "stdout",
          "text": [
            "Looking in indexes: https://pypi.org/simple, https://us-python.pkg.dev/colab-wheels/public/simple/\n",
            "Collecting datasets\n",
            "  Downloading datasets-2.8.0-py3-none-any.whl (452 kB)\n",
            "\u001b[2K     \u001b[90m━━━━━━━━━━━━━━━━━━━━━━━━━━━━━━━━━━━━━━\u001b[0m \u001b[32m452.9/452.9 KB\u001b[0m \u001b[31m11.8 MB/s\u001b[0m eta \u001b[36m0:00:00\u001b[0m\n",
            "\u001b[?25hRequirement already satisfied: pyyaml>=5.1 in /usr/local/lib/python3.8/dist-packages (from datasets) (6.0)\n",
            "Requirement already satisfied: fsspec[http]>=2021.11.1 in /usr/local/lib/python3.8/dist-packages (from datasets) (2022.11.0)\n",
            "Requirement already satisfied: pandas in /usr/local/lib/python3.8/dist-packages (from datasets) (1.3.5)\n",
            "Collecting responses<0.19\n",
            "  Downloading responses-0.18.0-py3-none-any.whl (38 kB)\n",
            "Requirement already satisfied: aiohttp in /usr/local/lib/python3.8/dist-packages (from datasets) (3.8.3)\n",
            "Collecting xxhash\n",
            "  Downloading xxhash-3.2.0-cp38-cp38-manylinux_2_17_x86_64.manylinux2014_x86_64.whl (213 kB)\n",
            "\u001b[2K     \u001b[90m━━━━━━━━━━━━━━━━━━━━━━━━━━━━━━━━━━━━━━\u001b[0m \u001b[32m213.0/213.0 KB\u001b[0m \u001b[31m26.6 MB/s\u001b[0m eta \u001b[36m0:00:00\u001b[0m\n",
            "\u001b[?25hRequirement already satisfied: dill<0.3.7 in /usr/local/lib/python3.8/dist-packages (from datasets) (0.3.6)\n",
            "Requirement already satisfied: numpy>=1.17 in /usr/local/lib/python3.8/dist-packages (from datasets) (1.21.6)\n",
            "Requirement already satisfied: packaging in /usr/local/lib/python3.8/dist-packages (from datasets) (21.3)\n",
            "Requirement already satisfied: pyarrow>=6.0.0 in /usr/local/lib/python3.8/dist-packages (from datasets) (9.0.0)\n",
            "Collecting huggingface-hub<1.0.0,>=0.2.0\n",
            "  Downloading huggingface_hub-0.11.1-py3-none-any.whl (182 kB)\n",
            "\u001b[2K     \u001b[90m━━━━━━━━━━━━━━━━━━━━━━━━━━━━━━━━━━━━━━\u001b[0m \u001b[32m182.4/182.4 KB\u001b[0m \u001b[31m24.1 MB/s\u001b[0m eta \u001b[36m0:00:00\u001b[0m\n",
            "\u001b[?25hRequirement already satisfied: requests>=2.19.0 in /usr/local/lib/python3.8/dist-packages (from datasets) (2.25.1)\n",
            "Requirement already satisfied: tqdm>=4.62.1 in /usr/local/lib/python3.8/dist-packages (from datasets) (4.64.1)\n",
            "Collecting multiprocess\n",
            "  Downloading multiprocess-0.70.14-py38-none-any.whl (132 kB)\n",
            "\u001b[2K     \u001b[90m━━━━━━━━━━━━━━━━━━━━━━━━━━━━━━━━━━━━━━\u001b[0m \u001b[32m132.0/132.0 KB\u001b[0m \u001b[31m16.7 MB/s\u001b[0m eta \u001b[36m0:00:00\u001b[0m\n",
            "\u001b[?25hRequirement already satisfied: async-timeout<5.0,>=4.0.0a3 in /usr/local/lib/python3.8/dist-packages (from aiohttp->datasets) (4.0.2)\n",
            "Requirement already satisfied: yarl<2.0,>=1.0 in /usr/local/lib/python3.8/dist-packages (from aiohttp->datasets) (1.8.2)\n",
            "Requirement already satisfied: aiosignal>=1.1.2 in /usr/local/lib/python3.8/dist-packages (from aiohttp->datasets) (1.3.1)\n",
            "Requirement already satisfied: charset-normalizer<3.0,>=2.0 in /usr/local/lib/python3.8/dist-packages (from aiohttp->datasets) (2.1.1)\n",
            "Requirement already satisfied: multidict<7.0,>=4.5 in /usr/local/lib/python3.8/dist-packages (from aiohttp->datasets) (6.0.3)\n",
            "Requirement already satisfied: frozenlist>=1.1.1 in /usr/local/lib/python3.8/dist-packages (from aiohttp->datasets) (1.3.3)\n",
            "Requirement already satisfied: attrs>=17.3.0 in /usr/local/lib/python3.8/dist-packages (from aiohttp->datasets) (22.2.0)\n",
            "Requirement already satisfied: typing-extensions>=3.7.4.3 in /usr/local/lib/python3.8/dist-packages (from huggingface-hub<1.0.0,>=0.2.0->datasets) (4.4.0)\n",
            "Requirement already satisfied: filelock in /usr/local/lib/python3.8/dist-packages (from huggingface-hub<1.0.0,>=0.2.0->datasets) (3.8.2)\n",
            "Requirement already satisfied: pyparsing!=3.0.5,>=2.0.2 in /usr/local/lib/python3.8/dist-packages (from packaging->datasets) (3.0.9)\n",
            "Requirement already satisfied: chardet<5,>=3.0.2 in /usr/local/lib/python3.8/dist-packages (from requests>=2.19.0->datasets) (4.0.0)\n",
            "Requirement already satisfied: urllib3<1.27,>=1.21.1 in /usr/local/lib/python3.8/dist-packages (from requests>=2.19.0->datasets) (1.24.3)\n",
            "Requirement already satisfied: certifi>=2017.4.17 in /usr/local/lib/python3.8/dist-packages (from requests>=2.19.0->datasets) (2022.12.7)\n",
            "Requirement already satisfied: idna<3,>=2.5 in /usr/local/lib/python3.8/dist-packages (from requests>=2.19.0->datasets) (2.10)\n",
            "Collecting urllib3<1.27,>=1.21.1\n",
            "  Downloading urllib3-1.26.13-py2.py3-none-any.whl (140 kB)\n",
            "\u001b[2K     \u001b[90m━━━━━━━━━━━━━━━━━━━━━━━━━━━━━━━━━━━━━━\u001b[0m \u001b[32m140.6/140.6 KB\u001b[0m \u001b[31m12.3 MB/s\u001b[0m eta \u001b[36m0:00:00\u001b[0m\n",
            "\u001b[?25hRequirement already satisfied: python-dateutil>=2.7.3 in /usr/local/lib/python3.8/dist-packages (from pandas->datasets) (2.8.2)\n",
            "Requirement already satisfied: pytz>=2017.3 in /usr/local/lib/python3.8/dist-packages (from pandas->datasets) (2022.7)\n",
            "Requirement already satisfied: six>=1.5 in /usr/local/lib/python3.8/dist-packages (from python-dateutil>=2.7.3->pandas->datasets) (1.15.0)\n",
            "Installing collected packages: xxhash, urllib3, multiprocess, responses, huggingface-hub, datasets\n",
            "  Attempting uninstall: urllib3\n",
            "    Found existing installation: urllib3 1.24.3\n",
            "    Uninstalling urllib3-1.24.3:\n",
            "      Successfully uninstalled urllib3-1.24.3\n",
            "Successfully installed datasets-2.8.0 huggingface-hub-0.11.1 multiprocess-0.70.14 responses-0.18.0 urllib3-1.26.13 xxhash-3.2.0\n"
          ]
        }
      ]
    },
    {
      "cell_type": "code",
      "execution_count": null,
      "metadata": {
        "id": "cXROsXTluPdR"
      },
      "outputs": [],
      "source": [
        "import os\n",
        "import pickle\n",
        "\n",
        "import numpy as np \n",
        "import tensorflow as tf\n",
        "import tensorflow.keras.backend as K\n",
        "import matplotlib.pyplot as plt\n",
        "\n",
        "from tensorflow.keras.callbacks import ModelCheckpoint\n",
        "from tensorflow.keras.models import Sequential\n",
        "from tensorflow.keras.layers import Input, Dense, Dropout, Embedding, GlobalMaxPooling1D, Conv1D, MaxPooling1D, concatenate\n",
        "from tensorflow.keras.optimizers import Adam\n",
        "from tensorflow.keras.preprocessing.text import Tokenizer\n",
        "from tensorflow.keras.preprocessing.sequence import pad_sequences\n",
        "from tensorflow.keras import Model\n",
        "from tensorflow.keras.utils import plot_model\n",
        "from IPython.display import Image \n",
        "\n",
        "from sklearn.metrics import accuracy_score, classification_report\n",
        "from sklearn.preprocessing import MultiLabelBinarizer \n",
        "\n",
        "from datasets import load_dataset"
      ]
    },
    {
      "cell_type": "code",
      "source": [],
      "metadata": {
        "id": "_kBfF_gWR1_V"
      },
      "execution_count": null,
      "outputs": []
    },
    {
      "cell_type": "code",
      "source": [
        "from google.colab import drive\n",
        "drive.mount('/content/gdrive')"
      ],
      "metadata": {
        "colab": {
          "base_uri": "https://localhost:8080/"
        },
        "id": "r_4ociUzucPG",
        "outputId": "5310d6e9-1b5b-4c69-e80e-66a849d05295"
      },
      "execution_count": null,
      "outputs": [
        {
          "output_type": "stream",
          "name": "stdout",
          "text": [
            "Mounted at /content/gdrive\n"
          ]
        }
      ]
    },
    {
      "cell_type": "markdown",
      "source": [
        "## Load fasttext embeddings"
      ],
      "metadata": {
        "id": "R9olSLJAzKgc"
      }
    },
    {
      "cell_type": "code",
      "source": [
        "\"\"\"\n",
        "!wget https://dl.fbaipublicfiles.com/fasttext/vectors-crawl/cc.en.300.vec.gz\n",
        "!gzip -d cc.en.300.vec.gz\n",
        "\"\"\""
      ],
      "metadata": {
        "colab": {
          "base_uri": "https://localhost:8080/",
          "height": 36
        },
        "id": "Dw87YEq0vFmW",
        "outputId": "c05eed3e-63f7-4717-f5ba-38638ebd39c2"
      },
      "execution_count": null,
      "outputs": [
        {
          "output_type": "execute_result",
          "data": {
            "text/plain": [
              "'\\n!wget https://dl.fbaipublicfiles.com/fasttext/vectors-crawl/cc.en.300.vec.gz\\n!gzip -d cc.en.300.vec.gz\\n'"
            ],
            "application/vnd.google.colaboratory.intrinsic+json": {
              "type": "string"
            }
          },
          "metadata": {},
          "execution_count": 4
        }
      ]
    },
    {
      "cell_type": "code",
      "source": [
        "\"\"\"\n",
        "idx = 0\n",
        "# dictionary from word to index of 2d array\n",
        "vocab = {}\n",
        "with open(\"cc.en.300.vec\", 'r', encoding=\"utf-8\", newline='\\n',errors='ignore') as f:\n",
        "    for l in f:\n",
        "        line = l.rstrip().split(' ')\n",
        "        if idx == 0:\n",
        "            vocab_size = int(line[0]) + 2\n",
        "            dim = int(line[1])\n",
        "            #vector words x embedding_size\n",
        "            vecs = np.zeros(vocab_size*dim).reshape(vocab_size,dim)\n",
        "            vocab[\"__PADDING__\"] = 0\n",
        "            vocab[\"__UNK__\"] = 1\n",
        "            idx = 2\n",
        "        else:\n",
        "            vocab[line[0]] = idx\n",
        "            emb = np.array(line[1:]).astype(np.float)\n",
        "            if (emb.shape[0] == dim):\n",
        "                vecs[idx,:] = emb\n",
        "                idx+=1\n",
        "            else:\n",
        "                continue\n",
        "\n",
        "    pickle.dump(vocab,open(\"/content/gdrive/My Drive/fasttext_voc.pkl\" ,'wb'))\n",
        "    np.save(\"/content/gdrive/My Drive/fasttext.npy\",vecs)\n",
        "    # Free ram\n",
        "    vecs = None\n",
        "    vocab = None\n",
        "    emb = None\n",
        "\"\"\""
      ],
      "metadata": {
        "colab": {
          "base_uri": "https://localhost:8080/",
          "height": 122
        },
        "id": "v4f33Y1dvXCM",
        "outputId": "f00720e7-f283-4ad1-aca3-2d3d5d8ec8ff"
      },
      "execution_count": null,
      "outputs": [
        {
          "output_type": "execute_result",
          "data": {
            "text/plain": [
              "'\\nidx = 0\\n# dictionary from word to index of 2d array\\nvocab = {}\\nwith open(\"cc.en.300.vec\", \\'r\\', encoding=\"utf-8\", newline=\\'\\n\\',errors=\\'ignore\\') as f:\\n    for l in f:\\n        line = l.rstrip().split(\\' \\')\\n        if idx == 0:\\n            vocab_size = int(line[0]) + 2\\n            dim = int(line[1])\\n            #vector words x embedding_size\\n            vecs = np.zeros(vocab_size*dim).reshape(vocab_size,dim)\\n            vocab[\"__PADDING__\"] = 0\\n            vocab[\"__UNK__\"] = 1\\n            idx = 2\\n        else:\\n            vocab[line[0]] = idx\\n            emb = np.array(line[1:]).astype(np.float)\\n            if (emb.shape[0] == dim):\\n                vecs[idx,:] = emb\\n                idx+=1\\n            else:\\n                continue\\n\\n    pickle.dump(vocab,open(\"/content/gdrive/My Drive/fasttext_voc.pkl\" ,\\'wb\\'))\\n    np.save(\"/content/gdrive/My Drive/fasttext.npy\",vecs)\\n    # Free ram\\n    vecs = None\\n    vocab = None\\n    emb = None\\n'"
            ],
            "application/vnd.google.colaboratory.intrinsic+json": {
              "type": "string"
            }
          },
          "metadata": {},
          "execution_count": 5
        }
      ]
    },
    {
      "cell_type": "code",
      "source": [
        "fasttext_embed = np.load(\"/content/gdrive/My Drive/fasttext.npy\")\n",
        "fasttext_word_to_index = pickle.load(open(\"/content/gdrive/My Drive/fasttext_voc.pkl\", 'rb')) "
      ],
      "metadata": {
        "id": "YbgGMl3NwWYE"
      },
      "execution_count": null,
      "outputs": []
    },
    {
      "cell_type": "markdown",
      "source": [
        "## Evaluation metrics used from the CNN classifier"
      ],
      "metadata": {
        "id": "KAEEUSeA3EeT"
      }
    },
    {
      "cell_type": "code",
      "source": [
        "\"\"\"\n",
        "  Recall metric.\n",
        "  Only computes a batch-wise average of recall.\n",
        "  Computes the recall, a metric for multi-label classification of\n",
        "  how many relevant items are selected.\n",
        "\"\"\"\n",
        "\n",
        "def recall(y_true, y_pred):\n",
        "    true_positives = K.sum(K.round(K.clip(y_true * y_pred, 0, 1)))\n",
        "    possible_positives = K.sum(K.round(K.clip(y_true, 0, 1)))\n",
        "    recall = true_positives / (possible_positives + K.epsilon())\n",
        "    return recall"
      ],
      "metadata": {
        "id": "EwByUvhr3JTj"
      },
      "execution_count": null,
      "outputs": []
    },
    {
      "cell_type": "code",
      "source": [
        "\"\"\"\n",
        "  Precision metric.\n",
        "  Only computes a batch-wise average of precision.\n",
        "  Computes the precision, a metric for multi-label classification of\n",
        "  how many selected items are relevant.\n",
        "  Source\n",
        "  ------\n",
        "  https://github.com/fchollet/keras/issues/5400#issuecomment-314747992\n",
        "\"\"\"\n",
        "\n",
        "def precision(y_true, y_pred):\n",
        "    true_positives = K.sum(K.round(K.clip(y_true * y_pred, 0, 1)))\n",
        "    predicted_positives = K.sum(K.round(K.clip(y_pred, 0, 1)))\n",
        "    precision = true_positives / (predicted_positives + K.epsilon())\n",
        "    return precision"
      ],
      "metadata": {
        "id": "uInSYf9_9iL7"
      },
      "execution_count": null,
      "outputs": []
    },
    {
      "cell_type": "code",
      "source": [
        "\"\"\"\n",
        "  Calculates the F1 score.\n",
        "\"\"\"\n",
        "\n",
        "def f1(y_true, y_pred):\n",
        "    p = precision(y_true, y_pred)\n",
        "    r = recall(y_true, y_pred)\n",
        "    return 2 * ((p * r) / (p + r))"
      ],
      "metadata": {
        "id": "f4s8008K9kdb"
      },
      "execution_count": null,
      "outputs": []
    },
    {
      "cell_type": "code",
      "source": [
        "\"\"\"\n",
        "  Calculates the accuracy.\n",
        "\"\"\"\n",
        "\n",
        "def accuracy(y_true, y_pred):\n",
        "    return K.mean(K.equal(y_true, K.round(y_pred)), axis=1)"
      ],
      "metadata": {
        "id": "kV6lwKg69nDd"
      },
      "execution_count": null,
      "outputs": []
    },
    {
      "cell_type": "markdown",
      "source": [
        "## Load and preprocess dataset"
      ],
      "metadata": {
        "id": "IXzliY5DzxoE"
      }
    },
    {
      "cell_type": "code",
      "source": [
        "\"\"\"\n",
        "    Loads the dataset.\n",
        "\"\"\"\n",
        "\n",
        "def load_ag_news_dataset():\n",
        "    dataset = load_dataset(\"ag_news\")\n",
        "    \n",
        "    train_x = []\n",
        "    train_y = []\n",
        "    dev_x = []\n",
        "    dev_y = []\n",
        "    test_x = []\n",
        "    test_y = []\n",
        "\n",
        "    for x in range(0, 6000):\n",
        "        train_x.append(dataset['train'][x]['text'])\n",
        "        train_y.append(dataset['train'][x]['label'])\n",
        "\n",
        "    for x in range(6000, 7500):\n",
        "        dev_x.append(dataset['train'][x]['text'])\n",
        "        dev_y.append(dataset['train'][x]['label'])\n",
        "\n",
        "    for x in range(0, 2000):\n",
        "        test_x.append(dataset['test'][x]['text'])\n",
        "        test_y.append(dataset['test'][x]['label'])\n",
        "    \n",
        "    return train_x, train_y, dev_x, dev_y, test_x, test_y"
      ],
      "metadata": {
        "id": "wd4hXbyuz0ow"
      },
      "execution_count": null,
      "outputs": []
    },
    {
      "cell_type": "code",
      "source": [
        "# Load the dataset\n",
        "train_x, train_y_, dev_x, dev_y_, test_x, test_y_ = load_ag_news_dataset()"
      ],
      "metadata": {
        "colab": {
          "base_uri": "https://localhost:8080/",
          "height": 264,
          "referenced_widgets": [
            "3aca537fe1144057bc0775b2a514c2fb",
            "98815998339e443d95853757df6216a4",
            "39fc285574ab41c4af10056a965f572b",
            "73eb6595231d4cd58e3f19734f12b21b",
            "251fa27b03da4b548edc6ef933677ebb",
            "3751c5170c8042a398fa45d9acda3ff3",
            "e0391d9bbdcd498f84a62202d31b7701",
            "3ec257d3c3b449f7ada6942a2a6e7ddb",
            "9833af993c8545a3a1c9acfb0579facf",
            "3a914edba1d5451fbf1bb0f0ce10927d",
            "1b29831c87ed40c99c322d6a433eba93",
            "4fcb4f8e196f488fa1efd1c6f55c6358",
            "13e0df3300b340b9846388dc7125f73e",
            "6c076fc3b2944fceb9213c7da9629766",
            "869bf6322a34482486f282690cd1f406",
            "4417689bc1bd4e0f8f9395842d233210",
            "6afe5df7e7224e30a261e931e81465ec",
            "9ee893d563c441cc8884f49d07eacbb1",
            "6ec7b03c3ff546f499807d078566a57f",
            "8fd2819f9ba34c47b4b7df5f36b1755b",
            "8f8fb8a5c9254ec182afcf02adf11fd9",
            "910e95d8117040a59e9eece83370d53a",
            "c0f0fceee43b4cd2b6e0fe2c037685cd",
            "2d82ae0c47e74193ba1850f294ac1aac",
            "30a9d87eec95498ca457a6ad245a6a16",
            "8eb0ce5478934ada9fed67b5b2295336",
            "9a2fc6a9b0c54e7092400f1494788925",
            "88704cd9711d4fd594c10fa4347dcfd9",
            "d7a51c02900046cc9c2db4a456c07ea0",
            "2e5adfb7b15048d98e8c38cb7bd2e38a",
            "a0eb9e2dcfe24e5f9533a1d3c241ce99",
            "9d7b9c2c21c34753a4e804248ab62d7c",
            "75071c4951a540f1935e2a516ff8f6d4",
            "21f96510346b4b0aa1e770c08edc1663",
            "d88cf8da3d60487c885af1ea4f1c2b61",
            "9e0e99173e63460f96342cdf282f492f",
            "11421d2f6df04b57bf4f21bd65e59be7",
            "46b8a3d8b37a40cbab3d9f3a3dcec129",
            "3212023f54ae458eb992a7fc932b73ae",
            "995f8dff58ee4b9faced7a5f24944878",
            "0df93f1acce14aeea0fed8a1040013d7",
            "74e518186c43439280856df5308719cf",
            "264aec7af48c4471b1e2b879dc7f7dbd",
            "28cd0dfc8ffc44149bc425b99bf7c241",
            "4921099e3bf14caa832cb0caa4d3b887",
            "c54931bdde964b57bc26d60c494d6f3d",
            "3f863c92356d4161b0e199c665bdcfab",
            "3b61a0e74548473282a31a6acc3185bd",
            "e841491de2244a4cb8327b53a4781918",
            "f213a8d8035b49489bca03024e938c1b",
            "85baf4cefaaf4662a40d2386788c62ac",
            "eda429c16fc54dd78e6f2a45236e2e35",
            "75bce18479f04e2ebdaf863514c2f63c",
            "1681dce9c0604a8cb7726e6345984030",
            "d850201e4084417c81c2c5ccfde11512",
            "f4b2b14375404ad8a6f74cb0fdff03bb",
            "9c9d511beb6547f8bb016f5a37f7e204",
            "f9a25b5be7cc46e29c5884db0178192f",
            "8c2005ad0c1847d89d65a919e4f23bed",
            "dddb4054501544d392a18e08477d9cfd",
            "941670e43b27430b85a8cad3c6655e23",
            "998ebc61ea2a4cd58a5573aa2e2cbf39",
            "a73cab645e394c6db1ccd580e662167a",
            "f3e14101eaf347d7833bb20e9250af73",
            "4f89b4dfea184bff9fad7013b8d1a3e9",
            "3c2a8efe004e4b07866ebaffbec480a0",
            "9cd2ec18b1054515b789eab1aa5a9304",
            "6e509017eb8f4c4a956f678d03f29832",
            "70e1587d668d475792a217448ad3c175",
            "9fdd27f44c204e759e221308a0eeab46",
            "6d694ab93fe244349dab8b11ba60ae14",
            "6fbb2dc4a7914c1db8081307379d9830",
            "b29187a6bbd040e0b533f6e43bfd9780",
            "d357457de623423897ee1d04653ccb37",
            "8dd11cd5d8f0435aae2220fd17e252f7",
            "81b28c51b84e40b8ae5a662413a2249e",
            "115c1a56f5944430ae9b342715c4a675",
            "80a92633806845878814b26a285a575d",
            "f5c17e9370dc43b8adc06dfd065bee64",
            "24271d08fb8a450dab68661a2e3cde5d",
            "fd5b09b4cebc4825ba6b4c9875a10be0",
            "d98238d8be224e6087eaa1d126e4af09",
            "91e83890800e4f2799740170708ffdad",
            "36ac4e2b324c4ef284b703e8bc1aebcc",
            "085d21333e214a29a7781de59d4fd7d8",
            "1e8c5f832d624494b0a2e8541c3a880a",
            "55ba6f93ad2b4c349302196d5f9f1935",
            "05e09c82498c4063bfbd66a2e4e5289a"
          ]
        },
        "id": "vr7JHz3yz6a_",
        "outputId": "3793eb52-5e5b-4bd2-e491-5e5094e217a2"
      },
      "execution_count": null,
      "outputs": [
        {
          "output_type": "display_data",
          "data": {
            "text/plain": [
              "Downloading builder script:   0%|          | 0.00/4.06k [00:00<?, ?B/s]"
            ],
            "application/vnd.jupyter.widget-view+json": {
              "version_major": 2,
              "version_minor": 0,
              "model_id": "3aca537fe1144057bc0775b2a514c2fb"
            }
          },
          "metadata": {}
        },
        {
          "output_type": "display_data",
          "data": {
            "text/plain": [
              "Downloading metadata:   0%|          | 0.00/2.65k [00:00<?, ?B/s]"
            ],
            "application/vnd.jupyter.widget-view+json": {
              "version_major": 2,
              "version_minor": 0,
              "model_id": "4fcb4f8e196f488fa1efd1c6f55c6358"
            }
          },
          "metadata": {}
        },
        {
          "output_type": "display_data",
          "data": {
            "text/plain": [
              "Downloading readme:   0%|          | 0.00/7.94k [00:00<?, ?B/s]"
            ],
            "application/vnd.jupyter.widget-view+json": {
              "version_major": 2,
              "version_minor": 0,
              "model_id": "c0f0fceee43b4cd2b6e0fe2c037685cd"
            }
          },
          "metadata": {}
        },
        {
          "output_type": "stream",
          "name": "stdout",
          "text": [
            "Downloading and preparing dataset ag_news/default to /root/.cache/huggingface/datasets/ag_news/default/0.0.0/bc2bcb40336ace1a0374767fc29bb0296cdaf8a6da7298436239c54d79180548...\n"
          ]
        },
        {
          "output_type": "display_data",
          "data": {
            "text/plain": [
              "Downloading data:   0%|          | 0.00/11.0M [00:00<?, ?B/s]"
            ],
            "application/vnd.jupyter.widget-view+json": {
              "version_major": 2,
              "version_minor": 0,
              "model_id": "21f96510346b4b0aa1e770c08edc1663"
            }
          },
          "metadata": {}
        },
        {
          "output_type": "display_data",
          "data": {
            "text/plain": [
              "Downloading data:   0%|          | 0.00/751k [00:00<?, ?B/s]"
            ],
            "application/vnd.jupyter.widget-view+json": {
              "version_major": 2,
              "version_minor": 0,
              "model_id": "4921099e3bf14caa832cb0caa4d3b887"
            }
          },
          "metadata": {}
        },
        {
          "output_type": "display_data",
          "data": {
            "text/plain": [
              "Generating train split:   0%|          | 0/120000 [00:00<?, ? examples/s]"
            ],
            "application/vnd.jupyter.widget-view+json": {
              "version_major": 2,
              "version_minor": 0,
              "model_id": "f4b2b14375404ad8a6f74cb0fdff03bb"
            }
          },
          "metadata": {}
        },
        {
          "output_type": "display_data",
          "data": {
            "text/plain": [
              "Generating test split:   0%|          | 0/7600 [00:00<?, ? examples/s]"
            ],
            "application/vnd.jupyter.widget-view+json": {
              "version_major": 2,
              "version_minor": 0,
              "model_id": "9cd2ec18b1054515b789eab1aa5a9304"
            }
          },
          "metadata": {}
        },
        {
          "output_type": "stream",
          "name": "stdout",
          "text": [
            "Dataset ag_news downloaded and prepared to /root/.cache/huggingface/datasets/ag_news/default/0.0.0/bc2bcb40336ace1a0374767fc29bb0296cdaf8a6da7298436239c54d79180548. Subsequent calls will reuse this data.\n"
          ]
        },
        {
          "output_type": "display_data",
          "data": {
            "text/plain": [
              "  0%|          | 0/2 [00:00<?, ?it/s]"
            ],
            "application/vnd.jupyter.widget-view+json": {
              "version_major": 2,
              "version_minor": 0,
              "model_id": "80a92633806845878814b26a285a575d"
            }
          },
          "metadata": {}
        }
      ]
    },
    {
      "cell_type": "code",
      "source": [
        "# Transform the outputs so they match the desired format\n",
        "\"\"\"\n",
        "mlb = MultiLabelBinarizer()\n",
        "\n",
        "train_y = mlb.fit_transform([[y] for y in train_y])\n",
        "dev_y = mlb.fit_transform([[y] for y in dev_y])\n",
        "test_y = mlb.fit_transform([[y] for y in test_y])\n",
        "\"\"\""
      ],
      "metadata": {
        "id": "tM8kfGnG4DV7",
        "colab": {
          "base_uri": "https://localhost:8080/",
          "height": 53
        },
        "outputId": "4d64d5c7-fb1c-4a2a-873a-e9f591aefb28"
      },
      "execution_count": null,
      "outputs": [
        {
          "output_type": "execute_result",
          "data": {
            "text/plain": [
              "'\\nmlb = MultiLabelBinarizer()\\n\\ntrain_y = mlb.fit_transform([[y] for y in train_y])\\ndev_y = mlb.fit_transform([[y] for y in dev_y])\\ntest_y = mlb.fit_transform([[y] for y in test_y])\\n'"
            ],
            "application/vnd.google.colaboratory.intrinsic+json": {
              "type": "string"
            }
          },
          "metadata": {},
          "execution_count": 13
        }
      ]
    },
    {
      "cell_type": "code",
      "source": [
        "from sklearn.preprocessing import label_binarize\n",
        "\n",
        "#y_train_1_hot = label_binarize(train_y, classes=np.arange(4))\n",
        "#y_val_1_hot = label_binarize(dev_y, classes=np.arange(4))\n",
        "#y_test_1_hot = label_binarize(test_y, classes=np.arange(4))\n",
        "\"\"\"\n",
        "train_y_single = train_y\n",
        "dev_y_single = dev_y\n",
        "test_y_single = test_y\n",
        "\"\"\"\n",
        "\n",
        "train_y = label_binarize(train_y_, classes=np.arange(4))\n",
        "dev_y = label_binarize(dev_y_, classes=np.arange(4))\n",
        "test_y = label_binarize(test_y_, classes=np.arange(4))\n",
        "\n",
        "print('y_train_1_hot[0]: {}'.format(train_y[0]))\n",
        "print('y_val_1_hot[0]: {}'.format(dev_y[0]))\n",
        "print('y_test_1_hot[0]: {}'.format(test_y[0]))"
      ],
      "metadata": {
        "colab": {
          "base_uri": "https://localhost:8080/"
        },
        "id": "tCyfkIdMTMuZ",
        "outputId": "4a1d069a-b307-45b5-ab72-275be8c5d967"
      },
      "execution_count": null,
      "outputs": [
        {
          "output_type": "stream",
          "name": "stdout",
          "text": [
            "y_train_1_hot[0]: [0 0 1 0]\n",
            "y_val_1_hot[0]: [0 1 0 0]\n",
            "y_test_1_hot[0]: [0 0 1 0]\n"
          ]
        }
      ]
    },
    {
      "cell_type": "markdown",
      "source": [
        "## Tokenize, convert text (sequence of words) to sequence of indices and PAD the sequences"
      ],
      "metadata": {
        "id": "0R7xYMZJ0Wv4"
      }
    },
    {
      "cell_type": "code",
      "source": [
        "# Define needed constants \n",
        "MAX_WORDS = 10000\n",
        "MAX_SEQUENCE_LENGTH = 200\n",
        "EMBEDDING_DIM = 300"
      ],
      "metadata": {
        "id": "oJShW-qKz-uE"
      },
      "execution_count": null,
      "outputs": []
    },
    {
      "cell_type": "code",
      "source": [
        "# Configure the tokenizer \n",
        "tokenizer = Tokenizer(num_words=MAX_WORDS,oov_token='__UNK__')\n",
        "tokenizer.fit_on_texts(train_x)"
      ],
      "metadata": {
        "id": "hp4LjFP00kW3"
      },
      "execution_count": null,
      "outputs": []
    },
    {
      "cell_type": "code",
      "source": [
        "train_seqs = tokenizer.texts_to_sequences(train_x)\n",
        "dev_seqs = tokenizer.texts_to_sequences(dev_x)\n",
        "\n",
        "train_data = pad_sequences(train_seqs, maxlen=MAX_SEQUENCE_LENGTH,padding='post')\n",
        "dev_data = pad_sequences(dev_seqs, maxlen=MAX_SEQUENCE_LENGTH,padding='post')"
      ],
      "metadata": {
        "id": "FXT2VRdh029f"
      },
      "execution_count": null,
      "outputs": []
    },
    {
      "cell_type": "code",
      "source": [
        "# Word index\n",
        "word_index = tokenizer.word_index"
      ],
      "metadata": {
        "id": "siNoKFYt1VoJ"
      },
      "execution_count": null,
      "outputs": []
    },
    {
      "cell_type": "code",
      "source": [
        "#fasttext_word_to_index['is']\n",
        "#fasttext_embed[15]"
      ],
      "metadata": {
        "id": "3rTofUxNWOnH"
      },
      "execution_count": null,
      "outputs": []
    },
    {
      "cell_type": "code",
      "source": [
        "# Define model's embedding matrix\n",
        "embedding_matrix = np.zeros((MAX_WORDS, EMBEDDING_DIM))\n",
        "\n",
        "for word, i in word_index.items():\n",
        "    if i > MAX_WORDS:\n",
        "            continue\n",
        "    try:\n",
        "        embedding_vector = fasttext_embed[fasttext_word_to_index[word],:]\n",
        "        embedding_matrix[i] = embedding_vector\n",
        "    except:\n",
        "        pass\n",
        "\n"
      ],
      "metadata": {
        "id": "lOhFkpPC0_IK"
      },
      "execution_count": null,
      "outputs": []
    },
    {
      "cell_type": "code",
      "source": [
        "#embedding_matrix[871]"
      ],
      "metadata": {
        "id": "PNRAzeC9VqTQ"
      },
      "execution_count": null,
      "outputs": []
    },
    {
      "cell_type": "markdown",
      "source": [
        "## Stacked CNNs followed by Max-Pooling"
      ],
      "metadata": {
        "id": "63s8gj6uqQBp"
      }
    },
    {
      "cell_type": "code",
      "source": [
        "# Set global environment variable\n",
        "os.environ['TF_CPP_MIN_LOG_LEVEL'] = '3'"
      ],
      "metadata": {
        "id": "70V1phyLqP5R"
      },
      "execution_count": null,
      "outputs": []
    },
    {
      "cell_type": "code",
      "source": [
        "# Global statements for CNN classifier\n",
        "FILTERS = 128  # the dimensionality of the output space (i.e. the number of output filters in the convolution)\n",
        "KERNEL = 3  # the length of the 1D convolution window\n",
        "DENSE = 64\n",
        "N_CLASSES = 4\n",
        "\n",
        "target_list = [\"World\", \"Sports\", \"Business\", \"Sci/Tech\"]\n",
        "\n",
        "with tf.device('/device:GPU:0'):\n",
        "\n",
        "  # create empty sequential model\n",
        "  model = Sequential()\n",
        "  # add an embedding layer\n",
        "  model.add(Embedding(input_dim=MAX_WORDS, # Size of the vocabulary, i.e. maximum integer index + 1\n",
        "                      output_dim=EMBEDDING_DIM, \n",
        "                      weights=[embedding_matrix], \n",
        "                      input_length=MAX_SEQUENCE_LENGTH, trainable=False))\n",
        "  # add 0.2 dropout probabillity\n",
        "  model.add(Dropout(0.2))\n",
        "  # add a stack of convolution layers\n",
        "  model.add(Conv1D(filters=FILTERS, kernel_size=KERNEL, activation='relu', padding='valid'))\n",
        "  model.add(Conv1D(filters=FILTERS, kernel_size=KERNEL, activation='relu', padding='valid'))\n",
        "  model.add(Conv1D(filters=FILTERS, kernel_size=KERNEL, activation='relu', padding='valid'))\n",
        "  model.add(Conv1D(filters=FILTERS, kernel_size=KERNEL, activation='relu', padding='valid'))\n",
        "  model.add(Conv1D(filters=FILTERS, kernel_size=KERNEL, activation='relu', padding='valid'))\n",
        "  # max pooling\n",
        "  model.add(GlobalMaxPooling1D())\n",
        "  # add 0.2 dropout probabillity\n",
        "  model.add(Dropout(0.2))\n",
        "  # add dense layer\n",
        "  model.add(Dense(DENSE, activation='relu'))\n",
        "  # add final linear layer\n",
        "  model.add(Dense(N_CLASSES, activation='sigmoid'))\n",
        "\n",
        "  print(model.summary())\n",
        "  model.compile(loss='binary_crossentropy',\n",
        "                optimizer=Adam(lr=0.001),\n",
        "                metrics=[precision, recall, f1, accuracy])\n",
        "\n",
        "  checkpoint = ModelCheckpoint('/content/gdrive/My Drive/keras_CNN_model', monitor='val_f1', verbose=1, save_best_only=True, mode='max')\n",
        "\n",
        "  checkpoint2 = ModelCheckpoint('/content/gdrive/My Drive/checkpoints/stackedCNN.hdf5',\n",
        "                               monitor='val_accuracy', \n",
        "                               mode='max', verbose=2,\n",
        "                               save_best_only=True,\n",
        "                               save_weights_only=True)\n",
        "\n",
        "  history = model.fit(train_data, train_y,\n",
        "                batch_size=32,\n",
        "                epochs=50,\n",
        "                verbose = 0,\n",
        "                callbacks=[checkpoint, checkpoint2],\n",
        "                validation_data=(dev_data, dev_y),\n",
        "                shuffle=True)"
      ],
      "metadata": {
        "colab": {
          "base_uri": "https://localhost:8080/",
          "height": 1000
        },
        "id": "cj4W08sdqYAl",
        "outputId": "eafa6f03-8087-4e5d-adbd-f96fc11d27c6"
      },
      "execution_count": null,
      "outputs": [
        {
          "output_type": "stream",
          "name": "stdout",
          "text": [
            "Model: \"sequential\"\n",
            "_________________________________________________________________\n",
            " Layer (type)                Output Shape              Param #   \n",
            "=================================================================\n",
            " embedding (Embedding)       (None, 200, 300)          3000000   \n",
            "                                                                 \n",
            " dropout (Dropout)           (None, 200, 300)          0         \n",
            "                                                                 \n",
            " conv1d (Conv1D)             (None, 198, 128)          115328    \n",
            "                                                                 \n",
            " conv1d_1 (Conv1D)           (None, 196, 128)          49280     \n",
            "                                                                 \n",
            " conv1d_2 (Conv1D)           (None, 194, 128)          49280     \n",
            "                                                                 \n",
            " conv1d_3 (Conv1D)           (None, 192, 128)          49280     \n",
            "                                                                 \n",
            " conv1d_4 (Conv1D)           (None, 190, 128)          49280     \n",
            "                                                                 \n",
            " global_max_pooling1d (Globa  (None, 128)              0         \n",
            " lMaxPooling1D)                                                  \n",
            "                                                                 \n",
            " dropout_1 (Dropout)         (None, 128)               0         \n",
            "                                                                 \n",
            " dense (Dense)               (None, 64)                8256      \n",
            "                                                                 \n",
            " dense_1 (Dense)             (None, 4)                 260       \n",
            "                                                                 \n",
            "=================================================================\n",
            "Total params: 3,320,964\n",
            "Trainable params: 320,964\n",
            "Non-trainable params: 3,000,000\n",
            "_________________________________________________________________\n",
            "None\n"
          ]
        },
        {
          "output_type": "stream",
          "name": "stderr",
          "text": [
            "/usr/local/lib/python3.8/dist-packages/keras/optimizers/optimizer_v2/adam.py:110: UserWarning: The `lr` argument is deprecated, use `learning_rate` instead.\n",
            "  super(Adam, self).__init__(name, **kwargs)\n"
          ]
        },
        {
          "output_type": "stream",
          "name": "stdout",
          "text": [
            "\n",
            "Epoch 1: val_f1 improved from -inf to 0.80392, saving model to /content/gdrive/My Drive/keras_CNN_model\n"
          ]
        },
        {
          "output_type": "stream",
          "name": "stderr",
          "text": [
            "WARNING:absl:Found untraced functions such as _jit_compiled_convolution_op, _jit_compiled_convolution_op, _jit_compiled_convolution_op, _jit_compiled_convolution_op, _jit_compiled_convolution_op while saving (showing 5 of 5). These functions will not be directly callable after loading.\n"
          ]
        },
        {
          "output_type": "stream",
          "name": "stdout",
          "text": [
            "\n",
            "Epoch 1: val_accuracy improved from -inf to 0.90583, saving model to /content/gdrive/My Drive/checkpoints/stackedCNN.hdf5\n",
            "\n",
            "Epoch 2: val_f1 improved from 0.80392 to 0.83306, saving model to /content/gdrive/My Drive/keras_CNN_model\n"
          ]
        },
        {
          "output_type": "stream",
          "name": "stderr",
          "text": [
            "WARNING:absl:Found untraced functions such as _jit_compiled_convolution_op, _jit_compiled_convolution_op, _jit_compiled_convolution_op, _jit_compiled_convolution_op, _jit_compiled_convolution_op while saving (showing 5 of 5). These functions will not be directly callable after loading.\n"
          ]
        },
        {
          "output_type": "stream",
          "name": "stdout",
          "text": [
            "\n",
            "Epoch 2: val_accuracy improved from 0.90583 to 0.91867, saving model to /content/gdrive/My Drive/checkpoints/stackedCNN.hdf5\n",
            "\n",
            "Epoch 3: val_f1 did not improve from 0.83306\n",
            "\n",
            "Epoch 3: val_accuracy did not improve from 0.91867\n",
            "\n",
            "Epoch 4: val_f1 improved from 0.83306 to 0.84247, saving model to /content/gdrive/My Drive/keras_CNN_model\n"
          ]
        },
        {
          "output_type": "stream",
          "name": "stderr",
          "text": [
            "WARNING:absl:Found untraced functions such as _jit_compiled_convolution_op, _jit_compiled_convolution_op, _jit_compiled_convolution_op, _jit_compiled_convolution_op, _jit_compiled_convolution_op while saving (showing 5 of 5). These functions will not be directly callable after loading.\n"
          ]
        },
        {
          "output_type": "stream",
          "name": "stdout",
          "text": [
            "\n",
            "Epoch 4: val_accuracy improved from 0.91867 to 0.92317, saving model to /content/gdrive/My Drive/checkpoints/stackedCNN.hdf5\n",
            "\n",
            "Epoch 5: val_f1 improved from 0.84247 to 0.85002, saving model to /content/gdrive/My Drive/keras_CNN_model\n"
          ]
        },
        {
          "output_type": "stream",
          "name": "stderr",
          "text": [
            "WARNING:absl:Found untraced functions such as _jit_compiled_convolution_op, _jit_compiled_convolution_op, _jit_compiled_convolution_op, _jit_compiled_convolution_op, _jit_compiled_convolution_op while saving (showing 5 of 5). These functions will not be directly callable after loading.\n"
          ]
        },
        {
          "output_type": "stream",
          "name": "stdout",
          "text": [
            "\n",
            "Epoch 5: val_accuracy improved from 0.92317 to 0.92667, saving model to /content/gdrive/My Drive/checkpoints/stackedCNN.hdf5\n",
            "\n",
            "Epoch 6: val_f1 did not improve from 0.85002\n",
            "\n",
            "Epoch 6: val_accuracy did not improve from 0.92667\n",
            "\n",
            "Epoch 7: val_f1 did not improve from 0.85002\n",
            "\n",
            "Epoch 7: val_accuracy did not improve from 0.92667\n",
            "\n",
            "Epoch 8: val_f1 did not improve from 0.85002\n",
            "\n",
            "Epoch 8: val_accuracy did not improve from 0.92667\n",
            "\n",
            "Epoch 9: val_f1 did not improve from 0.85002\n",
            "\n",
            "Epoch 9: val_accuracy did not improve from 0.92667\n",
            "\n",
            "Epoch 10: val_f1 did not improve from 0.85002\n",
            "\n",
            "Epoch 10: val_accuracy did not improve from 0.92667\n",
            "\n",
            "Epoch 11: val_f1 did not improve from 0.85002\n",
            "\n",
            "Epoch 11: val_accuracy did not improve from 0.92667\n",
            "\n",
            "Epoch 12: val_f1 did not improve from 0.85002\n",
            "\n",
            "Epoch 12: val_accuracy did not improve from 0.92667\n",
            "\n",
            "Epoch 13: val_f1 did not improve from 0.85002\n",
            "\n",
            "Epoch 13: val_accuracy did not improve from 0.92667\n",
            "\n",
            "Epoch 14: val_f1 did not improve from 0.85002\n",
            "\n",
            "Epoch 14: val_accuracy did not improve from 0.92667\n",
            "\n",
            "Epoch 15: val_f1 did not improve from 0.85002\n",
            "\n",
            "Epoch 15: val_accuracy did not improve from 0.92667\n",
            "\n",
            "Epoch 16: val_f1 did not improve from 0.85002\n",
            "\n",
            "Epoch 16: val_accuracy did not improve from 0.92667\n",
            "\n",
            "Epoch 17: val_f1 improved from 0.85002 to 0.85086, saving model to /content/gdrive/My Drive/keras_CNN_model\n"
          ]
        },
        {
          "output_type": "stream",
          "name": "stderr",
          "text": [
            "WARNING:absl:Found untraced functions such as _jit_compiled_convolution_op, _jit_compiled_convolution_op, _jit_compiled_convolution_op, _jit_compiled_convolution_op, _jit_compiled_convolution_op while saving (showing 5 of 5). These functions will not be directly callable after loading.\n"
          ]
        },
        {
          "output_type": "stream",
          "name": "stdout",
          "text": [
            "\n",
            "Epoch 17: val_accuracy did not improve from 0.92667\n",
            "\n",
            "Epoch 18: val_f1 did not improve from 0.85086\n",
            "\n",
            "Epoch 18: val_accuracy did not improve from 0.92667\n",
            "\n",
            "Epoch 19: val_f1 did not improve from 0.85086\n",
            "\n",
            "Epoch 19: val_accuracy did not improve from 0.92667\n",
            "\n",
            "Epoch 20: val_f1 did not improve from 0.85086\n",
            "\n",
            "Epoch 20: val_accuracy did not improve from 0.92667\n",
            "\n",
            "Epoch 21: val_f1 did not improve from 0.85086\n",
            "\n",
            "Epoch 21: val_accuracy did not improve from 0.92667\n",
            "\n",
            "Epoch 22: val_f1 did not improve from 0.85086\n",
            "\n",
            "Epoch 22: val_accuracy did not improve from 0.92667\n",
            "\n",
            "Epoch 23: val_f1 did not improve from 0.85086\n",
            "\n",
            "Epoch 23: val_accuracy did not improve from 0.92667\n",
            "\n",
            "Epoch 24: val_f1 did not improve from 0.85086\n",
            "\n",
            "Epoch 24: val_accuracy did not improve from 0.92667\n",
            "\n",
            "Epoch 25: val_f1 did not improve from 0.85086\n",
            "\n",
            "Epoch 25: val_accuracy did not improve from 0.92667\n",
            "\n",
            "Epoch 26: val_f1 did not improve from 0.85086\n",
            "\n",
            "Epoch 26: val_accuracy did not improve from 0.92667\n",
            "\n",
            "Epoch 27: val_f1 did not improve from 0.85086\n",
            "\n",
            "Epoch 27: val_accuracy did not improve from 0.92667\n",
            "\n",
            "Epoch 28: val_f1 did not improve from 0.85086\n",
            "\n",
            "Epoch 28: val_accuracy did not improve from 0.92667\n",
            "\n",
            "Epoch 29: val_f1 did not improve from 0.85086\n",
            "\n",
            "Epoch 29: val_accuracy did not improve from 0.92667\n",
            "\n",
            "Epoch 30: val_f1 did not improve from 0.85086\n",
            "\n",
            "Epoch 30: val_accuracy did not improve from 0.92667\n",
            "\n",
            "Epoch 31: val_f1 did not improve from 0.85086\n",
            "\n",
            "Epoch 31: val_accuracy did not improve from 0.92667\n",
            "\n",
            "Epoch 32: val_f1 did not improve from 0.85086\n",
            "\n",
            "Epoch 32: val_accuracy did not improve from 0.92667\n",
            "\n",
            "Epoch 33: val_f1 did not improve from 0.85086\n",
            "\n",
            "Epoch 33: val_accuracy did not improve from 0.92667\n",
            "\n",
            "Epoch 34: val_f1 did not improve from 0.85086\n",
            "\n",
            "Epoch 34: val_accuracy did not improve from 0.92667\n",
            "\n",
            "Epoch 35: val_f1 did not improve from 0.85086\n",
            "\n",
            "Epoch 35: val_accuracy did not improve from 0.92667\n",
            "\n",
            "Epoch 36: val_f1 did not improve from 0.85086\n",
            "\n",
            "Epoch 36: val_accuracy did not improve from 0.92667\n",
            "\n",
            "Epoch 37: val_f1 did not improve from 0.85086\n",
            "\n",
            "Epoch 37: val_accuracy did not improve from 0.92667\n",
            "\n",
            "Epoch 38: val_f1 did not improve from 0.85086\n",
            "\n",
            "Epoch 38: val_accuracy did not improve from 0.92667\n",
            "\n",
            "Epoch 39: val_f1 did not improve from 0.85086\n",
            "\n",
            "Epoch 39: val_accuracy did not improve from 0.92667\n",
            "\n",
            "Epoch 40: val_f1 did not improve from 0.85086\n",
            "\n",
            "Epoch 40: val_accuracy did not improve from 0.92667\n",
            "\n",
            "Epoch 41: val_f1 did not improve from 0.85086\n",
            "\n",
            "Epoch 41: val_accuracy did not improve from 0.92667\n",
            "\n",
            "Epoch 42: val_f1 did not improve from 0.85086\n",
            "\n",
            "Epoch 42: val_accuracy did not improve from 0.92667\n",
            "\n",
            "Epoch 43: val_f1 did not improve from 0.85086\n",
            "\n",
            "Epoch 43: val_accuracy did not improve from 0.92667\n",
            "\n",
            "Epoch 44: val_f1 did not improve from 0.85086\n",
            "\n",
            "Epoch 44: val_accuracy did not improve from 0.92667\n",
            "\n",
            "Epoch 45: val_f1 did not improve from 0.85086\n",
            "\n",
            "Epoch 45: val_accuracy did not improve from 0.92667\n",
            "\n",
            "Epoch 46: val_f1 did not improve from 0.85086\n",
            "\n",
            "Epoch 46: val_accuracy did not improve from 0.92667\n",
            "\n",
            "Epoch 47: val_f1 did not improve from 0.85086\n",
            "\n",
            "Epoch 47: val_accuracy did not improve from 0.92667\n",
            "\n",
            "Epoch 48: val_f1 did not improve from 0.85086\n",
            "\n",
            "Epoch 48: val_accuracy did not improve from 0.92667\n",
            "\n",
            "Epoch 49: val_f1 did not improve from 0.85086\n",
            "\n",
            "Epoch 49: val_accuracy did not improve from 0.92667\n",
            "\n",
            "Epoch 50: val_f1 did not improve from 0.85086\n",
            "\n",
            "Epoch 50: val_accuracy did not improve from 0.92667\n"
          ]
        }
      ]
    },
    {
      "cell_type": "code",
      "source": [
        "%matplotlib inline\n",
        "import matplotlib.pyplot as plt\n",
        "\n",
        "# summarize history for accuracy\n",
        "plt.plot(history.history['accuracy'])\n",
        "plt.plot(history.history['val_accuracy'])\n",
        "plt.title('model accuracy')\n",
        "plt.ylabel('accuracy')\n",
        "plt.xlabel('epoch')\n",
        "plt.legend(['train', 'dev'], loc='upper left')\n",
        "plt.show()\n",
        "\n",
        "# summarize history for loss\n",
        "plt.plot(history.history['loss'])\n",
        "plt.plot(history.history['val_loss'])\n",
        "plt.title('model loss')\n",
        "plt.ylabel('loss')\n",
        "plt.xlabel('epoch')\n",
        "plt.legend(['train', 'dev'], loc='upper right')\n",
        "plt.show()"
      ],
      "metadata": {
        "colab": {
          "base_uri": "https://localhost:8080/",
          "height": 573
        },
        "id": "J1sZye2wq04z",
        "outputId": "b4bc0b4f-6d41-4f41-d5ed-906de2e9c558"
      },
      "execution_count": null,
      "outputs": [
        {
          "output_type": "display_data",
          "data": {
            "text/plain": [
              "<Figure size 432x288 with 1 Axes>"
            ],
            "image/png": "[encoded data removed]"
          },
          "metadata": {
            "needs_background": "light"
          }
        },
        {
          "output_type": "display_data",
          "data": {
            "text/plain": [
              "<Figure size 432x288 with 1 Axes>"
            ],
            "image/png": "[encoded data removed]"
          },
          "metadata": {
            "needs_background": "light"
          }
        }
      ]
    },
    {
      "cell_type": "code",
      "source": [
        "import os\n",
        "os.environ['TF_CPP_MIN_LOG_LEVEL'] = '3'\n",
        "import tensorflow as tf\n",
        "from tensorflow.keras.callbacks import ModelCheckpoint\n",
        "from tensorflow.keras.layers import Dense, Dropout, Bidirectional, LSTM, Embedding, Input\n",
        "from tensorflow.keras.optimizers import Adam\n",
        "import tensorflow.keras.backend as K\n",
        "from tensorflow.keras import Model\n",
        "from sklearn.metrics import f1_score, recall_score, precision_score, classification_report, precision_recall_curve, auc, plot_confusion_matrix, average_precision_score, auc, roc_auc_score\n",
        "\n",
        "DENSE = 64\n",
        "\n",
        "with tf.device('/device:GPU:0'):\n",
        "\n",
        "  # create empty sequential model\n",
        "  model2 = Sequential()\n",
        "  # add an embedding layer\n",
        "  model2.add(Embedding(input_dim=MAX_WORDS, # Size of the vocabulary, i.e. maximum integer index + 1\n",
        "                      output_dim=EMBEDDING_DIM, \n",
        "                      weights=[embedding_matrix], \n",
        "                      input_length=MAX_SEQUENCE_LENGTH, trainable=False))\n",
        "  # add 0.2 dropout probabillity\n",
        "  model2.add(Dropout(0.2))\n",
        "  # add a stack of convolution layers\n",
        "  model2.add(Conv1D(filters=FILTERS, kernel_size=KERNEL, activation='relu', padding='valid'))\n",
        "  model2.add(Conv1D(filters=FILTERS, kernel_size=KERNEL, activation='relu', padding='valid'))\n",
        "  model2.add(Conv1D(filters=FILTERS, kernel_size=KERNEL, activation='relu', padding='valid'))\n",
        "  model2.add(Conv1D(filters=FILTERS, kernel_size=KERNEL, activation='relu', padding='valid'))\n",
        "  model2.add(Conv1D(filters=FILTERS, kernel_size=KERNEL, activation='relu', padding='valid'))\n",
        "  # max pooling\n",
        "  model2.add(GlobalMaxPooling1D())\n",
        "  # add 0.2 dropout probabillity\n",
        "  model2.add(Dropout(0.2))\n",
        "  # add dense layer\n",
        "  model2.add(Dense(DENSE, activation='relu'))\n",
        "  # add final linear layer\n",
        "  model2.add(Dense(N_CLASSES, activation='sigmoid'))\n",
        "\n",
        "  print(model2.summary())\n",
        "  \n",
        "  # Load weights from the pre-trained model\n",
        "  model2.load_weights(\"/content/gdrive/My Drive/checkpoints/stackedCNN.hdf5\")\n",
        "  \n",
        "  print(\"Dev set performance\")\n",
        "  predictions_val = np.argmax(model2.predict(dev_data), -1)\n",
        "  print(classification_report(dev_y_, predictions_val, target_names=target_list))\n",
        "\n",
        "  print()\n",
        "  print(\"Training set performance\") # Overfitting on training set\n",
        "  predictions_train = np.argmax(model2.predict(train_data), -1)\n",
        "  print(classification_report(train_y_, predictions_train, target_names=target_list))\n",
        "\n",
        "# calculating more metrics\n",
        "  pred = model2.predict(dev_data)\n",
        "  # For each class\n",
        "  precision_ = dict()\n",
        "  recall_ = dict()\n",
        "  average_precision = dict()\n",
        "  area = dict()\n",
        "  for i in range(4):\n",
        "      precision_[i], recall_[i], _ = precision_recall_curve(dev_y[:, i], pred[:, i])\n",
        "      average_precision[i] = average_precision_score(dev_y[:, i], pred[:, i])\n",
        "      # A \"micro-average\": quantifying score on each class\n",
        "      category = \"micro-\" + target_list[i]\n",
        "      precision_[category], recall_[category], _ = precision_recall_curve(\n",
        "      dev_y[:, i], pred[:, i])\n",
        "      area[category] = auc(recall_[category], precision_[category])\n",
        "\n",
        "  # A \"micro-average\": quantifying score on all classes jointly\n",
        "  precision_[\"micro\"], recall_[\"micro\"], _ = precision_recall_curve(\n",
        "      dev_y.ravel(), pred.ravel()\n",
        "  )\n",
        "  area_all = auc(recall_['micro'], precision_['micro'])"
      ],
      "metadata": {
        "colab": {
          "base_uri": "https://localhost:8080/"
        },
        "id": "VDC-LF4_z99J",
        "outputId": "b2f3fcca-5a81-4444-fb76-6a34a037cb69"
      },
      "execution_count": null,
      "outputs": [
        {
          "output_type": "stream",
          "name": "stdout",
          "text": [
            "Model: \"sequential_1\"\n",
            "_________________________________________________________________\n",
            " Layer (type)                Output Shape              Param #   \n",
            "=================================================================\n",
            " embedding_1 (Embedding)     (None, 200, 300)          3000000   \n",
            "                                                                 \n",
            " dropout_2 (Dropout)         (None, 200, 300)          0         \n",
            "                                                                 \n",
            " conv1d_5 (Conv1D)           (None, 198, 128)          115328    \n",
            "                                                                 \n",
            " conv1d_6 (Conv1D)           (None, 196, 128)          49280     \n",
            "                                                                 \n",
            " conv1d_7 (Conv1D)           (None, 194, 128)          49280     \n",
            "                                                                 \n",
            " conv1d_8 (Conv1D)           (None, 192, 128)          49280     \n",
            "                                                                 \n",
            " conv1d_9 (Conv1D)           (None, 190, 128)          49280     \n",
            "                                                                 \n",
            " global_max_pooling1d_1 (Glo  (None, 128)              0         \n",
            " balMaxPooling1D)                                                \n",
            "                                                                 \n",
            " dropout_3 (Dropout)         (None, 128)               0         \n",
            "                                                                 \n",
            " dense_2 (Dense)             (None, 64)                8256      \n",
            "                                                                 \n",
            " dense_3 (Dense)             (None, 4)                 260       \n",
            "                                                                 \n",
            "=================================================================\n",
            "Total params: 3,320,964\n",
            "Trainable params: 320,964\n",
            "Non-trainable params: 3,000,000\n",
            "_________________________________________________________________\n",
            "None\n",
            "Dev set performance\n",
            "47/47 [==============================] - 0s 4ms/step\n",
            "              precision    recall  f1-score   support\n",
            "\n",
            "       World       0.91      0.82      0.86       435\n",
            "      Sports       0.92      0.96      0.94       535\n",
            "    Business       0.77      0.81      0.79       331\n",
            "    Sci/Tech       0.70      0.70      0.70       199\n",
            "\n",
            "    accuracy                           0.85      1500\n",
            "   macro avg       0.82      0.82      0.82      1500\n",
            "weighted avg       0.85      0.85      0.85      1500\n",
            "\n",
            "\n",
            "Training set performance\n",
            "188/188 [==============================] - 1s 3ms/step\n",
            "              precision    recall  f1-score   support\n",
            "\n",
            "       World       0.97      0.83      0.89      1547\n",
            "      Sports       0.91      0.99      0.95      1302\n",
            "    Business       0.82      0.94      0.88      1449\n",
            "    Sci/Tech       0.94      0.88      0.91      1702\n",
            "\n",
            "    accuracy                           0.91      6000\n",
            "   macro avg       0.91      0.91      0.91      6000\n",
            "weighted avg       0.91      0.91      0.91      6000\n",
            "\n",
            "47/47 [==============================] - 0s 2ms/step\n"
          ]
        }
      ]
    },
    {
      "cell_type": "markdown",
      "source": [
        "# ***Fine Tuning the stacked CNNs using Keras Tuner***"
      ],
      "metadata": {
        "id": "wfp_4Jbnq9Vu"
      }
    },
    {
      "cell_type": "code",
      "source": [
        "def model_builder_stacked(hp):\n",
        "  model = tf.keras.Sequential()\n",
        "\n",
        "  MAX_WORDS = 10000\n",
        "  MAX_SEQUENCE_LENGTH = 200\n",
        "  EMBEDDING_DIM = 300\n",
        "\n",
        "  FILTERS = 128  # the dimensionality of the output space (i.e. the number of output filters in the convolution)\n",
        "  # KERNEL = 3  # the length of the 1D convolution window\n",
        "  DENSE = hp.Int('hidden_layer_units', min_value = 64, max_value = 512, step = 64)\n",
        "  N_CLASSES = 4\n",
        "\n",
        "  target_list = [\"World\", \"Sports\", \"Business\", \"Sci/Tech\"]\n",
        "\n",
        "  hp_dropout_embs = hp.Float('dropout_rate_emb', min_value=0.1, max_value=0.5,step=0.1)\n",
        "  hp_dropout = hp.Float('dropout_rate', min_value=0.1, max_value=0.5,step=0.1)\n",
        "  \n",
        "  hp_activation = hp.Choice(\"activation\", [\"relu\", \"tanh\", \"sigmoid\"])\n",
        "\n",
        "   # create empty sequential model\n",
        "  model3 = Sequential()\n",
        "  # add an embedding layer\n",
        "  model3.add(Embedding(input_dim=MAX_WORDS, # Size of the vocabulary, i.e. maximum integer index + 1\n",
        "                      output_dim=EMBEDDING_DIM, \n",
        "                      weights=[embedding_matrix], \n",
        "                      input_length=MAX_SEQUENCE_LENGTH, trainable=False))\n",
        "\n",
        "  # Dropout over Embeddings\n",
        "  model3.add(Dropout(hp_dropout_embs))\n",
        "\n",
        "  # I need to fine tune the hyperparameters eg number of layers, kernel size...\n",
        "\n",
        "  for i in range(hp.Int('num_layers', 1, 5)):\n",
        "\n",
        "    hp_kernels = hp.Choice(\"hp_kernel_size\", [2, 3, 4, 5])\n",
        "    # hp_activation = hp.Choice(\"activation\", [\"relu\", \"tanh\", \"sigmoid\"])\n",
        "\n",
        "    model3.add(Conv1D(filters = FILTERS, kernel_size = hp_kernels, activation = hp_activation, padding='valid'))\n",
        "\n",
        "  # max pooling\n",
        "  model3.add(GlobalMaxPooling1D())\n",
        "\n",
        "  # add 0.2 dropout probabillity\n",
        "  model3.add(Dropout(hp_dropout))\n",
        "\n",
        "  # add dense layer\n",
        "  model3.add(Dense(DENSE, activation='relu'))\n",
        "\n",
        "  # add final linear layer\n",
        "  model3.add(Dense(N_CLASSES, activation='sigmoid'))\n",
        "\n",
        "  print(model3.summary())\n",
        "  # Tune the learning rate for the optimizer\n",
        "  # Choose an optimal value from 0.01, 0.001, or 0.0001\n",
        "  #hp_learning_rate = hp.Choice('learning_rate', values=[5e-3, 1e-3, 5e-4, 1e-4])\n",
        "  hp_learning_rate = hp.Choice('learning_rate', values=[1e-3, 5e-4, 1e-4, 5e-5, 1e-5])\n",
        "  #hp_optimizer = hp.Choice('optimizer', ['Adam', 'sgd'])\n",
        "  model3.compile(optimizer=tf.keras.optimizers.Adam(learning_rate=hp_learning_rate),\n",
        "                loss='categorical_crossentropy',\n",
        "                metrics=[precision, recall, f1, accuracy])\n",
        "\n",
        "  return model3"
      ],
      "metadata": {
        "id": "6aq_k-YAq-Ii"
      },
      "execution_count": null,
      "outputs": []
    },
    {
      "cell_type": "code",
      "source": [],
      "metadata": {
        "id": "tqCpnhzUBkdM"
      },
      "execution_count": null,
      "outputs": []
    },
    {
      "cell_type": "code",
      "source": [
        "!pip3 install -q -U keras-tuner"
      ],
      "metadata": {
        "colab": {
          "base_uri": "https://localhost:8080/"
        },
        "id": "GtzIegIZuyjP",
        "outputId": "edc8b4e0-d011-467c-f8f7-521a35b81e2a"
      },
      "execution_count": null,
      "outputs": [
        {
          "output_type": "stream",
          "name": "stdout",
          "text": [
            "\u001b[2K     \u001b[90m━━━━━━━━━━━━━━━━━━━━━━━━━━━━━━━━━━━━━━━\u001b[0m \u001b[32m135.7/135.7 KB\u001b[0m \u001b[31m5.9 MB/s\u001b[0m eta \u001b[36m0:00:00\u001b[0m\n",
            "\u001b[2K     \u001b[90m━━━━━━━━━━━━━━━━━━━━━━━━━━━━━━━━━━━━━━━━\u001b[0m \u001b[32m1.6/1.6 MB\u001b[0m \u001b[31m40.9 MB/s\u001b[0m eta \u001b[36m0:00:00\u001b[0m\n",
            "\u001b[?25h"
          ]
        }
      ]
    },
    {
      "cell_type": "code",
      "source": [
        "import keras_tuner as kt\n",
        "\n",
        "with tf.device('/device:GPU:0'):\n",
        "  stacked_tuner_= kt.RandomSearch(model_builder_stacked,\n",
        "                      objective=kt.Objective(\"val_accuracy\", direction=\"max\"),\n",
        "                      max_trials=20,\n",
        "                      directory=\"nlp5-1\",\n",
        "                      project_name=\"CNNfinetuning1\")"
      ],
      "metadata": {
        "colab": {
          "base_uri": "https://localhost:8080/"
        },
        "id": "PUFWb4Z7u32K",
        "outputId": "758c2c83-0535-4f30-ab9d-1a90cc4cf228"
      },
      "execution_count": null,
      "outputs": [
        {
          "output_type": "stream",
          "name": "stdout",
          "text": [
            "Model: \"sequential_3\"\n",
            "_________________________________________________________________\n",
            " Layer (type)                Output Shape              Param #   \n",
            "=================================================================\n",
            " embedding_2 (Embedding)     (None, 200, 300)          3000000   \n",
            "                                                                 \n",
            " dropout_4 (Dropout)         (None, 200, 300)          0         \n",
            "                                                                 \n",
            " conv1d_10 (Conv1D)          (None, 199, 128)          76928     \n",
            "                                                                 \n",
            " global_max_pooling1d_2 (Glo  (None, 128)              0         \n",
            " balMaxPooling1D)                                                \n",
            "                                                                 \n",
            " dropout_5 (Dropout)         (None, 128)               0         \n",
            "                                                                 \n",
            " dense_4 (Dense)             (None, 64)                8256      \n",
            "                                                                 \n",
            " dense_5 (Dense)             (None, 4)                 260       \n",
            "                                                                 \n",
            "=================================================================\n",
            "Total params: 3,085,444\n",
            "Trainable params: 85,444\n",
            "Non-trainable params: 3,000,000\n",
            "_________________________________________________________________\n",
            "None\n"
          ]
        }
      ]
    },
    {
      "cell_type": "code",
      "source": [
        "stop_early = tf.keras.callbacks.EarlyStopping(monitor='val_accuracy', patience=3)"
      ],
      "metadata": {
        "id": "6nFXeh8iu35R"
      },
      "execution_count": null,
      "outputs": []
    },
    {
      "cell_type": "code",
      "source": [
        "stacked_tuner_.search(train_data, train_y, epochs=20, batch_size=64, callbacks=[stop_early], validation_data=(dev_data, dev_y))"
      ],
      "metadata": {
        "colab": {
          "base_uri": "https://localhost:8080/"
        },
        "id": "RPoqg8Zeu37m",
        "outputId": "9d3820c1-b0ce-48f7-8310-259142db3aff"
      },
      "execution_count": null,
      "outputs": [
        {
          "output_type": "stream",
          "name": "stdout",
          "text": [
            "Trial 20 Complete [00h 00m 17s]\n",
            "val_accuracy: 0.7901666760444641\n",
            "\n",
            "Best val_accuracy So Far: 0.8601666688919067\n",
            "Total elapsed time: 00h 05m 26s\n"
          ]
        }
      ]
    },
    {
      "cell_type": "code",
      "source": [
        "# Get the optimal hyperparameters\n",
        "best_hps_stacked=stacked_tuner_.get_best_hyperparameters(num_trials=1)[0]\n",
        "\n",
        "print(f\"\"\"\n",
        "The optimal number of stacked layers is {best_hps_stacked.get('num_layers')}. The best activation function is {best_hps_stacked.get('learning_rate')} The optimal number of neurons in the dense layer is {best_hps_stacked.get('hidden_layer_units')}.\n",
        "\"\"\")"
      ],
      "metadata": {
        "colab": {
          "base_uri": "https://localhost:8080/"
        },
        "id": "Mt6CXcGbvKPV",
        "outputId": "c00c805c-857a-499b-b003-ffdf98acb1f7"
      },
      "execution_count": null,
      "outputs": [
        {
          "output_type": "stream",
          "name": "stdout",
          "text": [
            "\n",
            "The optimal number of stacked layers is 1. The best activation function is 0.001 The optimal number of neurons in the dense layer is 192.\n",
            "\n"
          ]
        }
      ]
    },
    {
      "cell_type": "code",
      "source": [
        "stacked_fine_model = stacked_tuner_.hypermodel.build(best_hps_stacked)"
      ],
      "metadata": {
        "colab": {
          "base_uri": "https://localhost:8080/"
        },
        "id": "t--I-P3pvKRh",
        "outputId": "f06fc1bd-85ff-475d-984c-7c8b0801caec"
      },
      "execution_count": null,
      "outputs": [
        {
          "output_type": "stream",
          "name": "stdout",
          "text": [
            "Model: \"sequential_3\"\n",
            "_________________________________________________________________\n",
            " Layer (type)                Output Shape              Param #   \n",
            "=================================================================\n",
            " embedding_1 (Embedding)     (None, 200, 300)          3000000   \n",
            "                                                                 \n",
            " dropout_2 (Dropout)         (None, 200, 300)          0         \n",
            "                                                                 \n",
            " conv1d_1 (Conv1D)           (None, 198, 128)          115328    \n",
            "                                                                 \n",
            " global_max_pooling1d_1 (Glo  (None, 128)              0         \n",
            " balMaxPooling1D)                                                \n",
            "                                                                 \n",
            " dropout_3 (Dropout)         (None, 128)               0         \n",
            "                                                                 \n",
            " dense_2 (Dense)             (None, 192)               24768     \n",
            "                                                                 \n",
            " dense_3 (Dense)             (None, 4)                 772       \n",
            "                                                                 \n",
            "=================================================================\n",
            "Total params: 3,140,868\n",
            "Trainable params: 140,868\n",
            "Non-trainable params: 3,000,000\n",
            "_________________________________________________________________\n",
            "None\n"
          ]
        }
      ]
    },
    {
      "cell_type": "code",
      "source": [
        "print(stacked_fine_model.summary())\n",
        "\n",
        "history = stacked_fine_model.fit(\n",
        "    train_data, \n",
        "    train_y,\n",
        "    validation_data=(dev_data, dev_y),\n",
        "    batch_size=256,\n",
        "    epochs=30,\n",
        "    shuffle=True,\n",
        "    callbacks=[checkpoint]\n",
        "    )"
      ],
      "metadata": {
        "colab": {
          "base_uri": "https://localhost:8080/"
        },
        "id": "eqTF1nL6wHVh",
        "outputId": "9b0d5011-b22e-4f54-ced5-ccd1794c651b"
      },
      "execution_count": null,
      "outputs": [
        {
          "output_type": "stream",
          "name": "stdout",
          "text": [
            "Model: \"sequential_3\"\n",
            "_________________________________________________________________\n",
            " Layer (type)                Output Shape              Param #   \n",
            "=================================================================\n",
            " embedding_1 (Embedding)     (None, 200, 300)          3000000   \n",
            "                                                                 \n",
            " dropout_2 (Dropout)         (None, 200, 300)          0         \n",
            "                                                                 \n",
            " conv1d_1 (Conv1D)           (None, 198, 128)          115328    \n",
            "                                                                 \n",
            " global_max_pooling1d_1 (Glo  (None, 128)              0         \n",
            " balMaxPooling1D)                                                \n",
            "                                                                 \n",
            " dropout_3 (Dropout)         (None, 128)               0         \n",
            "                                                                 \n",
            " dense_2 (Dense)             (None, 192)               24768     \n",
            "                                                                 \n",
            " dense_3 (Dense)             (None, 4)                 772       \n",
            "                                                                 \n",
            "=================================================================\n",
            "Total params: 3,140,868\n",
            "Trainable params: 140,868\n",
            "Non-trainable params: 3,000,000\n",
            "_________________________________________________________________\n",
            "None\n",
            "Epoch 1/30\n",
            "24/24 [==============================] - ETA: 0s - loss: 1.3151 - precision: 0.3406 - recall: 0.5233 - f1: 0.4116 - accuracy: 0.6265\n",
            "Epoch 1: val_f1 did not improve from 0.85086\n",
            "24/24 [==============================] - 1s 32ms/step - loss: 1.3151 - precision: 0.3406 - recall: 0.5233 - f1: 0.4116 - accuracy: 0.6265 - val_loss: 1.2266 - val_precision: 0.3954 - val_recall: 0.6800 - val_f1: 0.4999 - val_accuracy: 0.6593\n",
            "Epoch 2/30\n",
            "23/24 [===========================>..] - ETA: 0s - loss: 1.0738 - precision: 0.4570 - recall: 0.7344 - f1: 0.5633 - accuracy: 0.7154\n",
            "Epoch 2: val_f1 did not improve from 0.85086\n",
            "24/24 [==============================] - 0s 20ms/step - loss: 1.0723 - precision: 0.4596 - recall: 0.7369 - f1: 0.5661 - accuracy: 0.7163 - val_loss: 0.9543 - val_precision: 0.4961 - val_recall: 0.8187 - val_f1: 0.6178 - val_accuracy: 0.7468\n",
            "Epoch 3/30\n",
            "22/24 [==========================>...] - ETA: 0s - loss: 0.8022 - precision: 0.5132 - recall: 0.8702 - f1: 0.6455 - accuracy: 0.7611\n",
            "Epoch 3: val_f1 did not improve from 0.85086\n",
            "24/24 [==============================] - 0s 20ms/step - loss: 0.7948 - precision: 0.5147 - recall: 0.8731 - f1: 0.6475 - accuracy: 0.7623 - val_loss: 0.6679 - val_precision: 0.5245 - val_recall: 0.8986 - val_f1: 0.6624 - val_accuracy: 0.7710\n",
            "Epoch 4/30\n",
            "24/24 [==============================] - ETA: 0s - loss: 0.5990 - precision: 0.5390 - recall: 0.9308 - f1: 0.6826 - accuracy: 0.7837\n",
            "Epoch 4: val_f1 did not improve from 0.85086\n",
            "24/24 [==============================] - 0s 20ms/step - loss: 0.5990 - precision: 0.5390 - recall: 0.9308 - f1: 0.6826 - accuracy: 0.7837 - val_loss: 0.5199 - val_precision: 0.5786 - val_recall: 0.9320 - val_f1: 0.7139 - val_accuracy: 0.8135\n",
            "Epoch 5/30\n",
            "22/24 [==========================>...] - ETA: 0s - loss: 0.4976 - precision: 0.5499 - recall: 0.9549 - f1: 0.6979 - accuracy: 0.7932\n",
            "Epoch 5: val_f1 did not improve from 0.85086\n",
            "24/24 [==============================] - 0s 19ms/step - loss: 0.4948 - precision: 0.5510 - recall: 0.9561 - f1: 0.6990 - accuracy: 0.7941 - val_loss: 0.4627 - val_precision: 0.5759 - val_recall: 0.9452 - val_f1: 0.7156 - val_accuracy: 0.8123\n",
            "Epoch 6/30\n",
            "21/24 [=========================>....] - ETA: 0s - loss: 0.4377 - precision: 0.5606 - recall: 0.9645 - f1: 0.7090 - accuracy: 0.8019\n",
            "Epoch 6: val_f1 did not improve from 0.85086\n",
            "24/24 [==============================] - 0s 19ms/step - loss: 0.4344 - precision: 0.5604 - recall: 0.9661 - f1: 0.7092 - accuracy: 0.8020 - val_loss: 0.4502 - val_precision: 0.5618 - val_recall: 0.9530 - val_f1: 0.7067 - val_accuracy: 0.8022\n",
            "Epoch 7/30\n",
            "21/24 [=========================>....] - ETA: 0s - loss: 0.4005 - precision: 0.5609 - recall: 0.9725 - f1: 0.7113 - accuracy: 0.8025\n",
            "Epoch 7: val_f1 did not improve from 0.85086\n",
            "24/24 [==============================] - 0s 19ms/step - loss: 0.4002 - precision: 0.5614 - recall: 0.9732 - f1: 0.7120 - accuracy: 0.8029 - val_loss: 0.4345 - val_precision: 0.5698 - val_recall: 0.9515 - val_f1: 0.7127 - val_accuracy: 0.8082\n",
            "Epoch 8/30\n",
            "21/24 [=========================>....] - ETA: 0s - loss: 0.3619 - precision: 0.5668 - recall: 0.9732 - f1: 0.7163 - accuracy: 0.8072\n",
            "Epoch 8: val_f1 did not improve from 0.85086\n",
            "24/24 [==============================] - 0s 19ms/step - loss: 0.3630 - precision: 0.5666 - recall: 0.9748 - f1: 0.7165 - accuracy: 0.8067 - val_loss: 0.4017 - val_precision: 0.5801 - val_recall: 0.9549 - val_f1: 0.7217 - val_accuracy: 0.8158\n",
            "Epoch 9/30\n",
            "23/24 [===========================>..] - ETA: 0s - loss: 0.3243 - precision: 0.5767 - recall: 0.9789 - f1: 0.7258 - accuracy: 0.8150\n",
            "Epoch 9: val_f1 did not improve from 0.85086\n",
            "24/24 [==============================] - 1s 23ms/step - loss: 0.3225 - precision: 0.5780 - recall: 0.9794 - f1: 0.7269 - accuracy: 0.8154 - val_loss: 0.4011 - val_precision: 0.5884 - val_recall: 0.9556 - val_f1: 0.7282 - val_accuracy: 0.8215\n",
            "Epoch 10/30\n",
            "22/24 [==========================>...] - ETA: 0s - loss: 0.3000 - precision: 0.5868 - recall: 0.9831 - f1: 0.7349 - accuracy: 0.8226\n",
            "Epoch 10: val_f1 did not improve from 0.85086\n",
            "24/24 [==============================] - 1s 27ms/step - loss: 0.3008 - precision: 0.5864 - recall: 0.9831 - f1: 0.7345 - accuracy: 0.8221 - val_loss: 0.4064 - val_precision: 0.5970 - val_recall: 0.9563 - val_f1: 0.7349 - val_accuracy: 0.8275\n",
            "Epoch 11/30\n",
            "22/24 [==========================>...] - ETA: 0s - loss: 0.2824 - precision: 0.5932 - recall: 0.9849 - f1: 0.7403 - accuracy: 0.8272\n",
            "Epoch 11: val_f1 did not improve from 0.85086\n",
            "24/24 [==============================] - 1s 24ms/step - loss: 0.2816 - precision: 0.5906 - recall: 0.9838 - f1: 0.7380 - accuracy: 0.8258 - val_loss: 0.4042 - val_precision: 0.5837 - val_recall: 0.9552 - val_f1: 0.7245 - val_accuracy: 0.8183\n",
            "Epoch 12/30\n",
            "21/24 [=========================>....] - ETA: 0s - loss: 0.2625 - precision: 0.5913 - recall: 0.9847 - f1: 0.7389 - accuracy: 0.8259\n",
            "Epoch 12: val_f1 did not improve from 0.85086\n",
            "24/24 [==============================] - 1s 26ms/step - loss: 0.2663 - precision: 0.5904 - recall: 0.9841 - f1: 0.7380 - accuracy: 0.8253 - val_loss: 0.3897 - val_precision: 0.5980 - val_recall: 0.9620 - val_f1: 0.7374 - val_accuracy: 0.8288\n",
            "Epoch 13/30\n",
            "22/24 [==========================>...] - ETA: 0s - loss: 0.2563 - precision: 0.5925 - recall: 0.9872 - f1: 0.7404 - accuracy: 0.8268\n",
            "Epoch 13: val_f1 did not improve from 0.85086\n",
            "24/24 [==============================] - 1s 24ms/step - loss: 0.2528 - precision: 0.5929 - recall: 0.9877 - f1: 0.7409 - accuracy: 0.8272 - val_loss: 0.3837 - val_precision: 0.6054 - val_recall: 0.9600 - val_f1: 0.7424 - val_accuracy: 0.8335\n",
            "Epoch 14/30\n",
            "21/24 [=========================>....] - ETA: 0s - loss: 0.2324 - precision: 0.6030 - recall: 0.9890 - f1: 0.7492 - accuracy: 0.8344\n",
            "Epoch 14: val_f1 did not improve from 0.85086\n",
            "24/24 [==============================] - 1s 23ms/step - loss: 0.2317 - precision: 0.6037 - recall: 0.9889 - f1: 0.7497 - accuracy: 0.8346 - val_loss: 0.3873 - val_precision: 0.5945 - val_recall: 0.9607 - val_f1: 0.7344 - val_accuracy: 0.8262\n",
            "Epoch 15/30\n",
            "23/24 [===========================>..] - ETA: 0s - loss: 0.2060 - precision: 0.6040 - recall: 0.9903 - f1: 0.7503 - accuracy: 0.8351\n",
            "Epoch 15: val_f1 did not improve from 0.85086\n",
            "24/24 [==============================] - 1s 25ms/step - loss: 0.2070 - precision: 0.6034 - recall: 0.9904 - f1: 0.7499 - accuracy: 0.8350 - val_loss: 0.3895 - val_precision: 0.6043 - val_recall: 0.9608 - val_f1: 0.7418 - val_accuracy: 0.8327\n",
            "Epoch 16/30\n",
            "23/24 [===========================>..] - ETA: 0s - loss: 0.1891 - precision: 0.6116 - recall: 0.9935 - f1: 0.7571 - accuracy: 0.8405\n",
            "Epoch 16: val_f1 did not improve from 0.85086\n",
            "24/24 [==============================] - 1s 26ms/step - loss: 0.1906 - precision: 0.6104 - recall: 0.9927 - f1: 0.7559 - accuracy: 0.8401 - val_loss: 0.4050 - val_precision: 0.5997 - val_recall: 0.9548 - val_f1: 0.7366 - val_accuracy: 0.8292\n",
            "Epoch 17/30\n",
            "23/24 [===========================>..] - ETA: 0s - loss: 0.1898 - precision: 0.6164 - recall: 0.9929 - f1: 0.7605 - accuracy: 0.8435\n",
            "Epoch 17: val_f1 did not improve from 0.85086\n",
            "24/24 [==============================] - 1s 29ms/step - loss: 0.1904 - precision: 0.6164 - recall: 0.9924 - f1: 0.7604 - accuracy: 0.8435 - val_loss: 0.4109 - val_precision: 0.6077 - val_recall: 0.9574 - val_f1: 0.7434 - val_accuracy: 0.8347\n",
            "Epoch 18/30\n",
            "23/24 [===========================>..] - ETA: 0s - loss: 0.1669 - precision: 0.6218 - recall: 0.9937 - f1: 0.7649 - accuracy: 0.8471\n",
            "Epoch 18: val_f1 did not improve from 0.85086\n",
            "24/24 [==============================] - 1s 27ms/step - loss: 0.1669 - precision: 0.6224 - recall: 0.9940 - f1: 0.7654 - accuracy: 0.8473 - val_loss: 0.4005 - val_precision: 0.6131 - val_recall: 0.9566 - val_f1: 0.7472 - val_accuracy: 0.8382\n",
            "Epoch 19/30\n",
            "23/24 [===========================>..] - ETA: 0s - loss: 0.1543 - precision: 0.6234 - recall: 0.9968 - f1: 0.7670 - accuracy: 0.8485\n",
            "Epoch 19: val_f1 did not improve from 0.85086\n",
            "24/24 [==============================] - 1s 25ms/step - loss: 0.1551 - precision: 0.6229 - recall: 0.9965 - f1: 0.7666 - accuracy: 0.8483 - val_loss: 0.4107 - val_precision: 0.6169 - val_recall: 0.9554 - val_f1: 0.7497 - val_accuracy: 0.8403\n",
            "Epoch 20/30\n",
            "22/24 [==========================>...] - ETA: 0s - loss: 0.1531 - precision: 0.6322 - recall: 0.9961 - f1: 0.7733 - accuracy: 0.8538\n",
            "Epoch 20: val_f1 did not improve from 0.85086\n",
            "24/24 [==============================] - 1s 27ms/step - loss: 0.1519 - precision: 0.6335 - recall: 0.9959 - f1: 0.7743 - accuracy: 0.8546 - val_loss: 0.4168 - val_precision: 0.6133 - val_recall: 0.9560 - val_f1: 0.7471 - val_accuracy: 0.8382\n",
            "Epoch 21/30\n",
            "22/24 [==========================>...] - ETA: 0s - loss: 0.1418 - precision: 0.6329 - recall: 0.9961 - f1: 0.7739 - accuracy: 0.8544\n",
            "Epoch 21: val_f1 did not improve from 0.85086\n",
            "24/24 [==============================] - 1s 25ms/step - loss: 0.1419 - precision: 0.6316 - recall: 0.9959 - f1: 0.7729 - accuracy: 0.8540 - val_loss: 0.4142 - val_precision: 0.6197 - val_recall: 0.9600 - val_f1: 0.7531 - val_accuracy: 0.8427\n",
            "Epoch 22/30\n",
            "22/24 [==========================>...] - ETA: 0s - loss: 0.1288 - precision: 0.6371 - recall: 0.9972 - f1: 0.7774 - accuracy: 0.8571\n",
            "Epoch 22: val_f1 did not improve from 0.85086\n",
            "24/24 [==============================] - 1s 27ms/step - loss: 0.1308 - precision: 0.6369 - recall: 0.9972 - f1: 0.7772 - accuracy: 0.8570 - val_loss: 0.4200 - val_precision: 0.6161 - val_recall: 0.9561 - val_f1: 0.7492 - val_accuracy: 0.8398\n",
            "Epoch 23/30\n",
            "24/24 [==============================] - ETA: 0s - loss: 0.1293 - precision: 0.6415 - recall: 0.9966 - f1: 0.7805 - accuracy: 0.8595\n",
            "Epoch 23: val_f1 did not improve from 0.85086\n",
            "24/24 [==============================] - 1s 25ms/step - loss: 0.1293 - precision: 0.6415 - recall: 0.9966 - f1: 0.7805 - accuracy: 0.8595 - val_loss: 0.4101 - val_precision: 0.6248 - val_recall: 0.9587 - val_f1: 0.7564 - val_accuracy: 0.8455\n",
            "Epoch 24/30\n",
            "23/24 [===========================>..] - ETA: 0s - loss: 0.1175 - precision: 0.6469 - recall: 0.9969 - f1: 0.7846 - accuracy: 0.8630\n",
            "Epoch 24: val_f1 did not improve from 0.85086\n",
            "24/24 [==============================] - 1s 29ms/step - loss: 0.1174 - precision: 0.6463 - recall: 0.9971 - f1: 0.7842 - accuracy: 0.8628 - val_loss: 0.4758 - val_precision: 0.6131 - val_recall: 0.9454 - val_f1: 0.7437 - val_accuracy: 0.8370\n",
            "Epoch 25/30\n",
            "24/24 [==============================] - ETA: 0s - loss: 0.1134 - precision: 0.6459 - recall: 0.9976 - f1: 0.7839 - accuracy: 0.8625\n",
            "Epoch 25: val_f1 did not improve from 0.85086\n",
            "24/24 [==============================] - 1s 25ms/step - loss: 0.1134 - precision: 0.6459 - recall: 0.9976 - f1: 0.7839 - accuracy: 0.8625 - val_loss: 0.4446 - val_precision: 0.6225 - val_recall: 0.9508 - val_f1: 0.7522 - val_accuracy: 0.8435\n",
            "Epoch 26/30\n",
            "22/24 [==========================>...] - ETA: 0s - loss: 0.1034 - precision: 0.6488 - recall: 0.9988 - f1: 0.7865 - accuracy: 0.8642\n",
            "Epoch 26: val_f1 did not improve from 0.85086\n",
            "24/24 [==============================] - 1s 29ms/step - loss: 0.1047 - precision: 0.6489 - recall: 0.9987 - f1: 0.7866 - accuracy: 0.8643 - val_loss: 0.4578 - val_precision: 0.6283 - val_recall: 0.9516 - val_f1: 0.7569 - val_accuracy: 0.8470\n",
            "Epoch 27/30\n",
            "23/24 [===========================>..] - ETA: 0s - loss: 0.1024 - precision: 0.6452 - recall: 0.9969 - f1: 0.7833 - accuracy: 0.8620\n",
            "Epoch 27: val_f1 did not improve from 0.85086\n",
            "24/24 [==============================] - 1s 27ms/step - loss: 0.1028 - precision: 0.6458 - recall: 0.9971 - f1: 0.7838 - accuracy: 0.8622 - val_loss: 0.4546 - val_precision: 0.6433 - val_recall: 0.9509 - val_f1: 0.7673 - val_accuracy: 0.8558\n",
            "Epoch 28/30\n",
            "24/24 [==============================] - ETA: 0s - loss: 0.0916 - precision: 0.6608 - recall: 0.9980 - f1: 0.7951 - accuracy: 0.8710\n",
            "Epoch 28: val_f1 did not improve from 0.85086\n",
            "24/24 [==============================] - 1s 27ms/step - loss: 0.0916 - precision: 0.6608 - recall: 0.9980 - f1: 0.7951 - accuracy: 0.8710 - val_loss: 0.4632 - val_precision: 0.6308 - val_recall: 0.9533 - val_f1: 0.7590 - val_accuracy: 0.8488\n",
            "Epoch 29/30\n",
            "21/24 [=========================>....] - ETA: 0s - loss: 0.0868 - precision: 0.6653 - recall: 0.9991 - f1: 0.7987 - accuracy: 0.8740\n",
            "Epoch 29: val_f1 did not improve from 0.85086\n",
            "24/24 [==============================] - 1s 25ms/step - loss: 0.0862 - precision: 0.6632 - recall: 0.9992 - f1: 0.7972 - accuracy: 0.8732 - val_loss: 0.4752 - val_precision: 0.6392 - val_recall: 0.9495 - val_f1: 0.7639 - val_accuracy: 0.8533\n",
            "Epoch 30/30\n",
            "23/24 [===========================>..] - ETA: 0s - loss: 0.0829 - precision: 0.6644 - recall: 0.9986 - f1: 0.7979 - accuracy: 0.8734\n",
            "Epoch 30: val_f1 did not improve from 0.85086\n",
            "24/24 [==============================] - 1s 27ms/step - loss: 0.0824 - precision: 0.6659 - recall: 0.9987 - f1: 0.7990 - accuracy: 0.8738 - val_loss: 0.4939 - val_precision: 0.6412 - val_recall: 0.9520 - val_f1: 0.7661 - val_accuracy: 0.8547\n"
          ]
        }
      ]
    },
    {
      "cell_type": "code",
      "source": [
        "predictions_val = stacked_fine_model.predict(dev_data)\n",
        "\n",
        "# report_lr_dev = classification_report(dev_y_, predictions_val, target_names=target_list, output_dict=True)\n",
        "#print(classification_report(dev_y_, predictions_val, target_names=target_list))"
      ],
      "metadata": {
        "colab": {
          "base_uri": "https://localhost:8080/"
        },
        "id": "NnDM-1VGwHXe",
        "outputId": "752ce3e7-2411-49e6-8a83-8ac51d48dfdd"
      },
      "execution_count": null,
      "outputs": [
        {
          "output_type": "stream",
          "name": "stdout",
          "text": [
            "47/47 [==============================] - 0s 4ms/step\n"
          ]
        }
      ]
    },
    {
      "cell_type": "markdown",
      "source": [
        "## Multi-filter CNNs for text classification"
      ],
      "metadata": {
        "id": "qL8JcLg-1eN_"
      }
    },
    {
      "cell_type": "code",
      "source": [
        "# Set global environment variable\n",
        "os.environ['TF_CPP_MIN_LOG_LEVEL'] = '3'"
      ],
      "metadata": {
        "id": "NFE5WyzL1g0g"
      },
      "execution_count": null,
      "outputs": []
    },
    {
      "cell_type": "code",
      "source": [
        "# Global statements for CNN classifier\n",
        "FILTERS = 128\n",
        "DENSE = 256\n",
        "KERNEL = 3\n",
        "N_CLASSES = 4 "
      ],
      "metadata": {
        "id": "BNVN_FVB1uCr"
      },
      "execution_count": null,
      "outputs": []
    },
    {
      "cell_type": "code",
      "source": [
        "# Inputs\n",
        "inputs = Input(shape=(MAX_SEQUENCE_LENGTH,), dtype=\"int32\")\n",
        "\n",
        "# Embeddings\n",
        "embeddings = Embedding(input_dim=MAX_WORDS, \n",
        "                        output_dim=EMBEDDING_DIM, weights=[embedding_matrix],\n",
        "                        input_length=MAX_SEQUENCE_LENGTH, trainable=False)(inputs)\n",
        "\n",
        "# Dropout over Embeddings\n",
        "dropped_embeddings = Dropout(rate=0.2)(embeddings)\n",
        "\n",
        "# Multi-filter CNNs\n",
        "pooled_convs = []\n",
        "filter_sizes = [2,3,4]\n",
        "for n_gram in filter_sizes:\n",
        "    convs = Conv1D(filters=FILTERS, kernel_size=n_gram, strides=1, \n",
        "                    padding=\"same\", activation='relu', \n",
        "                    name='{}-gram_Convolutions'.format(n_gram))(dropped_embeddings)\n",
        "    pooled_convs.append(GlobalMaxPooling1D(name='{}-gram_MaxPool'.format(n_gram))(convs))\n",
        "\n",
        "# Concatenation of filters form all window sizes\n",
        "concat =  concatenate(pooled_convs)\n",
        "concat = Dropout(rate=0.5)(concat)\n",
        "outputs = Dense(N_CLASSES, activation='sigmoid')(concat)\n",
        "\n",
        "# Create the model\n",
        "model = Model(inputs=inputs, outputs=outputs)"
      ],
      "metadata": {
        "id": "YFqVjRYc_phW"
      },
      "execution_count": null,
      "outputs": []
    },
    {
      "cell_type": "code",
      "source": [
        "# Print model's summary\n",
        "print(model.summary()) "
      ],
      "metadata": {
        "colab": {
          "base_uri": "https://localhost:8080/"
        },
        "id": "2d9V4a67AM05",
        "outputId": "b75c4440-89e3-45f0-e0af-455860ea9ff9"
      },
      "execution_count": null,
      "outputs": [
        {
          "output_type": "stream",
          "name": "stdout",
          "text": [
            "Model: \"model_5\"\n",
            "__________________________________________________________________________________________________\n",
            " Layer (type)                   Output Shape         Param #     Connected to                     \n",
            "==================================================================================================\n",
            " input_7 (InputLayer)           [(None, 200)]        0           []                               \n",
            "                                                                                                  \n",
            " embedding_6 (Embedding)        (None, 200, 300)     3000000     ['input_7[0][0]']                \n",
            "                                                                                                  \n",
            " dropout_6 (Dropout)            (None, 200, 300)     0           ['embedding_6[0][0]']            \n",
            "                                                                                                  \n",
            " 2-gram_Convolutions (Conv1D)   (None, 200, 128)     76928       ['dropout_6[0][0]']              \n",
            "                                                                                                  \n",
            " 3-gram_Convolutions (Conv1D)   (None, 200, 128)     115328      ['dropout_6[0][0]']              \n",
            "                                                                                                  \n",
            " 4-gram_Convolutions (Conv1D)   (None, 200, 128)     153728      ['dropout_6[0][0]']              \n",
            "                                                                                                  \n",
            " 2-gram_MaxPool (GlobalMaxPooli  (None, 128)         0           ['2-gram_Convolutions[0][0]']    \n",
            " ng1D)                                                                                            \n",
            "                                                                                                  \n",
            " 3-gram_MaxPool (GlobalMaxPooli  (None, 128)         0           ['3-gram_Convolutions[0][0]']    \n",
            " ng1D)                                                                                            \n",
            "                                                                                                  \n",
            " 4-gram_MaxPool (GlobalMaxPooli  (None, 128)         0           ['4-gram_Convolutions[0][0]']    \n",
            " ng1D)                                                                                            \n",
            "                                                                                                  \n",
            " concatenate_5 (Concatenate)    (None, 384)          0           ['2-gram_MaxPool[0][0]',         \n",
            "                                                                  '3-gram_MaxPool[0][0]',         \n",
            "                                                                  '4-gram_MaxPool[0][0]']         \n",
            "                                                                                                  \n",
            " dropout_7 (Dropout)            (None, 384)          0           ['concatenate_5[0][0]']          \n",
            "                                                                                                  \n",
            " dense_5 (Dense)                (None, 4)            1540        ['dropout_7[0][0]']              \n",
            "                                                                                                  \n",
            "==================================================================================================\n",
            "Total params: 3,347,524\n",
            "Trainable params: 347,524\n",
            "Non-trainable params: 3,000,000\n",
            "__________________________________________________________________________________________________\n",
            "None\n"
          ]
        }
      ]
    },
    {
      "cell_type": "code",
      "source": [
        "# Compile the model\n",
        "model.compile(loss='categorical_crossentropy',\n",
        "              optimizer=Adam(lr=0.001),\n",
        "              metrics=[precision, recall, f1, accuracy])\n",
        "\n",
        "checkpoint = ModelCheckpoint('/content/gdrive/My Drive/keras_Deep_CNN_model', monitor='val_f1', verbose=1, save_best_only=True, mode='max')\n",
        "\n",
        "checkpoint2 = ModelCheckpoint('/content/gdrive/My Drive/checkpoints/multifilterCNN.hdf5',\n",
        "                               monitor='val_accuracy', \n",
        "                               mode='max', verbose=2,\n",
        "                               save_best_only=True,\n",
        "                               save_weights_only=True)"
      ],
      "metadata": {
        "id": "0LpI_koVAKSS",
        "colab": {
          "base_uri": "https://localhost:8080/"
        },
        "outputId": "845bb524-7874-433d-b48e-664c0bc59ff8"
      },
      "execution_count": null,
      "outputs": [
        {
          "output_type": "stream",
          "name": "stderr",
          "text": [
            "/usr/local/lib/python3.8/dist-packages/keras/optimizers/optimizer_v2/adam.py:110: UserWarning: The `lr` argument is deprecated, use `learning_rate` instead.\n",
            "  super(Adam, self).__init__(name, **kwargs)\n"
          ]
        }
      ]
    },
    {
      "cell_type": "code",
      "source": [
        "# And fit\n",
        "history = model.fit(train_data,\n",
        "                      train_y,\n",
        "                      batch_size=32,\n",
        "                      epochs=50,\n",
        "                      verbose = 0,\n",
        "                      callbacks=[checkpoint, checkpoint2],\n",
        "                      validation_data=(dev_data, dev_y),\n",
        "                      shuffle=True) "
      ],
      "metadata": {
        "colab": {
          "base_uri": "https://localhost:8080/"
        },
        "id": "P3z3UcdjAXHV",
        "outputId": "73ac6034-4427-466f-8b7c-8b39ff5be230"
      },
      "execution_count": null,
      "outputs": [
        {
          "output_type": "stream",
          "name": "stdout",
          "text": [
            "\n",
            "Epoch 1: val_f1 improved from -inf to 0.65713, saving model to /content/gdrive/My Drive/keras_Deep_CNN_model\n"
          ]
        },
        {
          "output_type": "stream",
          "name": "stderr",
          "text": [
            "WARNING:absl:Found untraced functions such as _jit_compiled_convolution_op, _jit_compiled_convolution_op, _jit_compiled_convolution_op while saving (showing 3 of 3). These functions will not be directly callable after loading.\n"
          ]
        },
        {
          "output_type": "stream",
          "name": "stdout",
          "text": [
            "\n",
            "Epoch 1: val_accuracy improved from -inf to 0.75283, saving model to /content/gdrive/My Drive/checkpoints/multifilterCNN.hdf5\n",
            "\n",
            "Epoch 2: val_f1 improved from 0.65713 to 0.68874, saving model to /content/gdrive/My Drive/keras_Deep_CNN_model\n"
          ]
        },
        {
          "output_type": "stream",
          "name": "stderr",
          "text": [
            "WARNING:absl:Found untraced functions such as _jit_compiled_convolution_op, _jit_compiled_convolution_op, _jit_compiled_convolution_op while saving (showing 3 of 3). These functions will not be directly callable after loading.\n"
          ]
        },
        {
          "output_type": "stream",
          "name": "stdout",
          "text": [
            "\n",
            "Epoch 2: val_accuracy improved from 0.75283 to 0.78317, saving model to /content/gdrive/My Drive/checkpoints/multifilterCNN.hdf5\n",
            "\n",
            "Epoch 3: val_f1 improved from 0.68874 to 0.72336, saving model to /content/gdrive/My Drive/keras_Deep_CNN_model\n"
          ]
        },
        {
          "output_type": "stream",
          "name": "stderr",
          "text": [
            "WARNING:absl:Found untraced functions such as _jit_compiled_convolution_op, _jit_compiled_convolution_op, _jit_compiled_convolution_op while saving (showing 3 of 3). These functions will not be directly callable after loading.\n"
          ]
        },
        {
          "output_type": "stream",
          "name": "stdout",
          "text": [
            "\n",
            "Epoch 3: val_accuracy improved from 0.78317 to 0.81667, saving model to /content/gdrive/My Drive/checkpoints/multifilterCNN.hdf5\n",
            "\n",
            "Epoch 4: val_f1 did not improve from 0.72336\n",
            "\n",
            "Epoch 4: val_accuracy did not improve from 0.81667\n",
            "\n",
            "Epoch 5: val_f1 did not improve from 0.72336\n",
            "\n",
            "Epoch 5: val_accuracy did not improve from 0.81667\n",
            "\n",
            "Epoch 6: val_f1 improved from 0.72336 to 0.73457, saving model to /content/gdrive/My Drive/keras_Deep_CNN_model\n"
          ]
        },
        {
          "output_type": "stream",
          "name": "stderr",
          "text": [
            "WARNING:absl:Found untraced functions such as _jit_compiled_convolution_op, _jit_compiled_convolution_op, _jit_compiled_convolution_op while saving (showing 3 of 3). These functions will not be directly callable after loading.\n"
          ]
        },
        {
          "output_type": "stream",
          "name": "stdout",
          "text": [
            "\n",
            "Epoch 6: val_accuracy improved from 0.81667 to 0.82533, saving model to /content/gdrive/My Drive/checkpoints/multifilterCNN.hdf5\n",
            "\n",
            "Epoch 7: val_f1 did not improve from 0.73457\n",
            "\n",
            "Epoch 7: val_accuracy did not improve from 0.82533\n",
            "\n",
            "Epoch 8: val_f1 did not improve from 0.73457\n",
            "\n",
            "Epoch 8: val_accuracy did not improve from 0.82533\n",
            "\n",
            "Epoch 9: val_f1 did not improve from 0.73457\n",
            "\n",
            "Epoch 9: val_accuracy did not improve from 0.82533\n",
            "\n",
            "Epoch 10: val_f1 improved from 0.73457 to 0.74108, saving model to /content/gdrive/My Drive/keras_Deep_CNN_model\n"
          ]
        },
        {
          "output_type": "stream",
          "name": "stderr",
          "text": [
            "WARNING:absl:Found untraced functions such as _jit_compiled_convolution_op, _jit_compiled_convolution_op, _jit_compiled_convolution_op while saving (showing 3 of 3). These functions will not be directly callable after loading.\n"
          ]
        },
        {
          "output_type": "stream",
          "name": "stdout",
          "text": [
            "\n",
            "Epoch 10: val_accuracy improved from 0.82533 to 0.83067, saving model to /content/gdrive/My Drive/checkpoints/multifilterCNN.hdf5\n",
            "\n",
            "Epoch 11: val_f1 did not improve from 0.74108\n",
            "\n",
            "Epoch 11: val_accuracy improved from 0.83067 to 0.83133, saving model to /content/gdrive/My Drive/checkpoints/multifilterCNN.hdf5\n",
            "\n",
            "Epoch 12: val_f1 did not improve from 0.74108\n",
            "\n",
            "Epoch 12: val_accuracy did not improve from 0.83133\n",
            "\n",
            "Epoch 13: val_f1 improved from 0.74108 to 0.74775, saving model to /content/gdrive/My Drive/keras_Deep_CNN_model\n"
          ]
        },
        {
          "output_type": "stream",
          "name": "stderr",
          "text": [
            "WARNING:absl:Found untraced functions such as _jit_compiled_convolution_op, _jit_compiled_convolution_op, _jit_compiled_convolution_op while saving (showing 3 of 3). These functions will not be directly callable after loading.\n"
          ]
        },
        {
          "output_type": "stream",
          "name": "stdout",
          "text": [
            "\n",
            "Epoch 13: val_accuracy improved from 0.83133 to 0.83800, saving model to /content/gdrive/My Drive/checkpoints/multifilterCNN.hdf5\n",
            "\n",
            "Epoch 14: val_f1 improved from 0.74775 to 0.75852, saving model to /content/gdrive/My Drive/keras_Deep_CNN_model\n"
          ]
        },
        {
          "output_type": "stream",
          "name": "stderr",
          "text": [
            "WARNING:absl:Found untraced functions such as _jit_compiled_convolution_op, _jit_compiled_convolution_op, _jit_compiled_convolution_op while saving (showing 3 of 3). These functions will not be directly callable after loading.\n"
          ]
        },
        {
          "output_type": "stream",
          "name": "stdout",
          "text": [
            "\n",
            "Epoch 14: val_accuracy improved from 0.83800 to 0.84650, saving model to /content/gdrive/My Drive/checkpoints/multifilterCNN.hdf5\n",
            "\n",
            "Epoch 15: val_f1 did not improve from 0.75852\n",
            "\n",
            "Epoch 15: val_accuracy did not improve from 0.84650\n",
            "\n",
            "Epoch 16: val_f1 improved from 0.75852 to 0.77006, saving model to /content/gdrive/My Drive/keras_Deep_CNN_model\n"
          ]
        },
        {
          "output_type": "stream",
          "name": "stderr",
          "text": [
            "WARNING:absl:Found untraced functions such as _jit_compiled_convolution_op, _jit_compiled_convolution_op, _jit_compiled_convolution_op while saving (showing 3 of 3). These functions will not be directly callable after loading.\n"
          ]
        },
        {
          "output_type": "stream",
          "name": "stdout",
          "text": [
            "\n",
            "Epoch 16: val_accuracy improved from 0.84650 to 0.85633, saving model to /content/gdrive/My Drive/checkpoints/multifilterCNN.hdf5\n",
            "\n",
            "Epoch 17: val_f1 did not improve from 0.77006\n",
            "\n",
            "Epoch 17: val_accuracy did not improve from 0.85633\n",
            "\n",
            "Epoch 18: val_f1 did not improve from 0.77006\n",
            "\n",
            "Epoch 18: val_accuracy did not improve from 0.85633\n",
            "\n",
            "Epoch 19: val_f1 did not improve from 0.77006\n",
            "\n",
            "Epoch 19: val_accuracy did not improve from 0.85633\n",
            "\n",
            "Epoch 20: val_f1 improved from 0.77006 to 0.77956, saving model to /content/gdrive/My Drive/keras_Deep_CNN_model\n"
          ]
        },
        {
          "output_type": "stream",
          "name": "stderr",
          "text": [
            "WARNING:absl:Found untraced functions such as _jit_compiled_convolution_op, _jit_compiled_convolution_op, _jit_compiled_convolution_op while saving (showing 3 of 3). These functions will not be directly callable after loading.\n"
          ]
        },
        {
          "output_type": "stream",
          "name": "stdout",
          "text": [
            "\n",
            "Epoch 20: val_accuracy improved from 0.85633 to 0.86467, saving model to /content/gdrive/My Drive/checkpoints/multifilterCNN.hdf5\n",
            "\n",
            "Epoch 21: val_f1 did not improve from 0.77956\n",
            "\n",
            "Epoch 21: val_accuracy improved from 0.86467 to 0.86483, saving model to /content/gdrive/My Drive/checkpoints/multifilterCNN.hdf5\n",
            "\n",
            "Epoch 22: val_f1 did not improve from 0.77956\n",
            "\n",
            "Epoch 22: val_accuracy did not improve from 0.86483\n",
            "\n",
            "Epoch 23: val_f1 did not improve from 0.77956\n",
            "\n",
            "Epoch 23: val_accuracy did not improve from 0.86483\n",
            "\n",
            "Epoch 24: val_f1 improved from 0.77956 to 0.78921, saving model to /content/gdrive/My Drive/keras_Deep_CNN_model\n"
          ]
        },
        {
          "output_type": "stream",
          "name": "stderr",
          "text": [
            "WARNING:absl:Found untraced functions such as _jit_compiled_convolution_op, _jit_compiled_convolution_op, _jit_compiled_convolution_op while saving (showing 3 of 3). These functions will not be directly callable after loading.\n"
          ]
        },
        {
          "output_type": "stream",
          "name": "stdout",
          "text": [
            "\n",
            "Epoch 24: val_accuracy improved from 0.86483 to 0.87267, saving model to /content/gdrive/My Drive/checkpoints/multifilterCNN.hdf5\n",
            "\n",
            "Epoch 25: val_f1 improved from 0.78921 to 0.79044, saving model to /content/gdrive/My Drive/keras_Deep_CNN_model\n"
          ]
        },
        {
          "output_type": "stream",
          "name": "stderr",
          "text": [
            "WARNING:absl:Found untraced functions such as _jit_compiled_convolution_op, _jit_compiled_convolution_op, _jit_compiled_convolution_op while saving (showing 3 of 3). These functions will not be directly callable after loading.\n"
          ]
        },
        {
          "output_type": "stream",
          "name": "stdout",
          "text": [
            "\n",
            "Epoch 25: val_accuracy improved from 0.87267 to 0.87450, saving model to /content/gdrive/My Drive/checkpoints/multifilterCNN.hdf5\n",
            "\n",
            "Epoch 26: val_f1 did not improve from 0.79044\n",
            "\n",
            "Epoch 26: val_accuracy did not improve from 0.87450\n",
            "\n",
            "Epoch 27: val_f1 did not improve from 0.79044\n",
            "\n",
            "Epoch 27: val_accuracy did not improve from 0.87450\n",
            "\n",
            "Epoch 28: val_f1 did not improve from 0.79044\n",
            "\n",
            "Epoch 28: val_accuracy did not improve from 0.87450\n",
            "\n",
            "Epoch 29: val_f1 did not improve from 0.79044\n",
            "\n",
            "Epoch 29: val_accuracy did not improve from 0.87450\n",
            "\n",
            "Epoch 30: val_f1 did not improve from 0.79044\n",
            "\n",
            "Epoch 30: val_accuracy did not improve from 0.87450\n",
            "\n",
            "Epoch 31: val_f1 did not improve from 0.79044\n",
            "\n",
            "Epoch 31: val_accuracy did not improve from 0.87450\n",
            "\n",
            "Epoch 32: val_f1 did not improve from 0.79044\n",
            "\n",
            "Epoch 32: val_accuracy did not improve from 0.87450\n",
            "\n",
            "Epoch 33: val_f1 improved from 0.79044 to 0.79630, saving model to /content/gdrive/My Drive/keras_Deep_CNN_model\n"
          ]
        },
        {
          "output_type": "stream",
          "name": "stderr",
          "text": [
            "WARNING:absl:Found untraced functions such as _jit_compiled_convolution_op, _jit_compiled_convolution_op, _jit_compiled_convolution_op while saving (showing 3 of 3). These functions will not be directly callable after loading.\n"
          ]
        },
        {
          "output_type": "stream",
          "name": "stdout",
          "text": [
            "\n",
            "Epoch 33: val_accuracy improved from 0.87450 to 0.87900, saving model to /content/gdrive/My Drive/checkpoints/multifilterCNN.hdf5\n",
            "\n",
            "Epoch 34: val_f1 did not improve from 0.79630\n",
            "\n",
            "Epoch 34: val_accuracy did not improve from 0.87900\n",
            "\n",
            "Epoch 35: val_f1 did not improve from 0.79630\n",
            "\n",
            "Epoch 35: val_accuracy did not improve from 0.87900\n",
            "\n",
            "Epoch 36: val_f1 did not improve from 0.79630\n",
            "\n",
            "Epoch 36: val_accuracy did not improve from 0.87900\n",
            "\n",
            "Epoch 37: val_f1 did not improve from 0.79630\n",
            "\n",
            "Epoch 37: val_accuracy did not improve from 0.87900\n",
            "\n",
            "Epoch 38: val_f1 improved from 0.79630 to 0.79999, saving model to /content/gdrive/My Drive/keras_Deep_CNN_model\n"
          ]
        },
        {
          "output_type": "stream",
          "name": "stderr",
          "text": [
            "WARNING:absl:Found untraced functions such as _jit_compiled_convolution_op, _jit_compiled_convolution_op, _jit_compiled_convolution_op while saving (showing 3 of 3). These functions will not be directly callable after loading.\n"
          ]
        },
        {
          "output_type": "stream",
          "name": "stdout",
          "text": [
            "\n",
            "Epoch 38: val_accuracy improved from 0.87900 to 0.88200, saving model to /content/gdrive/My Drive/checkpoints/multifilterCNN.hdf5\n",
            "\n",
            "Epoch 39: val_f1 did not improve from 0.79999\n",
            "\n",
            "Epoch 39: val_accuracy did not improve from 0.88200\n",
            "\n",
            "Epoch 40: val_f1 did not improve from 0.79999\n",
            "\n",
            "Epoch 40: val_accuracy did not improve from 0.88200\n",
            "\n",
            "Epoch 41: val_f1 did not improve from 0.79999\n",
            "\n",
            "Epoch 41: val_accuracy did not improve from 0.88200\n",
            "\n",
            "Epoch 42: val_f1 did not improve from 0.79999\n",
            "\n",
            "Epoch 42: val_accuracy did not improve from 0.88200\n",
            "\n",
            "Epoch 43: val_f1 did not improve from 0.79999\n",
            "\n",
            "Epoch 43: val_accuracy did not improve from 0.88200\n",
            "\n",
            "Epoch 44: val_f1 did not improve from 0.79999\n",
            "\n",
            "Epoch 44: val_accuracy did not improve from 0.88200\n",
            "\n",
            "Epoch 45: val_f1 did not improve from 0.79999\n",
            "\n",
            "Epoch 45: val_accuracy did not improve from 0.88200\n",
            "\n",
            "Epoch 46: val_f1 did not improve from 0.79999\n",
            "\n",
            "Epoch 46: val_accuracy did not improve from 0.88200\n",
            "\n",
            "Epoch 47: val_f1 did not improve from 0.79999\n",
            "\n",
            "Epoch 47: val_accuracy did not improve from 0.88200\n",
            "\n",
            "Epoch 48: val_f1 improved from 0.79999 to 0.80576, saving model to /content/gdrive/My Drive/keras_Deep_CNN_model\n"
          ]
        },
        {
          "output_type": "stream",
          "name": "stderr",
          "text": [
            "WARNING:absl:Found untraced functions such as _jit_compiled_convolution_op, _jit_compiled_convolution_op, _jit_compiled_convolution_op while saving (showing 3 of 3). These functions will not be directly callable after loading.\n"
          ]
        },
        {
          "output_type": "stream",
          "name": "stdout",
          "text": [
            "\n",
            "Epoch 48: val_accuracy improved from 0.88200 to 0.88583, saving model to /content/gdrive/My Drive/checkpoints/multifilterCNN.hdf5\n",
            "\n",
            "Epoch 49: val_f1 did not improve from 0.80576\n",
            "\n",
            "Epoch 49: val_accuracy did not improve from 0.88583\n",
            "\n",
            "Epoch 50: val_f1 did not improve from 0.80576\n",
            "\n",
            "Epoch 50: val_accuracy did not improve from 0.88583\n"
          ]
        }
      ]
    },
    {
      "cell_type": "code",
      "source": [
        "# Summarize history for accuracy\n",
        "plt.plot(history.history['accuracy'])\n",
        "plt.plot(history.history['val_accuracy'])\n",
        "plt.title('model accuracy')\n",
        "plt.ylabel('accuracy')\n",
        "plt.xlabel('epoch')\n",
        "plt.legend(['train', 'dev'], loc='upper left')\n",
        "plt.show()\n",
        "\n",
        "# Summarize history for loss\n",
        "plt.plot(history.history['loss'])\n",
        "plt.plot(history.history['val_loss'])\n",
        "plt.title('model loss')\n",
        "plt.ylabel('loss')\n",
        "plt.xlabel('epoch')\n",
        "plt.legend(['train', 'dev'], loc='upper right')\n",
        "plt.show()"
      ],
      "metadata": {
        "colab": {
          "base_uri": "https://localhost:8080/",
          "height": 573
        },
        "id": "Hmvb4uY73cmx",
        "outputId": "fa8e5baa-614a-437a-e6d4-baac60651338"
      },
      "execution_count": null,
      "outputs": [
        {
          "output_type": "display_data",
          "data": {
            "text/plain": [
              "<Figure size 432x288 with 1 Axes>"
            ],
            "image/png": "[encoded data removed]"
          },
          "metadata": {
            "needs_background": "light"
          }
        },
        {
          "output_type": "display_data",
          "data": {
            "text/plain": [
              "<Figure size 432x288 with 1 Axes>"
            ],
            "image/png": "[encoded data removed]"
          },
          "metadata": {
            "needs_background": "light"
          }
        }
      ]
    },
    {
      "cell_type": "code",
      "source": [
        "import os\n",
        "os.environ['TF_CPP_MIN_LOG_LEVEL'] = '3'\n",
        "import tensorflow as tf\n",
        "from tensorflow.keras.callbacks import ModelCheckpoint\n",
        "from tensorflow.keras.layers import Dense, Dropout, Bidirectional, LSTM, Embedding, Input\n",
        "from tensorflow.keras.optimizers import Adam\n",
        "import tensorflow.keras.backend as K\n",
        "from tensorflow.keras import Model\n",
        "from sklearn.metrics import f1_score, recall_score, precision_score, classification_report, precision_recall_curve, auc, plot_confusion_matrix, average_precision_score, auc, roc_auc_score\n",
        "\n",
        "DENSE = 64\n",
        "\n",
        "with tf.device('/device:GPU:0'):\n",
        "\n",
        "  # Inputs\n",
        "  inputs = Input(shape=(MAX_SEQUENCE_LENGTH,), dtype=\"int32\")\n",
        "\n",
        "  # Embeddings\n",
        "  embeddings = Embedding(input_dim=MAX_WORDS, \n",
        "                          output_dim=EMBEDDING_DIM, weights=[embedding_matrix],\n",
        "                          input_length=MAX_SEQUENCE_LENGTH, trainable=False)(inputs)\n",
        "\n",
        "  # Dropout over Embeddings\n",
        "  #dropped_embeddings = Dropout(rate=0.2)(embeddings)\n",
        "\n",
        "  # Multi-filter CNNs\n",
        "  pooled_convs = []\n",
        "  filter_sizes = [2,3,4]\n",
        "  for n_gram in filter_sizes:\n",
        "      convs = Conv1D(filters=FILTERS, kernel_size=n_gram, strides=1, \n",
        "                      padding=\"same\", activation='relu', \n",
        "                      name='{}-gram_Convolutions'.format(n_gram))(embeddings)\n",
        "      pooled_convs.append(GlobalMaxPooling1D(name='{}-gram_MaxPool'.format(n_gram))(convs))\n",
        "\n",
        "  # Concatenation of filters form all window sizes\n",
        "  concat =  concatenate(pooled_convs)\n",
        "  #concat = Dropout(rate=0.5)(concat)\n",
        "  outputs = Dense(N_CLASSES, activation='sigmoid')(concat)\n",
        "\n",
        "  # Create the model\n",
        "  model_ = Model(inputs=inputs, outputs=outputs)\n",
        "\n",
        "  # Load weights from the pre-trained model\n",
        "  model_.load_weights(\"/content/gdrive/My Drive/checkpoints/multifilterCNN.hdf5\")\n",
        "\n",
        "  print(\"Dev set performance\")\n",
        "  predictions_val = np.argmax(model_.predict(dev_data), -1)\n",
        "  print(classification_report(dev_y_, predictions_val, target_names=target_list))\n",
        "\n",
        "  print()\n",
        "  print(\"Training set performance\") # Overfitting on training set\n",
        "  predictions_train = np.argmax(model_.predict(train_data), -1)\n",
        "  print(classification_report(train_y_, predictions_train, target_names=target_list))\n",
        "\n",
        "  # calculating more metrics\n",
        "  pred = model_.predict(dev_data)\n",
        "  # For each class\n",
        "  precision_ = dict()\n",
        "  recall_ = dict()\n",
        "  average_precision = dict()\n",
        "  area = dict()\n",
        "  for i in range(4):\n",
        "      precision_[i], recall_[i], _ = precision_recall_curve(dev_y[:, i], pred[:, i])\n",
        "      average_precision[i] = average_precision_score(dev_y[:, i], pred[:, i])\n",
        "      # A \"micro-average\": quantifying score on each class\n",
        "      category = \"micro-\" + target_list[i]\n",
        "      precision_[category], recall_[category], _ = precision_recall_curve(\n",
        "      dev_y[:, i], pred[:, i])\n",
        "      area[category] = auc(recall_[category], precision_[category])\n",
        "\n",
        "  # A \"micro-average\": quantifying score on all classes jointly\n",
        "  precision_[\"micro\"], recall_[\"micro\"], _ = precision_recall_curve(\n",
        "      dev_y.ravel(), pred.ravel()\n",
        "  )\n",
        "  area_all = auc(recall_['micro'], precision_['micro'])"
      ],
      "metadata": {
        "colab": {
          "base_uri": "https://localhost:8080/"
        },
        "id": "AbBUluwdD2lg",
        "outputId": "9322ea5a-73d3-4628-82cd-ae7a16e6171a"
      },
      "execution_count": null,
      "outputs": [
        {
          "output_type": "stream",
          "name": "stdout",
          "text": [
            "Dev set performance\n",
            "47/47 [==============================] - 0s 4ms/step\n",
            "              precision    recall  f1-score   support\n",
            "\n",
            "       World       0.87      0.89      0.88       435\n",
            "      Sports       0.93      0.96      0.95       535\n",
            "    Business       0.82      0.77      0.79       331\n",
            "    Sci/Tech       0.76      0.76      0.76       199\n",
            "\n",
            "    accuracy                           0.87      1500\n",
            "   macro avg       0.85      0.84      0.84      1500\n",
            "weighted avg       0.87      0.87      0.87      1500\n",
            "\n",
            "\n",
            "Training set performance\n",
            "188/188 [==============================] - 0s 3ms/step\n",
            "              precision    recall  f1-score   support\n",
            "\n",
            "       World       1.00      1.00      1.00      1547\n",
            "      Sports       1.00      1.00      1.00      1302\n",
            "    Business       1.00      1.00      1.00      1449\n",
            "    Sci/Tech       1.00      1.00      1.00      1702\n",
            "\n",
            "    accuracy                           1.00      6000\n",
            "   macro avg       1.00      1.00      1.00      6000\n",
            "weighted avg       1.00      1.00      1.00      6000\n",
            "\n",
            "47/47 [==============================] - 0s 2ms/step\n"
          ]
        }
      ]
    },
    {
      "cell_type": "code",
      "source": [
        "# Plot our model's architecture\n",
        "plot_model(model, to_file='model.png')\n",
        "Image('model.png')"
      ],
      "metadata": {
        "colab": {
          "base_uri": "https://localhost:8080/",
          "height": 758
        },
        "id": "I4pRWQs7-dY3",
        "outputId": "cc8d80fb-9e39-40b1-97c7-62d5ac5d1412"
      },
      "execution_count": null,
      "outputs": [
        {
          "output_type": "execute_result",
          "data": {
            "image/png": "[encoded data removed]",
            "text/plain": [
              "<IPython.core.display.Image object>"
            ]
          },
          "metadata": {},
          "execution_count": 43
        }
      ]
    },
    {
      "cell_type": "markdown",
      "source": [
        "# ***Fine Tuning the multi filter CNN using Keras Tuner***"
      ],
      "metadata": {
        "id": "RkP4le8Z3Ns3"
      }
    },
    {
      "cell_type": "code",
      "source": [
        "def model_builder(hp):\n",
        "  model = tf.keras.Sequential()\n",
        "\n",
        "  MAX_WORDS = 10000\n",
        "  MAX_SEQUENCE_LENGTH = 200\n",
        "  EMBEDDING_DIM = 300\n",
        "\n",
        "  target_list = [\"World\", \"Sports\", \"Business\", \"Sci/Tech\"]\n",
        "\n",
        "  hp_dropout_embs = hp.Float('dropout_rate_emb', min_value=0.1, max_value=0.5,step=0.1)\n",
        "  hp_dropout = hp.Float('dropout_rate', min_value=0.1, max_value=0.5,step=0.1)\n",
        "\n",
        "  inputs = Input(shape=(MAX_SEQUENCE_LENGTH,), dtype=\"int32\")\n",
        "\n",
        "  # Embeddings\n",
        "  embeddings = Embedding(input_dim=MAX_WORDS, \n",
        "                        output_dim=EMBEDDING_DIM, weights=[embedding_matrix],\n",
        "                        input_length=MAX_SEQUENCE_LENGTH, trainable=False)(inputs)\n",
        "\n",
        "  # Dropout over Embeddings\n",
        "  dropped_embeddings = Dropout(rate=hp_dropout_embs)(embeddings)\n",
        "\n",
        "  # I need to fine tune the hyperparameters eg\n",
        "\n",
        "  # Multi-filter CNNs\n",
        "  pooled_convs = []\n",
        "  filter_sizes = [2,3,4]\n",
        "  for n_gram in filter_sizes:\n",
        "      convs = Conv1D(filters=FILTERS, kernel_size=n_gram, strides=1, \n",
        "                      padding=\"same\", activation='relu', \n",
        "                      name='{}-gram_Convolutions'.format(n_gram))(dropped_embeddings)\n",
        "      pooled_convs.append(GlobalMaxPooling1D(name='{}-gram_MaxPool'.format(n_gram))(convs))\n",
        "\n",
        "  # Concatenation of filters form all window sizes\n",
        "  concat =  concatenate(pooled_convs)\n",
        "  concat = Dropout(rate=hp_dropout)(concat)\n",
        "  outputs = Dense(N_CLASSES, activation='sigmoid')(concat)\n",
        "\n",
        "\n",
        "\n",
        "  model_ft = Model(inputs, outputs=outputs)\n",
        "  print(model_ft.summary())\n",
        "  # Tune the learning rate for the optimizer\n",
        "  # Choose an optimal value from 0.01, 0.001, or 0.0001\n",
        "  #hp_learning_rate = hp.Choice('learning_rate', values=[5e-3, 1e-3, 5e-4, 1e-4])\n",
        "  hp_learning_rate = hp.Choice('learning_rate', values=[1e-3, 5e-4, 1e-4, 5e-5, 1e-5])\n",
        "  #hp_optimizer = hp.Choice('optimizer', ['Adam', 'sgd'])\n",
        "  model_ft.compile(optimizer=tf.keras.optimizers.Adam(learning_rate=hp_learning_rate),\n",
        "                loss='categorical_crossentropy',\n",
        "                metrics=[precision, recall, f1, accuracy])\n",
        "\n",
        "  return model_ft"
      ],
      "metadata": {
        "id": "3B-Y2QzLA5Zi"
      },
      "execution_count": null,
      "outputs": []
    },
    {
      "cell_type": "code",
      "source": [
        "!pip3 install -q -U keras-tuner"
      ],
      "metadata": {
        "id": "Waztrjd3eyJU"
      },
      "execution_count": null,
      "outputs": []
    },
    {
      "cell_type": "code",
      "source": [
        "import keras_tuner as kt\n",
        "\n",
        "with tf.device('/device:GPU:0'):\n",
        "  tuner_= kt.RandomSearch(model_builder,\n",
        "                      objective=kt.Objective(\"val_accuracy\", direction=\"max\"),\n",
        "                      max_trials=20,\n",
        "                      directory=\"nlp5-2\",\n",
        "                      project_name=\"CNNfinetuning1\")"
      ],
      "metadata": {
        "id": "tDhpJCkTe0ax",
        "colab": {
          "base_uri": "https://localhost:8080/"
        },
        "outputId": "aa0a9e8e-c630-4382-e3c1-7b7d4d79cd0a"
      },
      "execution_count": null,
      "outputs": [
        {
          "output_type": "stream",
          "name": "stdout",
          "text": [
            "Model: \"model_2\"\n",
            "__________________________________________________________________________________________________\n",
            " Layer (type)                   Output Shape         Param #     Connected to                     \n",
            "==================================================================================================\n",
            " input_3 (InputLayer)           [(None, 200)]        0           []                               \n",
            "                                                                                                  \n",
            " embedding_4 (Embedding)        (None, 200, 300)     3000000     ['input_3[0][0]']                \n",
            "                                                                                                  \n",
            " dropout_8 (Dropout)            (None, 200, 300)     0           ['embedding_4[0][0]']            \n",
            "                                                                                                  \n",
            " 2-gram_Convolutions (Conv1D)   (None, 200, 128)     76928       ['dropout_8[0][0]']              \n",
            "                                                                                                  \n",
            " 3-gram_Convolutions (Conv1D)   (None, 200, 128)     115328      ['dropout_8[0][0]']              \n",
            "                                                                                                  \n",
            " 4-gram_Convolutions (Conv1D)   (None, 200, 128)     153728      ['dropout_8[0][0]']              \n",
            "                                                                                                  \n",
            " 2-gram_MaxPool (GlobalMaxPooli  (None, 128)         0           ['2-gram_Convolutions[0][0]']    \n",
            " ng1D)                                                                                            \n",
            "                                                                                                  \n",
            " 3-gram_MaxPool (GlobalMaxPooli  (None, 128)         0           ['3-gram_Convolutions[0][0]']    \n",
            " ng1D)                                                                                            \n",
            "                                                                                                  \n",
            " 4-gram_MaxPool (GlobalMaxPooli  (None, 128)         0           ['4-gram_Convolutions[0][0]']    \n",
            " ng1D)                                                                                            \n",
            "                                                                                                  \n",
            " concatenate_2 (Concatenate)    (None, 384)          0           ['2-gram_MaxPool[0][0]',         \n",
            "                                                                  '3-gram_MaxPool[0][0]',         \n",
            "                                                                  '4-gram_MaxPool[0][0]']         \n",
            "                                                                                                  \n",
            " dropout_9 (Dropout)            (None, 384)          0           ['concatenate_2[0][0]']          \n",
            "                                                                                                  \n",
            " dense_6 (Dense)                (None, 4)            1540        ['dropout_9[0][0]']              \n",
            "                                                                                                  \n",
            "==================================================================================================\n",
            "Total params: 3,347,524\n",
            "Trainable params: 347,524\n",
            "Non-trainable params: 3,000,000\n",
            "__________________________________________________________________________________________________\n",
            "None\n"
          ]
        }
      ]
    },
    {
      "cell_type": "code",
      "source": [
        "stop_early = tf.keras.callbacks.EarlyStopping(monitor='val_accuracy', patience=3)"
      ],
      "metadata": {
        "id": "Us1Nnau9e7fy"
      },
      "execution_count": null,
      "outputs": []
    },
    {
      "cell_type": "code",
      "source": [
        "tuner_.search(train_data, train_y, epochs=15, batch_size=64, callbacks=[stop_early], validation_data=(dev_data, dev_y))"
      ],
      "metadata": {
        "id": "zUIPy4Zee-nd",
        "colab": {
          "base_uri": "https://localhost:8080/"
        },
        "outputId": "ac2f1c40-8885-4ef2-e612-903e6abbce8f"
      },
      "execution_count": null,
      "outputs": [
        {
          "output_type": "stream",
          "name": "stdout",
          "text": [
            "Trial 20 Complete [00h 00m 09s]\n",
            "val_accuracy: 0.8274999856948853\n",
            "\n",
            "Best val_accuracy So Far: 0.8914999961853027\n",
            "Total elapsed time: 00h 09m 18s\n"
          ]
        }
      ]
    },
    {
      "cell_type": "code",
      "source": [
        "# Get the optimal hyperparameters\n",
        "best_hps=tuner_.get_best_hyperparameters(num_trials=1)[0]\n",
        "\n",
        "print(f\"\"\"\n",
        "The optimal embedding dropout rate is {best_hps.get('dropout_rate_emb')}, the optimal dropout rate is {best_hps.get('dropout_rate')} .\"\"\")"
      ],
      "metadata": {
        "id": "S6je7vxHfKpr",
        "colab": {
          "base_uri": "https://localhost:8080/"
        },
        "outputId": "cf235ffc-c6f9-4e98-c0dc-7956a9896f88"
      },
      "execution_count": null,
      "outputs": [
        {
          "output_type": "stream",
          "name": "stdout",
          "text": [
            "\n",
            "The optimal embedding dropout rate is 0.1, the optimal dropout rate is 0.1 .\n"
          ]
        }
      ]
    },
    {
      "cell_type": "code",
      "source": [
        "fine_model = tuner_.hypermodel.build(best_hps)"
      ],
      "metadata": {
        "id": "Q4P_06kZfc8z",
        "colab": {
          "base_uri": "https://localhost:8080/"
        },
        "outputId": "0c9334b9-95b4-4c94-bcdc-ea2c756b4879"
      },
      "execution_count": null,
      "outputs": [
        {
          "output_type": "stream",
          "name": "stdout",
          "text": [
            "Model: \"model_1\"\n",
            "__________________________________________________________________________________________________\n",
            " Layer (type)                   Output Shape         Param #     Connected to                     \n",
            "==================================================================================================\n",
            " input_2 (InputLayer)           [(None, 200)]        0           []                               \n",
            "                                                                                                  \n",
            " embedding_1 (Embedding)        (None, 200, 300)     3000000     ['input_2[0][0]']                \n",
            "                                                                                                  \n",
            " dropout_2 (Dropout)            (None, 200, 300)     0           ['embedding_1[0][0]']            \n",
            "                                                                                                  \n",
            " 2-gram_Convolutions (Conv1D)   (None, 200, 128)     76928       ['dropout_2[0][0]']              \n",
            "                                                                                                  \n",
            " 3-gram_Convolutions (Conv1D)   (None, 200, 128)     115328      ['dropout_2[0][0]']              \n",
            "                                                                                                  \n",
            " 4-gram_Convolutions (Conv1D)   (None, 200, 128)     153728      ['dropout_2[0][0]']              \n",
            "                                                                                                  \n",
            " 2-gram_MaxPool (GlobalMaxPooli  (None, 128)         0           ['2-gram_Convolutions[0][0]']    \n",
            " ng1D)                                                                                            \n",
            "                                                                                                  \n",
            " 3-gram_MaxPool (GlobalMaxPooli  (None, 128)         0           ['3-gram_Convolutions[0][0]']    \n",
            " ng1D)                                                                                            \n",
            "                                                                                                  \n",
            " 4-gram_MaxPool (GlobalMaxPooli  (None, 128)         0           ['4-gram_Convolutions[0][0]']    \n",
            " ng1D)                                                                                            \n",
            "                                                                                                  \n",
            " concatenate_1 (Concatenate)    (None, 384)          0           ['2-gram_MaxPool[0][0]',         \n",
            "                                                                  '3-gram_MaxPool[0][0]',         \n",
            "                                                                  '4-gram_MaxPool[0][0]']         \n",
            "                                                                                                  \n",
            " dropout_3 (Dropout)            (None, 384)          0           ['concatenate_1[0][0]']          \n",
            "                                                                                                  \n",
            " dense_1 (Dense)                (None, 4)            1540        ['dropout_3[0][0]']              \n",
            "                                                                                                  \n",
            "==================================================================================================\n",
            "Total params: 3,347,524\n",
            "Trainable params: 347,524\n",
            "Non-trainable params: 3,000,000\n",
            "__________________________________________________________________________________________________\n",
            "None\n"
          ]
        }
      ]
    },
    {
      "cell_type": "code",
      "source": [
        "print(fine_model.summary())\n",
        "\n",
        "history = fine_model.fit(\n",
        "    train_data, \n",
        "    train_y,\n",
        "    validation_data=(dev_data, dev_y),\n",
        "    batch_size=256,\n",
        "    epochs=20,\n",
        "    shuffle=True,\n",
        "    callbacks=[checkpoint]\n",
        "    )"
      ],
      "metadata": {
        "id": "-mTnIvRmffjq",
        "colab": {
          "base_uri": "https://localhost:8080/"
        },
        "outputId": "7d154712-b28c-417a-b2bd-c81ab228f11e"
      },
      "execution_count": null,
      "outputs": [
        {
          "output_type": "stream",
          "name": "stdout",
          "text": [
            "Model: \"model_1\"\n",
            "__________________________________________________________________________________________________\n",
            " Layer (type)                   Output Shape         Param #     Connected to                     \n",
            "==================================================================================================\n",
            " input_2 (InputLayer)           [(None, 200)]        0           []                               \n",
            "                                                                                                  \n",
            " embedding_1 (Embedding)        (None, 200, 300)     3000000     ['input_2[0][0]']                \n",
            "                                                                                                  \n",
            " dropout_2 (Dropout)            (None, 200, 300)     0           ['embedding_1[0][0]']            \n",
            "                                                                                                  \n",
            " 2-gram_Convolutions (Conv1D)   (None, 200, 128)     76928       ['dropout_2[0][0]']              \n",
            "                                                                                                  \n",
            " 3-gram_Convolutions (Conv1D)   (None, 200, 128)     115328      ['dropout_2[0][0]']              \n",
            "                                                                                                  \n",
            " 4-gram_Convolutions (Conv1D)   (None, 200, 128)     153728      ['dropout_2[0][0]']              \n",
            "                                                                                                  \n",
            " 2-gram_MaxPool (GlobalMaxPooli  (None, 128)         0           ['2-gram_Convolutions[0][0]']    \n",
            " ng1D)                                                                                            \n",
            "                                                                                                  \n",
            " 3-gram_MaxPool (GlobalMaxPooli  (None, 128)         0           ['3-gram_Convolutions[0][0]']    \n",
            " ng1D)                                                                                            \n",
            "                                                                                                  \n",
            " 4-gram_MaxPool (GlobalMaxPooli  (None, 128)         0           ['4-gram_Convolutions[0][0]']    \n",
            " ng1D)                                                                                            \n",
            "                                                                                                  \n",
            " concatenate_1 (Concatenate)    (None, 384)          0           ['2-gram_MaxPool[0][0]',         \n",
            "                                                                  '3-gram_MaxPool[0][0]',         \n",
            "                                                                  '4-gram_MaxPool[0][0]']         \n",
            "                                                                                                  \n",
            " dropout_3 (Dropout)            (None, 384)          0           ['concatenate_1[0][0]']          \n",
            "                                                                                                  \n",
            " dense_1 (Dense)                (None, 4)            1540        ['dropout_3[0][0]']              \n",
            "                                                                                                  \n",
            "==================================================================================================\n",
            "Total params: 3,347,524\n",
            "Trainable params: 347,524\n",
            "Non-trainable params: 3,000,000\n",
            "__________________________________________________________________________________________________\n",
            "None\n",
            "Epoch 1/20\n",
            "24/24 [==============================] - ETA: 0s - loss: 1.1270 - precision: 0.3164 - recall: 0.9205 - f1: 0.4702 - accuracy: 0.4740\n",
            "Epoch 1: val_f1 did not improve from 0.82531\n",
            "24/24 [==============================] - 3s 70ms/step - loss: 1.1270 - precision: 0.3164 - recall: 0.9205 - f1: 0.4702 - accuracy: 0.4740 - val_loss: 0.9839 - val_precision: 0.3501 - val_recall: 0.9234 - val_f1: 0.5077 - val_accuracy: 0.5520\n",
            "Epoch 2/20\n",
            "24/24 [==============================] - ETA: 0s - loss: 0.8145 - precision: 0.3914 - recall: 0.9596 - f1: 0.5558 - accuracy: 0.6144\n",
            "Epoch 2: val_f1 did not improve from 0.82531\n",
            "24/24 [==============================] - 1s 48ms/step - loss: 0.8145 - precision: 0.3914 - recall: 0.9596 - f1: 0.5558 - accuracy: 0.6144 - val_loss: 0.7627 - val_precision: 0.4087 - val_recall: 0.9582 - val_f1: 0.5730 - val_accuracy: 0.6428\n",
            "Epoch 3/20\n",
            "24/24 [==============================] - ETA: 0s - loss: 0.6367 - precision: 0.4452 - recall: 0.9719 - f1: 0.6105 - accuracy: 0.6885\n",
            "Epoch 3: val_f1 did not improve from 0.82531\n",
            "24/24 [==============================] - 1s 53ms/step - loss: 0.6367 - precision: 0.4452 - recall: 0.9719 - f1: 0.6105 - accuracy: 0.6885 - val_loss: 0.6383 - val_precision: 0.4624 - val_recall: 0.9410 - val_f1: 0.6200 - val_accuracy: 0.7118\n",
            "Epoch 4/20\n",
            "24/24 [==============================] - ETA: 0s - loss: 0.5188 - precision: 0.4757 - recall: 0.9772 - f1: 0.6398 - accuracy: 0.7249\n",
            "Epoch 4: val_f1 did not improve from 0.82531\n",
            "24/24 [==============================] - 1s 55ms/step - loss: 0.5188 - precision: 0.4757 - recall: 0.9772 - f1: 0.6398 - accuracy: 0.7249 - val_loss: 0.5464 - val_precision: 0.4855 - val_recall: 0.9623 - val_f1: 0.6453 - val_accuracy: 0.7355\n",
            "Epoch 5/20\n",
            "23/24 [===========================>..] - ETA: 0s - loss: 0.4429 - precision: 0.4954 - recall: 0.9845 - f1: 0.6591 - accuracy: 0.7452\n",
            "Epoch 5: val_f1 did not improve from 0.82531\n",
            "24/24 [==============================] - 1s 53ms/step - loss: 0.4431 - precision: 0.4954 - recall: 0.9848 - f1: 0.6592 - accuracy: 0.7452 - val_loss: 0.5257 - val_precision: 0.5024 - val_recall: 0.9580 - val_f1: 0.6591 - val_accuracy: 0.7525\n",
            "Epoch 6/20\n",
            "23/24 [===========================>..] - ETA: 0s - loss: 0.3898 - precision: 0.5102 - recall: 0.9871 - f1: 0.6726 - accuracy: 0.7597\n",
            "Epoch 6: val_f1 did not improve from 0.82531\n",
            "24/24 [==============================] - 1s 58ms/step - loss: 0.3880 - precision: 0.5109 - recall: 0.9876 - f1: 0.6734 - accuracy: 0.7600 - val_loss: 0.4778 - val_precision: 0.5172 - val_recall: 0.9634 - val_f1: 0.6730 - val_accuracy: 0.7660\n",
            "Epoch 7/20\n",
            "23/24 [===========================>..] - ETA: 0s - loss: 0.3444 - precision: 0.5211 - recall: 0.9885 - f1: 0.6824 - accuracy: 0.7698\n",
            "Epoch 7: val_f1 did not improve from 0.82531\n",
            "24/24 [==============================] - 1s 53ms/step - loss: 0.3440 - precision: 0.5219 - recall: 0.9889 - f1: 0.6832 - accuracy: 0.7702 - val_loss: 0.4651 - val_precision: 0.5244 - val_recall: 0.9627 - val_f1: 0.6789 - val_accuracy: 0.7725\n",
            "Epoch 8/20\n",
            "23/24 [===========================>..] - ETA: 0s - loss: 0.3069 - precision: 0.5300 - recall: 0.9913 - f1: 0.6907 - accuracy: 0.7779\n",
            "Epoch 8: val_f1 did not improve from 0.82531\n",
            "24/24 [==============================] - 1s 60ms/step - loss: 0.3067 - precision: 0.5306 - recall: 0.9917 - f1: 0.6913 - accuracy: 0.7782 - val_loss: 0.4492 - val_precision: 0.5246 - val_recall: 0.9614 - val_f1: 0.6788 - val_accuracy: 0.7727\n",
            "Epoch 9/20\n",
            "23/24 [===========================>..] - ETA: 0s - loss: 0.2818 - precision: 0.5332 - recall: 0.9925 - f1: 0.6937 - accuracy: 0.7807\n",
            "Epoch 9: val_f1 did not improve from 0.82531\n",
            "24/24 [==============================] - 1s 56ms/step - loss: 0.2811 - precision: 0.5335 - recall: 0.9925 - f1: 0.6939 - accuracy: 0.7809 - val_loss: 0.4373 - val_precision: 0.5334 - val_recall: 0.9601 - val_f1: 0.6857 - val_accuracy: 0.7800\n",
            "Epoch 10/20\n",
            "23/24 [===========================>..] - ETA: 0s - loss: 0.2525 - precision: 0.5496 - recall: 0.9924 - f1: 0.7073 - accuracy: 0.7945\n",
            "Epoch 10: val_f1 did not improve from 0.82531\n",
            "24/24 [==============================] - 2s 65ms/step - loss: 0.2531 - precision: 0.5505 - recall: 0.9927 - f1: 0.7081 - accuracy: 0.7948 - val_loss: 0.4291 - val_precision: 0.5441 - val_recall: 0.9594 - val_f1: 0.6943 - val_accuracy: 0.7888\n",
            "Epoch 11/20\n",
            "23/24 [===========================>..] - ETA: 0s - loss: 0.2285 - precision: 0.5542 - recall: 0.9952 - f1: 0.7119 - accuracy: 0.7985\n",
            "Epoch 11: val_f1 did not improve from 0.82531\n",
            "24/24 [==============================] - 2s 65ms/step - loss: 0.2283 - precision: 0.5539 - recall: 0.9951 - f1: 0.7116 - accuracy: 0.7984 - val_loss: 0.4248 - val_precision: 0.5517 - val_recall: 0.9580 - val_f1: 0.7001 - val_accuracy: 0.7947\n",
            "Epoch 12/20\n",
            "24/24 [==============================] - ETA: 0s - loss: 0.2094 - precision: 0.5595 - recall: 0.9954 - f1: 0.7163 - accuracy: 0.8028\n",
            "Epoch 12: val_f1 did not improve from 0.82531\n",
            "24/24 [==============================] - 1s 59ms/step - loss: 0.2094 - precision: 0.5595 - recall: 0.9954 - f1: 0.7163 - accuracy: 0.8028 - val_loss: 0.4070 - val_precision: 0.5567 - val_recall: 0.9646 - val_f1: 0.7059 - val_accuracy: 0.7990\n",
            "Epoch 13/20\n",
            "23/24 [===========================>..] - ETA: 0s - loss: 0.1865 - precision: 0.5704 - recall: 0.9963 - f1: 0.7254 - accuracy: 0.8113\n",
            "Epoch 13: val_f1 did not improve from 0.82531\n",
            "24/24 [==============================] - 1s 54ms/step - loss: 0.1874 - precision: 0.5706 - recall: 0.9957 - f1: 0.7253 - accuracy: 0.8113 - val_loss: 0.4069 - val_precision: 0.5681 - val_recall: 0.9633 - val_f1: 0.7146 - val_accuracy: 0.8077\n",
            "Epoch 14/20\n",
            "24/24 [==============================] - ETA: 0s - loss: 0.1769 - precision: 0.5800 - recall: 0.9969 - f1: 0.7333 - accuracy: 0.8188\n",
            "Epoch 14: val_f1 did not improve from 0.82531\n",
            "24/24 [==============================] - 1s 55ms/step - loss: 0.1769 - precision: 0.5800 - recall: 0.9969 - f1: 0.7333 - accuracy: 0.8188 - val_loss: 0.4074 - val_precision: 0.5744 - val_recall: 0.9593 - val_f1: 0.7185 - val_accuracy: 0.8122\n",
            "Epoch 15/20\n",
            "23/24 [===========================>..] - ETA: 0s - loss: 0.1559 - precision: 0.5934 - recall: 0.9971 - f1: 0.7440 - accuracy: 0.8283\n",
            "Epoch 15: val_f1 did not improve from 0.82531\n",
            "24/24 [==============================] - 1s 55ms/step - loss: 0.1559 - precision: 0.5931 - recall: 0.9972 - f1: 0.7438 - accuracy: 0.8282 - val_loss: 0.4023 - val_precision: 0.5821 - val_recall: 0.9601 - val_f1: 0.7247 - val_accuracy: 0.8177\n",
            "Epoch 16/20\n",
            "24/24 [==============================] - ETA: 0s - loss: 0.1408 - precision: 0.5990 - recall: 0.9985 - f1: 0.7488 - accuracy: 0.8322\n",
            "Epoch 16: val_f1 did not improve from 0.82531\n",
            "24/24 [==============================] - 1s 51ms/step - loss: 0.1408 - precision: 0.5990 - recall: 0.9985 - f1: 0.7488 - accuracy: 0.8322 - val_loss: 0.4108 - val_precision: 0.5782 - val_recall: 0.9568 - val_f1: 0.7208 - val_accuracy: 0.8147\n",
            "Epoch 17/20\n",
            "23/24 [===========================>..] - ETA: 0s - loss: 0.1299 - precision: 0.6048 - recall: 0.9981 - f1: 0.7531 - accuracy: 0.8363\n",
            "Epoch 17: val_f1 did not improve from 0.82531\n",
            "24/24 [==============================] - 1s 49ms/step - loss: 0.1296 - precision: 0.6057 - recall: 0.9978 - f1: 0.7538 - accuracy: 0.8365 - val_loss: 0.4081 - val_precision: 0.5842 - val_recall: 0.9520 - val_f1: 0.7241 - val_accuracy: 0.8187\n",
            "Epoch 18/20\n",
            "24/24 [==============================] - ETA: 0s - loss: 0.1200 - precision: 0.6125 - recall: 0.9997 - f1: 0.7594 - accuracy: 0.8405\n",
            "Epoch 18: val_f1 did not improve from 0.82531\n",
            "24/24 [==============================] - 1s 49ms/step - loss: 0.1200 - precision: 0.6125 - recall: 0.9997 - f1: 0.7594 - accuracy: 0.8405 - val_loss: 0.4046 - val_precision: 0.5945 - val_recall: 0.9567 - val_f1: 0.7333 - val_accuracy: 0.8260\n",
            "Epoch 19/20\n",
            "23/24 [===========================>..] - ETA: 0s - loss: 0.1083 - precision: 0.6244 - recall: 0.9997 - f1: 0.7686 - accuracy: 0.8494\n",
            "Epoch 19: val_f1 did not improve from 0.82531\n",
            "24/24 [==============================] - 1s 48ms/step - loss: 0.1088 - precision: 0.6247 - recall: 0.9997 - f1: 0.7689 - accuracy: 0.8495 - val_loss: 0.4029 - val_precision: 0.5987 - val_recall: 0.9554 - val_f1: 0.7361 - val_accuracy: 0.8288\n",
            "Epoch 20/20\n",
            "23/24 [===========================>..] - ETA: 0s - loss: 0.1002 - precision: 0.6265 - recall: 0.9997 - f1: 0.7701 - accuracy: 0.8507\n",
            "Epoch 20: val_f1 did not improve from 0.82531\n",
            "24/24 [==============================] - 1s 49ms/step - loss: 0.1000 - precision: 0.6270 - recall: 0.9997 - f1: 0.7706 - accuracy: 0.8508 - val_loss: 0.4072 - val_precision: 0.6038 - val_recall: 0.9493 - val_f1: 0.7381 - val_accuracy: 0.8315\n"
          ]
        }
      ]
    },
    {
      "cell_type": "code",
      "source": [
        "predictions_val = fine_model.predict(dev_data)\n",
        "\n",
        "#report_lr_dev = classification_report(dev_y, predictions_val, target_names=target_list, output_dict=True)"
      ],
      "metadata": {
        "id": "hymgFKaLf4Ia",
        "colab": {
          "base_uri": "https://localhost:8080/"
        },
        "outputId": "d6325b08-4904-4fd0-f439-759d0116050b"
      },
      "execution_count": null,
      "outputs": [
        {
          "output_type": "stream",
          "name": "stdout",
          "text": [
            "47/47 [==============================] - 0s 3ms/step\n"
          ]
        }
      ]
    }
  ]
}